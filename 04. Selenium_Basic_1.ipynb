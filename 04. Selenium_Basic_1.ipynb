{
 "cells": [
  {
   "cell_type": "markdown",
   "metadata": {},
   "source": [
    "# Selenium Basic 1\n",
    "- https://www.selenium.dev/documentation/\n",
    "- https://selenium-python.readthedocs.io/index.html"
   ]
  },
  {
   "cell_type": "markdown",
   "metadata": {},
   "source": [
    "## 1. Selenium Webdriver 사용하기"
   ]
  },
  {
   "cell_type": "code",
   "execution_count": 51,
   "metadata": {},
   "outputs": [],
   "source": [
    "from selenium import webdriver\n",
    "# from selenium.webdriver.common.by import By\n",
    "from selenium.webdriver.chrome.service import Service as ChromeService\n",
    "\n",
    "service = ChromeService(executable_path=\"../driver/chromedriver\")\n",
    "driver = webdriver.Chrome(service=service)\n",
    "\n",
    "driver.get(\"https://pinkwink.kr\")"
   ]
  },
  {
   "cell_type": "code",
   "execution_count": 8,
   "metadata": {},
   "outputs": [],
   "source": [
    "driver.quit()"
   ]
  },
  {
   "cell_type": "code",
   "execution_count": 12,
   "metadata": {},
   "outputs": [],
   "source": [
    "# 화면 최대 크기 설정\n",
    "driver.maximize_window()"
   ]
  },
  {
   "cell_type": "code",
   "execution_count": 11,
   "metadata": {},
   "outputs": [],
   "source": [
    "# 화면 최소 크기 설정\n",
    "driver.minimize_window()"
   ]
  },
  {
   "cell_type": "code",
   "execution_count": 13,
   "metadata": {},
   "outputs": [],
   "source": [
    "# 화면 크기 설정\n",
    "driver.set_window_size(600, 600)"
   ]
  },
  {
   "cell_type": "code",
   "execution_count": 15,
   "metadata": {},
   "outputs": [],
   "source": [
    "# 새로 고침 \n",
    "driver.refresh()"
   ]
  },
  {
   "cell_type": "code",
   "execution_count": 24,
   "metadata": {},
   "outputs": [],
   "source": [
    "# 뒤로 가기 \n",
    "driver.back()"
   ]
  },
  {
   "cell_type": "code",
   "execution_count": 17,
   "metadata": {},
   "outputs": [],
   "source": [
    "# 앞으로 가기\n",
    "driver.forward()"
   ]
  },
  {
   "cell_type": "code",
   "execution_count": 25,
   "metadata": {},
   "outputs": [],
   "source": [
    "# 요소 찾기\n",
    "from selenium.webdriver.common.by import By\n",
    "\n",
    "# 클릭\n",
    "first_content = driver.find_element(By.CSS_SELECTOR, '#content > div.cover-masonry > div > ul > li:nth-child(1)')\n",
    "first_content.click()"
   ]
  },
  {
   "cell_type": "code",
   "execution_count": 35,
   "metadata": {},
   "outputs": [],
   "source": [
    "# 새로운 탭 생성하기\n",
    "driver.execute_script('window.open(\"https://www.naver.com\")')"
   ]
  },
  {
   "cell_type": "code",
   "execution_count": 48,
   "metadata": {},
   "outputs": [],
   "source": [
    "# 탭 이동\n",
    "driver.switch_to.window(driver.window_handles[0])"
   ]
  },
  {
   "cell_type": "code",
   "execution_count": 36,
   "metadata": {},
   "outputs": [
    {
     "data": {
      "text/plain": [
       "4"
      ]
     },
     "execution_count": 36,
     "metadata": {},
     "output_type": "execute_result"
    }
   ],
   "source": [
    "len(driver.window_handles)"
   ]
  },
  {
   "cell_type": "code",
   "execution_count": 44,
   "metadata": {},
   "outputs": [],
   "source": [
    "# 탭 닫기\n",
    "driver.close()"
   ]
  },
  {
   "cell_type": "code",
   "execution_count": 50,
   "metadata": {},
   "outputs": [],
   "source": [
    "# 전체 탭 종료 \n",
    "driver.quit()"
   ]
  },
  {
   "cell_type": "markdown",
   "metadata": {},
   "source": [
    "# 2. 화면 스크롤"
   ]
  },
  {
   "cell_type": "code",
   "execution_count": 52,
   "metadata": {},
   "outputs": [
    {
     "data": {
      "text/plain": [
       "5567"
      ]
     },
     "execution_count": 52,
     "metadata": {},
     "output_type": "execute_result"
    }
   ],
   "source": [
    "# 스크롤 가능한 높이(길이)\n",
    "# 자바스크립트 코드 실행 \n",
    "driver.execute_script('return document.body.scrollHeight')"
   ]
  },
  {
   "cell_type": "code",
   "execution_count": 53,
   "metadata": {},
   "outputs": [],
   "source": [
    "# 화면 스크롤 하단 이용\n",
    "driver.execute_script('window.scrollTo(0, document.body.scrollHeight);')"
   ]
  },
  {
   "cell_type": "code",
   "execution_count": 54,
   "metadata": {},
   "outputs": [
    {
     "data": {
      "text/plain": [
       "True"
      ]
     },
     "execution_count": 54,
     "metadata": {},
     "output_type": "execute_result"
    }
   ],
   "source": [
    "# 현재 보이는 화면 스크린샷 저장\n",
    "driver.save_screenshot('./last_height.png')"
   ]
  },
  {
   "cell_type": "code",
   "execution_count": 61,
   "metadata": {},
   "outputs": [],
   "source": [
    "# 화면 스크롤 상단 이동\n",
    "driver.execute_script('window.scrollTo(0,0);')"
   ]
  },
  {
   "cell_type": "code",
   "execution_count": 62,
   "metadata": {},
   "outputs": [],
   "source": [
    "# 특정 태그 지점까지 스크롤 이동\n",
    "from selenium.webdriver import ActionChains\n",
    "\n",
    "some_tag = driver.find_element(By.CSS_SELECTOR, '#content > div.cover-list > div > ul > li:nth-child(3)')\n",
    "action = ActionChains(driver)\n",
    "action.move_to_element(some_tag).perform()"
   ]
  },
  {
   "cell_type": "code",
   "execution_count": 63,
   "metadata": {},
   "outputs": [],
   "source": [
    "driver.quit()"
   ]
  },
  {
   "cell_type": "markdown",
   "metadata": {},
   "source": [
    "## 3. 검색어 입력"
   ]
  },
  {
   "cell_type": "code",
   "execution_count": 64,
   "metadata": {},
   "outputs": [],
   "source": [
    "from selenium import webdriver\n",
    "from selenium.webdriver.common.by import By"
   ]
  },
  {
   "cell_type": "code",
   "execution_count": 66,
   "metadata": {},
   "outputs": [],
   "source": [
    "from selenium.webdriver.chrome.service import Service as ChromeService\n",
    "\n",
    "service = ChromeService(executable_path=\"../driver/chromedriver\")\n",
    "driver = webdriver.Chrome(service=service)\n",
    "\n",
    "driver.get('https://www.naver.com')"
   ]
  },
  {
   "cell_type": "code",
   "execution_count": 75,
   "metadata": {},
   "outputs": [],
   "source": [
    "keyword = driver.find_element(By.CSS_SELECTOR, '#query')\n",
    "keyword.clear()\n",
    "keyword.send_keys('딥러닝')"
   ]
  },
  {
   "cell_type": "code",
   "execution_count": 76,
   "metadata": {},
   "outputs": [],
   "source": [
    "search_btn = driver.find_element(By.CSS_SELECTOR, '#sform > fieldset > button')\n",
    "search_btn.click()"
   ]
  },
  {
   "cell_type": "markdown",
   "metadata": {},
   "source": [
    "- XPATH"
   ]
  },
  {
   "cell_type": "markdown",
   "metadata": {},
   "source": [
    "```\n",
    "'//' : 최상위\n",
    "'*' : 자손 태그\n",
    "'/' : 자식 태그\n",
    "'div[1] : div 중에서 1번째 태그 \n",
    "    \n",
    "    ex) //*[@id=\"sform\"]/section[2]/div/div[2]/fieldset/button'\n",
    "```"
   ]
  },
  {
   "cell_type": "code",
   "execution_count": 77,
   "metadata": {},
   "outputs": [],
   "source": [
    "driver.find_element(By.XPATH, '//*[@id=\"query\"]').send_keys('xpath')\n"
   ]
  },
  {
   "cell_type": "code",
   "execution_count": 79,
   "metadata": {},
   "outputs": [],
   "source": [
    "driver.find_element(By.XPATH, '//*[@id=\"sform\"]/fieldset/button').click()"
   ]
  },
  {
   "cell_type": "code",
   "execution_count": 80,
   "metadata": {},
   "outputs": [],
   "source": [
    "driver.quit()"
   ]
  },
  {
   "cell_type": "markdown",
   "metadata": {},
   "source": [
    "---"
   ]
  },
  {
   "cell_type": "code",
   "execution_count": 81,
   "metadata": {},
   "outputs": [],
   "source": [
    "from selenium import webdriver\n",
    "from selenium.webdriver.common.by import By"
   ]
  },
  {
   "cell_type": "code",
   "execution_count": 84,
   "metadata": {},
   "outputs": [],
   "source": [
    "from selenium.webdriver.chrome.service import Service as ChromeService\n",
    "\n",
    "service = ChromeService(executable_path=\"../driver/chromedriver\")\n",
    "driver = webdriver.Chrome(service=service)\n",
    "\n",
    "driver.get('https://pinkwink.kr')"
   ]
  },
  {
   "cell_type": "code",
   "execution_count": 94,
   "metadata": {},
   "outputs": [],
   "source": [
    "# 1. 돋보기 버튼을 선택\n",
    "from selenium.webdriver import ActionChains\n",
    "\n",
    "search_tag = driver.find_element(By.CSS_SELECTOR, '.search')\n",
    "action = ActionChains(driver)\n",
    "action.click(search_tag)\n",
    "action.perform()"
   ]
  },
  {
   "cell_type": "code",
   "execution_count": 95,
   "metadata": {},
   "outputs": [],
   "source": [
    "# 2. 검색어를 입력\n",
    "driver.find_element(By.CSS_SELECTOR, '#header > div.search.on > input[type=text]').send_keys('딥러닝')"
   ]
  },
  {
   "cell_type": "code",
   "execution_count": 96,
   "metadata": {},
   "outputs": [],
   "source": [
    "# 3. 검색 버튼 클릭 \n",
    "driver.find_element(By.CSS_SELECTOR,'#header > div.search.on > button').click()"
   ]
  },
  {
   "cell_type": "markdown",
   "metadata": {},
   "source": [
    "## 4. Selenium + BeautifulSoup "
   ]
  },
  {
   "cell_type": "code",
   "execution_count": 97,
   "metadata": {},
   "outputs": [
    {
     "data": {
      "text/plain": [
       "'<html lang=\"ko\"><head>\\n                <script src=\"https://partner.googleadservices.com/gampad/cookie.js?domain=pinkwink.kr&amp;callback=_gfp_s_&amp;client=ca-pub-2982459700139266&amp;cookie=ID%3D3a2e01bd0fe98c81-2217140153e20083%3AT%3D1689237740%3ART%3D1689238090%3AS%3DALNI_Mbqwfv5K7bNkG7DXY1HxqMokOT34Q&amp;gpic=UID%3D00000c206ab30462%3AT%3D1689237740%3ART%3D1689238090%3AS%3DALNI_MZo0QpkwtUuIZkDvBlZsMGXxU-Hxw\"></script><script src=\"https://pagead2.googlesyndication.com/pagead/managed/js/adsense/m202307100101/show_ads_impl_fy2021.js\" id=\"google_shimpl\"></script><script src=\"https://t1.kakaocdn.net/malibu_prod/wpm.js\" async=\"\"></script><script type=\"text/javascript\">if (!window.T) { window.T = {} }\\nwindow.T.config = {\"TOP_SSL_URL\":\"https://www.tistory.com\",\"PREVIEW\":false,\"ROLE\":\"guest\",\"PREV_PAGE\":\"\",\"NEXT_PAGE\":\"\",\"BLOG\":{\"id\":371175,\"name\":\"pinkwink\",\"title\":\"PinkWink\",\"isDormancy\":false},\"NEED_COMMENT_LOGIN\":false,\"COMMENT_LOGIN_CONFIRM_MESSAGE\":\"\",\"LOGIN_URL\":\"https://www.tistory.com/auth/login/?redirectUrl=https%3A%2F%2Fpinkwink.kr%2Fsearch%2F%2525EB%252594%2525A5%2525EB%25259F%2525AC%2525EB%25258B%25259D\",\"DEFAULT_URL\":\"https://pinkwink.kr\",\"USER\":{\"name\":null,\"homepage\":null,\"id\":0,\"profileImage\":null},\"SUBSCRIPTION\":{\"status\":\"none\",\"isConnected\":false,\"isPending\":false,\"isWait\":false,\"isProcessing\":false,\"isNone\":true},\"IS_LOGIN\":false,\"HAS_BLOG\":false,\"TOP_URL\":\"http://www.tistory.com\",\"JOIN_URL\":\"https://www.tistory.com/member/join\",\"ROLE_GROUP\":\"visitor\"};\\nwindow.appInfo = {\"domain\":\"tistory.com\",\"topUrl\":\"https://www.tistory.com\",\"loginUrl\":\"https://www.tistory.com/auth/login\",\"logoutUrl\":\"https://www.tistory.com/auth/logout\"};\\nwindow.initData = {};\\n\\nwindow.TistoryBlog = {\\n    basePath: \"\",\\n    url: \"https://pinkwink.kr\",\\n    tistoryUrl: \"https://pinkwink.tistory.com\",\\n    manageUrl: \"https://pinkwink.tistory.com/manage\",\\n    token: \"GVIS6Ew34cRriITMB/2pewSZB664c3EpnNnKqA1ZSL/niRamvSl/ek6yxw6nNKBX\"\\n};\\nvar servicePath = \"\";\\nvar blogURL = \"\";</script>\\n\\n                \\n                \\n                \\n                        <!-- BusinessLicenseInfo - START -->\\n        \\n            <link href=\"https://tistory1.daumcdn.net/tistory_admin/userblog/userblog-dbfd9cc8ecc756e56a6e0349a77ca101c4678422/static/plugin/BusinessLicenseInfo/style.css\" rel=\"stylesheet\" type=\"text/css\">\\n\\n            <script>function switchFold(entryId) {\\n    var businessLayer = document.getElementById(\"businessInfoLayer_\" + entryId);\\n\\n    if (businessLayer) {\\n        if (businessLayer.className.indexOf(\"unfold_license\") > 0) {\\n            businessLayer.className = \"business_license_layer\";\\n        } else {\\n            businessLayer.className = \"business_license_layer unfold_license\";\\n        }\\n    }\\n}\\n</script>\\n\\n        \\n        <!-- BusinessLicenseInfo - END -->\\n<!-- System - START -->\\n\\n<!-- System - END -->\\n\\n        <!-- GoogleSearchConsole - START -->\\n        \\n<!-- BEGIN GOOGLE_SITE_VERIFICATION -->\\n<meta name=\"google-site-verification\" content=\"k3AvKvWkwX7aD3-ykT5zNH4ba1F3MJShutQ5laJ8S78\">\\n<!-- END GOOGLE_SITE_VERIFICATION -->\\n\\n        <!-- GoogleSearchConsole - END -->\\n\\n        <!-- A_ShareEntryWithSNS - START -->\\n        <link href=\"https://tistory1.daumcdn.net/tistory_admin/userblog/userblog-dbfd9cc8ecc756e56a6e0349a77ca101c4678422/static/plugin/A_ShareEntryWithSNS/style.css\" rel=\"stylesheet\" type=\"text/css\">\\n<script type=\"text/javascript\" src=\"https://tistory1.daumcdn.net/tistory_admin/userblog/userblog-dbfd9cc8ecc756e56a6e0349a77ca101c4678422/static/plugin/A_ShareEntryWithSNS/script.js\"></script>\\n\\n        <!-- A_ShareEntryWithSNS - END -->\\n\\n        <!-- TistoryProfileLayer - START -->\\n        <link href=\"https://tistory1.daumcdn.net/tistory_admin/userblog/userblog-dbfd9cc8ecc756e56a6e0349a77ca101c4678422/static/plugin/TistoryProfileLayer/style.css\" rel=\"stylesheet\" type=\"text/css\">\\n<script type=\"text/javascript\" src=\"https://tistory1.daumcdn.net/tistory_admin/userblog/userblog-dbfd9cc8ecc756e56a6e0349a77ca101c4678422/static/plugin/TistoryProfileLayer/script.js\"></script>\\n\\n        <!-- TistoryProfileLayer - END -->\\n\\n                \\n                <meta http-equiv=\"X-UA-Compatible\" content=\"IE=Edge\">\\n<meta name=\"format-detection\" content=\"telephone=no\">\\n<script src=\"//t1.daumcdn.net/tistory_admin/lib/jquery/jquery-3.5.1.min.js\" integrity=\"sha256-9/aliU8dGd2tb6OSsuzixeV4y/faTqgFtohetphbbj0=\" crossorigin=\"anonymous\"></script>\\n<script src=\"//t1.daumcdn.net/tistory_admin/lib/lightbox/js/lightbox-v2.10.0.min.js\" defer=\"\"></script>\\n<script type=\"text/javascript\" src=\"//t1.daumcdn.net/tiara/js/v1/tiara.min.js\"></script><meta name=\"referrer\" content=\"always\">\\n<meta name=\"google-adsense-platform-account\" content=\"ca-host-pub-9691043933427338\">\\n<meta name=\"google-adsense-platform-domain\" content=\"tistory.com\">\\n<meta name=\"google-adsense-account\" content=\"ca-pub-2982459700139266\">\\n<meta name=\"description\" content=\"한 변두리 공학도의 블로그입니다. 재미있어 보이는 것들을 모두 기초스럽게 접근하는 블로그이며... 그보다 더욱 소중한 우리 아가 미바뤼의 발자취를 남겨두는 블로그이기도 합니다.\">\\n\\n    <!-- BEGIN OPENGRAPH -->\\n    <meta property=\"og:type\" content=\"website\">\\n<meta property=\"og:url\" content=\"https://pinkwink.kr\">\\n<meta property=\"og:site_name\" content=\"PinkWink\">\\n<meta property=\"og:title\" content=\"\\'딥러닝\\'의 검색결과\">\\n<meta property=\"og:description\" content=\"한 변두리 공학도의 블로그입니다. 재미있어 보이는 것들을 모두 기초스럽게 접근하는 블로그이며... 그보다 더욱 소중한 우리 아가 미바뤼의 발자취를 남겨두는 블로그이기도 합니다.\">\\n<meta property=\"og:image\" content=\"https://img1.daumcdn.net/thumb/R800x0/?scode=mtistory2&amp;fname=https%3A%2F%2Ft1.daumcdn.net%2Fcfile%2Ftistory%2F207EB9594D92CCFF05\">\\n<meta property=\"og:article:author\" content=\"\\'PinkWink\\'\">\\n    <!-- END OPENGRAPH -->\\n\\n    <!-- BEGIN TWITTERCARD -->\\n    <meta name=\"twitter:card\" content=\"summary_large_image\">\\n<meta name=\"twitter:site\" content=\"@TISTORY\">\\n<meta name=\"twitter:title\" content=\"\\'딥러닝\\'의 검색결과\">\\n<meta name=\"twitter:description\" content=\"한 변두리 공학도의 블로그입니다. 재미있어 보이는 것들을 모두 기초스럽게 접근하는 블로그이며... 그보다 더욱 소중한 우리 아가 미바뤼의 발자취를 남겨두는 블로그이기도 합니다.\">\\n<meta property=\"twitter:image\" content=\"https://img1.daumcdn.net/thumb/R800x0/?scode=mtistory2&amp;fname=https%3A%2F%2Ft1.daumcdn.net%2Fcfile%2Ftistory%2F207EB9594D92CCFF05\">\\n    <!-- END TWITTERCARD -->\\n<link rel=\"stylesheet\" type=\"text/css\" href=\"https://t1.daumcdn.net/tistory_admin/lib/lightbox/css/lightbox.min.css\">\\n<link rel=\"stylesheet\" type=\"text/css\" href=\"https://tistory1.daumcdn.net/tistory_admin/userblog/userblog-dbfd9cc8ecc756e56a6e0349a77ca101c4678422/static/style/font.css\">\\n<link rel=\"stylesheet\" type=\"text/css\" href=\"https://tistory1.daumcdn.net/tistory_admin/userblog/userblog-dbfd9cc8ecc756e56a6e0349a77ca101c4678422/static/style/content.css\">\\n<script type=\"text/javascript\">(function() {\\n    var tjQuery = jQuery.noConflict(true);\\n    window.tjQuery = tjQuery;\\n    window.orgjQuery = window.jQuery; window.jQuery = tjQuery;\\n    window.jQuery = window.orgjQuery; delete window.orgjQuery;\\n})()</script>\\n<script type=\"text/javascript\" src=\"https://tistory1.daumcdn.net/tistory_admin/userblog/userblog-dbfd9cc8ecc756e56a6e0349a77ca101c4678422/static/script/base.js\"></script>\\n<script type=\"text/javascript\" src=\"//developers.kakao.com/sdk/js/kakao.min.js\"></script>\\n\\n                \\n<meta charset=\"UTF-8\">\\n<meta name=\"google-site-verification\" content=\"k3AvKvWkwX7aD3-ykT5zNH4ba1F3MJShutQ5laJ8S78\">\\n<meta name=\"viewport\" content=\"user-scalable=no, initial-scale=1.0, maximum-scale=1.0, minimum-scale=1.0, width=device-width\">\\n<title>\\'딥러닝\\'의 검색결과</title>\\n<link rel=\"stylesheet\" href=\"https://tistory1.daumcdn.net/tistory/371175/skin/style.css?_version_=1687613150\">\\n<script src=\"//t1.daumcdn.net/tistory_admin/lib/jquery/jquery-1.12.4.min.js\"></script>\\n  \\n  <script async=\"\" src=\"https://pagead2.googlesyndication.com/pagead/js/adsbygoogle.js?client=ca-pub-2982459700139266\" crossorigin=\"anonymous\" data-checked-head=\"true\"></script>\\n  \\n<!-- Google tag (gtag.js) -->\\n<script async=\"\" src=\"https://www.googletagmanager.com/gtag/js?id=G-HCXDDK2V0E\"></script>\\n<script>\\n  window.dataLayer = window.dataLayer || [];\\n  function gtag(){dataLayer.push(arguments);}\\n  gtag(\\'js\\', new Date());\\n\\n  gtag(\\'config\\', \\'G-HCXDDK2V0E\\');\\n</script>\\n\\n\\n                \\n                \\n                <style type=\"text/css\">.another_category {\\n    border: 1px solid #E5E5E5;\\n    padding: 10px 10px 5px;\\n    margin: 10px 0;\\n    clear: both;\\n}\\n\\n.another_category h4 {\\n    font-size: 12px !important;\\n    margin: 0 !important;\\n    border-bottom: 1px solid #E5E5E5 !important;\\n    padding: 2px 0 6px !important;\\n}\\n\\n.another_category h4 a {\\n    font-weight: bold !important;\\n}\\n\\n.another_category table {\\n    table-layout: fixed;\\n    border-collapse: collapse;\\n    width: 100% !important;\\n    margin-top: 10px !important;\\n}\\n\\n* html .another_category table {\\n    width: auto !important;\\n}\\n\\n*:first-child + html .another_category table {\\n    width: auto !important;\\n}\\n\\n.another_category th, .another_category td {\\n    padding: 0 0 4px !important;\\n}\\n\\n.another_category th {\\n    text-align: left;\\n    font-size: 12px !important;\\n    font-weight: normal;\\n    word-break: break-all;\\n    overflow: hidden;\\n    line-height: 1.5;\\n}\\n\\n.another_category td {\\n    text-align: right;\\n    width: 80px;\\n    font-size: 11px;\\n}\\n\\n.another_category th a {\\n    font-weight: normal;\\n    text-decoration: none;\\n    border: none !important;\\n}\\n\\n.another_category th a.current {\\n    font-weight: bold;\\n    text-decoration: none !important;\\n    border-bottom: 1px solid !important;\\n}\\n\\n.another_category th span {\\n    font-weight: normal;\\n    text-decoration: none;\\n    font: 10px Tahoma, Sans-serif;\\n    border: none !important;\\n}\\n\\n.another_category_color_gray, .another_category_color_gray h4 {\\n    border-color: #E5E5E5 !important;\\n}\\n\\n.another_category_color_gray * {\\n    color: #909090 !important;\\n}\\n\\n.another_category_color_gray th a.current {\\n    border-color: #909090 !important;\\n}\\n\\n.another_category_color_gray h4, .another_category_color_gray h4 a {\\n    color: #737373 !important;\\n}\\n\\n.another_category_color_red, .another_category_color_red h4 {\\n    border-color: #F6D4D3 !important;\\n}\\n\\n.another_category_color_red * {\\n    color: #E86869 !important;\\n}\\n\\n.another_category_color_red th a.current {\\n    border-color: #E86869 !important;\\n}\\n\\n.another_category_color_red h4, .another_category_color_red h4 a {\\n    color: #ED0908 !important;\\n}\\n\\n.another_category_color_green, .another_category_color_green h4 {\\n    border-color: #CCE7C8 !important;\\n}\\n\\n.another_category_color_green * {\\n    color: #64C05B !important;\\n}\\n\\n.another_category_color_green th a.current {\\n    border-color: #64C05B !important;\\n}\\n\\n.another_category_color_green h4, .another_category_color_green h4 a {\\n    color: #3EA731 !important;\\n}\\n\\n.another_category_color_blue, .another_category_color_blue h4 {\\n    border-color: #C8DAF2 !important;\\n}\\n\\n.another_category_color_blue * {\\n    color: #477FD6 !important;\\n}\\n\\n.another_category_color_blue th a.current {\\n    border-color: #477FD6 !important;\\n}\\n\\n.another_category_color_blue h4, .another_category_color_blue h4 a {\\n    color: #1960CA !important;\\n}\\n\\n.another_category_color_violet, .another_category_color_violet h4 {\\n    border-color: #E1CEEC !important;\\n}\\n\\n.another_category_color_violet * {\\n    color: #9D64C5 !important;\\n}\\n\\n.another_category_color_violet th a.current {\\n    border-color: #9D64C5 !important;\\n}\\n\\n.another_category_color_violet h4, .another_category_color_violet h4 a {\\n    color: #7E2CB5 !important;\\n}\\n</style>\\n\\n                \\n                <link rel=\"stylesheet\" type=\"text/css\" href=\"https://tistory1.daumcdn.net/tistory_admin/userblog/userblog-dbfd9cc8ecc756e56a6e0349a77ca101c4678422/static/style/dialog.css\">\\n<link rel=\"stylesheet\" type=\"text/css\" href=\"//t1.daumcdn.net/tistory_admin/www/style/top/font.css\">\\n<link rel=\"stylesheet\" type=\"text/css\" href=\"https://tistory1.daumcdn.net/tistory_admin/userblog/userblog-dbfd9cc8ecc756e56a6e0349a77ca101c4678422/static/style/postBtn.css\">\\n<link rel=\"stylesheet\" type=\"text/css\" href=\"https://tistory1.daumcdn.net/tistory_admin/userblog/userblog-dbfd9cc8ecc756e56a6e0349a77ca101c4678422/static/style/comment.css\">\\n<link rel=\"stylesheet\" type=\"text/css\" href=\"https://tistory1.daumcdn.net/tistory_admin/userblog/userblog-dbfd9cc8ecc756e56a6e0349a77ca101c4678422/static/style/tistory.css\">\\n<link rel=\"stylesheet\" type=\"text/css\" href=\"https://tistory1.daumcdn.net/tistory_admin/userblog/userblog-dbfd9cc8ecc756e56a6e0349a77ca101c4678422/static/style/revenue.css\">\\n<link rel=\"canonical\" href=\"https://pinkwink.kr\">\\n\\n<!-- BEGIN STRUCTURED_DATA -->\\n<script type=\"application/ld+json\">\\n    {\"@context\":\"http://schema.org\",\"@type\":\"WebSite\",\"url\":\"/\",\"potentialAction\":{\"@type\":\"SearchAction\",\"target\":\"/search/{search_term_string}\",\"query-input\":\"required name=search_term_string\"}}\\n</script>\\n<!-- END STRUCTURED_DATA -->\\n<script type=\"text/javascript\" src=\"https://tistory1.daumcdn.net/tistory_admin/userblog/userblog-dbfd9cc8ecc756e56a6e0349a77ca101c4678422/static/script/common.js\"></script>\\n<script type=\"text/javascript\" src=\"https://tistory1.daumcdn.net/tistory_admin/userblog/userblog-dbfd9cc8ecc756e56a6e0349a77ca101c4678422/static/script/comment.js\" defer=\"\"></script>\\n\\n                \\n                <meta http-equiv=\"origin-trial\" content=\"A7CQXglZzTrThjGTBEn1rWTxHOEtkWivwzgea+NjyardrwlieSjVuyG44PkYgIPGs8Q9svD8sF3Yedn0BBBjXAkAAACFeyJvcmlnaW4iOiJodHRwczovL2RvdWJsZWNsaWNrLm5ldDo0NDMiLCJmZWF0dXJlIjoiUHJpdmFjeVNhbmRib3hBZHNBUElzIiwiZXhwaXJ5IjoxNjk1MTY3OTk5LCJpc1N1YmRvbWFpbiI6dHJ1ZSwiaXNUaGlyZFBhcnR5Ijp0cnVlfQ==\"><meta http-equiv=\"origin-trial\" content=\"A3vKT9yxRPjmXN3DpIiz58f5JykcWHjUo/W7hvmtjgh9jPpQgem9VbADiNovG8NkO6mRmk70Kex8/KUqAYWVWAEAAACLeyJvcmlnaW4iOiJodHRwczovL2dvb2dsZXN5bmRpY2F0aW9uLmNvbTo0NDMiLCJmZWF0dXJlIjoiUHJpdmFjeVNhbmRib3hBZHNBUElzIiwiZXhwaXJ5IjoxNjk1MTY3OTk5LCJpc1N1YmRvbWFpbiI6dHJ1ZSwiaXNUaGlyZFBhcnR5Ijp0cnVlfQ==\"><meta http-equiv=\"origin-trial\" content=\"A4A26Ymj79UVY7C7JGUS4BG1s7MdcDokAQf/RP0paks+RoTYbXHxceT/5L4iKcsleFCngi75YfNRGW2+SpVv1ggAAACLeyJvcmlnaW4iOiJodHRwczovL2dvb2dsZXRhZ3NlcnZpY2VzLmNvbTo0NDMiLCJmZWF0dXJlIjoiUHJpdmFjeVNhbmRib3hBZHNBUElzIiwiZXhwaXJ5IjoxNjk1MTY3OTk5LCJpc1N1YmRvbWFpbiI6dHJ1ZSwiaXNUaGlyZFBhcnR5Ijp0cnVlfQ==\"><meta http-equiv=\"origin-trial\" content=\"As0hBNJ8h++fNYlkq8cTye2qDLyom8NddByiVytXGGD0YVE+2CEuTCpqXMDxdhOMILKoaiaYifwEvCRlJ/9GcQ8AAAB8eyJvcmlnaW4iOiJodHRwczovL2RvdWJsZWNsaWNrLm5ldDo0NDMiLCJmZWF0dXJlIjoiV2ViVmlld1hSZXF1ZXN0ZWRXaXRoRGVwcmVjYXRpb24iLCJleHBpcnkiOjE3MTk1MzI3OTksImlzU3ViZG9tYWluIjp0cnVlfQ==\"><meta http-equiv=\"origin-trial\" content=\"AgRYsXo24ypxC89CJanC+JgEmraCCBebKl8ZmG7Tj5oJNx0cmH0NtNRZs3NB5ubhpbX/bIt7l2zJOSyO64NGmwMAAACCeyJvcmlnaW4iOiJodHRwczovL2dvb2dsZXN5bmRpY2F0aW9uLmNvbTo0NDMiLCJmZWF0dXJlIjoiV2ViVmlld1hSZXF1ZXN0ZWRXaXRoRGVwcmVjYXRpb24iLCJleHBpcnkiOjE3MTk1MzI3OTksImlzU3ViZG9tYWluIjp0cnVlfQ==\"><meta http-equiv=\"origin-trial\" content=\"A7CQXglZzTrThjGTBEn1rWTxHOEtkWivwzgea+NjyardrwlieSjVuyG44PkYgIPGs8Q9svD8sF3Yedn0BBBjXAkAAACFeyJvcmlnaW4iOiJodHRwczovL2RvdWJsZWNsaWNrLm5ldDo0NDMiLCJmZWF0dXJlIjoiUHJpdmFjeVNhbmRib3hBZHNBUElzIiwiZXhwaXJ5IjoxNjk1MTY3OTk5LCJpc1N1YmRvbWFpbiI6dHJ1ZSwiaXNUaGlyZFBhcnR5Ijp0cnVlfQ==\"><meta http-equiv=\"origin-trial\" content=\"A3vKT9yxRPjmXN3DpIiz58f5JykcWHjUo/W7hvmtjgh9jPpQgem9VbADiNovG8NkO6mRmk70Kex8/KUqAYWVWAEAAACLeyJvcmlnaW4iOiJodHRwczovL2dvb2dsZXN5bmRpY2F0aW9uLmNvbTo0NDMiLCJmZWF0dXJlIjoiUHJpdmFjeVNhbmRib3hBZHNBUElzIiwiZXhwaXJ5IjoxNjk1MTY3OTk5LCJpc1N1YmRvbWFpbiI6dHJ1ZSwiaXNUaGlyZFBhcnR5Ijp0cnVlfQ==\"><meta http-equiv=\"origin-trial\" content=\"A4A26Ymj79UVY7C7JGUS4BG1s7MdcDokAQf/RP0paks+RoTYbXHxceT/5L4iKcsleFCngi75YfNRGW2+SpVv1ggAAACLeyJvcmlnaW4iOiJodHRwczovL2dvb2dsZXRhZ3NlcnZpY2VzLmNvbTo0NDMiLCJmZWF0dXJlIjoiUHJpdmFjeVNhbmRib3hBZHNBUElzIiwiZXhwaXJ5IjoxNjk1MTY3OTk5LCJpc1N1YmRvbWFpbiI6dHJ1ZSwiaXNUaGlyZFBhcnR5Ijp0cnVlfQ==\"><meta http-equiv=\"origin-trial\" content=\"As0hBNJ8h++fNYlkq8cTye2qDLyom8NddByiVytXGGD0YVE+2CEuTCpqXMDxdhOMILKoaiaYifwEvCRlJ/9GcQ8AAAB8eyJvcmlnaW4iOiJodHRwczovL2RvdWJsZWNsaWNrLm5ldDo0NDMiLCJmZWF0dXJlIjoiV2ViVmlld1hSZXF1ZXN0ZWRXaXRoRGVwcmVjYXRpb24iLCJleHBpcnkiOjE3MTk1MzI3OTksImlzU3ViZG9tYWluIjp0cnVlfQ==\"><meta http-equiv=\"origin-trial\" content=\"AgRYsXo24ypxC89CJanC+JgEmraCCBebKl8ZmG7Tj5oJNx0cmH0NtNRZs3NB5ubhpbX/bIt7l2zJOSyO64NGmwMAAACCeyJvcmlnaW4iOiJodHRwczovL2dvb2dsZXN5bmRpY2F0aW9uLmNvbTo0NDMiLCJmZWF0dXJlIjoiV2ViVmlld1hSZXF1ZXN0ZWRXaXRoRGVwcmVjYXRpb24iLCJleHBpcnkiOjE3MTk1MzI3OTksImlzU3ViZG9tYWluIjp0cnVlfQ==\"><meta http-equiv=\"origin-trial\" content=\"A7CQXglZzTrThjGTBEn1rWTxHOEtkWivwzgea+NjyardrwlieSjVuyG44PkYgIPGs8Q9svD8sF3Yedn0BBBjXAkAAACFeyJvcmlnaW4iOiJodHRwczovL2RvdWJsZWNsaWNrLm5ldDo0NDMiLCJmZWF0dXJlIjoiUHJpdmFjeVNhbmRib3hBZHNBUElzIiwiZXhwaXJ5IjoxNjk1MTY3OTk5LCJpc1N1YmRvbWFpbiI6dHJ1ZSwiaXNUaGlyZFBhcnR5Ijp0cnVlfQ==\"><meta http-equiv=\"origin-trial\" content=\"A3vKT9yxRPjmXN3DpIiz58f5JykcWHjUo/W7hvmtjgh9jPpQgem9VbADiNovG8NkO6mRmk70Kex8/KUqAYWVWAEAAACLeyJvcmlnaW4iOiJodHRwczovL2dvb2dsZXN5bmRpY2F0aW9uLmNvbTo0NDMiLCJmZWF0dXJlIjoiUHJpdmFjeVNhbmRib3hBZHNBUElzIiwiZXhwaXJ5IjoxNjk1MTY3OTk5LCJpc1N1YmRvbWFpbiI6dHJ1ZSwiaXNUaGlyZFBhcnR5Ijp0cnVlfQ==\"><meta http-equiv=\"origin-trial\" content=\"A4A26Ymj79UVY7C7JGUS4BG1s7MdcDokAQf/RP0paks+RoTYbXHxceT/5L4iKcsleFCngi75YfNRGW2+SpVv1ggAAACLeyJvcmlnaW4iOiJodHRwczovL2dvb2dsZXRhZ3NlcnZpY2VzLmNvbTo0NDMiLCJmZWF0dXJlIjoiUHJpdmFjeVNhbmRib3hBZHNBUElzIiwiZXhwaXJ5IjoxNjk1MTY3OTk5LCJpc1N1YmRvbWFpbiI6dHJ1ZSwiaXNUaGlyZFBhcnR5Ijp0cnVlfQ==\"><meta http-equiv=\"origin-trial\" content=\"As0hBNJ8h++fNYlkq8cTye2qDLyom8NddByiVytXGGD0YVE+2CEuTCpqXMDxdhOMILKoaiaYifwEvCRlJ/9GcQ8AAAB8eyJvcmlnaW4iOiJodHRwczovL2RvdWJsZWNsaWNrLm5ldDo0NDMiLCJmZWF0dXJlIjoiV2ViVmlld1hSZXF1ZXN0ZWRXaXRoRGVwcmVjYXRpb24iLCJleHBpcnkiOjE3MTk1MzI3OTksImlzU3ViZG9tYWluIjp0cnVlfQ==\"><meta http-equiv=\"origin-trial\" content=\"AgRYsXo24ypxC89CJanC+JgEmraCCBebKl8ZmG7Tj5oJNx0cmH0NtNRZs3NB5ubhpbX/bIt7l2zJOSyO64NGmwMAAACCeyJvcmlnaW4iOiJodHRwczovL2dvb2dsZXN5bmRpY2F0aW9uLmNvbTo0NDMiLCJmZWF0dXJlIjoiV2ViVmlld1hSZXF1ZXN0ZWRXaXRoRGVwcmVjYXRpb24iLCJleHBpcnkiOjE3MTk1MzI3OTksImlzU3ViZG9tYWluIjp0cnVlfQ==\"><meta http-equiv=\"origin-trial\" content=\"A7CQXglZzTrThjGTBEn1rWTxHOEtkWivwzgea+NjyardrwlieSjVuyG44PkYgIPGs8Q9svD8sF3Yedn0BBBjXAkAAACFeyJvcmlnaW4iOiJodHRwczovL2RvdWJsZWNsaWNrLm5ldDo0NDMiLCJmZWF0dXJlIjoiUHJpdmFjeVNhbmRib3hBZHNBUElzIiwiZXhwaXJ5IjoxNjk1MTY3OTk5LCJpc1N1YmRvbWFpbiI6dHJ1ZSwiaXNUaGlyZFBhcnR5Ijp0cnVlfQ==\"><meta http-equiv=\"origin-trial\" content=\"A3vKT9yxRPjmXN3DpIiz58f5JykcWHjUo/W7hvmtjgh9jPpQgem9VbADiNovG8NkO6mRmk70Kex8/KUqAYWVWAEAAACLeyJvcmlnaW4iOiJodHRwczovL2dvb2dsZXN5bmRpY2F0aW9uLmNvbTo0NDMiLCJmZWF0dXJlIjoiUHJpdmFjeVNhbmRib3hBZHNBUElzIiwiZXhwaXJ5IjoxNjk1MTY3OTk5LCJpc1N1YmRvbWFpbiI6dHJ1ZSwiaXNUaGlyZFBhcnR5Ijp0cnVlfQ==\"><meta http-equiv=\"origin-trial\" content=\"A4A26Ymj79UVY7C7JGUS4BG1s7MdcDokAQf/RP0paks+RoTYbXHxceT/5L4iKcsleFCngi75YfNRGW2+SpVv1ggAAACLeyJvcmlnaW4iOiJodHRwczovL2dvb2dsZXRhZ3NlcnZpY2VzLmNvbTo0NDMiLCJmZWF0dXJlIjoiUHJpdmFjeVNhbmRib3hBZHNBUElzIiwiZXhwaXJ5IjoxNjk1MTY3OTk5LCJpc1N1YmRvbWFpbiI6dHJ1ZSwiaXNUaGlyZFBhcnR5Ijp0cnVlfQ==\"><meta http-equiv=\"origin-trial\" content=\"As0hBNJ8h++fNYlkq8cTye2qDLyom8NddByiVytXGGD0YVE+2CEuTCpqXMDxdhOMILKoaiaYifwEvCRlJ/9GcQ8AAAB8eyJvcmlnaW4iOiJodHRwczovL2RvdWJsZWNsaWNrLm5ldDo0NDMiLCJmZWF0dXJlIjoiV2ViVmlld1hSZXF1ZXN0ZWRXaXRoRGVwcmVjYXRpb24iLCJleHBpcnkiOjE3MTk1MzI3OTksImlzU3ViZG9tYWluIjp0cnVlfQ==\"><meta http-equiv=\"origin-trial\" content=\"AgRYsXo24ypxC89CJanC+JgEmraCCBebKl8ZmG7Tj5oJNx0cmH0NtNRZs3NB5ubhpbX/bIt7l2zJOSyO64NGmwMAAACCeyJvcmlnaW4iOiJodHRwczovL2dvb2dsZXN5bmRpY2F0aW9uLmNvbTo0NDMiLCJmZWF0dXJlIjoiV2ViVmlld1hSZXF1ZXN0ZWRXaXRoRGVwcmVjYXRpb24iLCJleHBpcnkiOjE3MTk1MzI3OTksImlzU3ViZG9tYWluIjp0cnVlfQ==\"><link rel=\"preload\" href=\"https://adservice.google.com/adsid/integrator.js?domain=pinkwink.kr\" as=\"script\"><script type=\"text/javascript\" src=\"https://adservice.google.com/adsid/integrator.js?domain=pinkwink.kr\"></script></head>\\n                                <body id=\"tt-body-search\" class=\"color-gray post-type-text paging-view-more\">\\n                \\n                \\n\\n<div id=\"acc-nav\">\\n  <a href=\"#content\">본문 바로가기</a>\\n</div>\\n<div id=\"wrap\" style=\"height: auto !important;\">\\n  <header id=\"header\">\\n    <h1><a href=\"https://pinkwink.kr/\">PinkWink</a></h1>\\n    <button type=\"button\" class=\"mobile-menu\"><span>메뉴</span></button>\\n    <div class=\"menu\">\\n      <nav id=\"gnb\">\\n        <ul class=\"tt_category\"><li class=\"\"><a href=\"/category\" class=\"link_tit\"> Posts by PinkWink <span class=\"c_cnt\">(1305)</span> </a>\\n  <ul class=\"category_list\"><li class=\"\"><a href=\"/category/Education\" class=\"link_item\"> Education <span class=\"c_cnt\">(39)</span> </a></li>\\n<li class=\"\"><a href=\"/category/Robot\" class=\"link_item\"> Robot <span class=\"c_cnt\">(160)</span> </a>\\n  <ul class=\"sub_category_list\"><li class=\"\"><a href=\"/category/Robot/Project\" class=\"link_sub_item\"> Project <span class=\"c_cnt\">(43)</span> </a></li>\\n<li class=\"\"><a href=\"/category/Robot/Robot%20Program%20-%20ROS\" class=\"link_sub_item\"> Robot Program - ROS <span class=\"c_cnt\">(65)</span> </a></li>\\n<li class=\"\"><a href=\"/category/Robot/Robot%20Module\" class=\"link_sub_item\"> Robot Module <span class=\"c_cnt\">(16)</span> </a></li>\\n<li class=\"\"><a href=\"/category/Robot/Block%20Coding\" class=\"link_sub_item\"> Block Coding <span class=\"c_cnt\">(13)</span> </a></li>\\n<li class=\"\"><a href=\"/category/Robot/Reference\" class=\"link_sub_item\"> Reference <span class=\"c_cnt\">(23)</span> </a></li>\\n</ul>\\n</li>\\n<li class=\"\"><a href=\"/category/Theory\" class=\"link_item\"> Theory <span class=\"c_cnt\">(228)</span> </a>\\n  <ul class=\"sub_category_list\"><li class=\"\"><a href=\"/category/Theory/ControlTheory\" class=\"link_sub_item\"> ControlTheory <span class=\"c_cnt\">(53)</span> </a></li>\\n<li class=\"\"><a href=\"/category/Theory/DataScience\" class=\"link_sub_item\"> DataScience <span class=\"c_cnt\">(52)</span> </a></li>\\n<li class=\"\"><a href=\"/category/Theory/MachineLearning\" class=\"link_sub_item\"> MachineLearning <span class=\"c_cnt\">(7)</span> </a></li>\\n<li class=\"\"><a href=\"/category/Theory/DeepLearning\" class=\"link_sub_item\"> DeepLearning <span class=\"c_cnt\">(19)</span> </a></li>\\n<li class=\"\"><a href=\"/category/Theory/Project\" class=\"link_sub_item\"> Project <span class=\"c_cnt\">(5)</span> </a></li>\\n<li class=\"\"><a href=\"/category/Theory/Lecture\" class=\"link_sub_item\"> Lecture <span class=\"c_cnt\">(77)</span> </a></li>\\n<li class=\"\"><a href=\"/category/Theory/Review\" class=\"link_sub_item\"> Review <span class=\"c_cnt\">(15)</span> </a></li>\\n</ul>\\n</li>\\n<li class=\"\"><a href=\"/category/Software\" class=\"link_item\"> Software <span class=\"c_cnt\">(301)</span> </a>\\n  <ul class=\"sub_category_list\"><li class=\"\"><a href=\"/category/Software/MATLAB\" class=\"link_sub_item\"> MATLAB <span class=\"c_cnt\">(65)</span> </a></li>\\n<li class=\"\"><a href=\"/category/Software/Python\" class=\"link_sub_item\"> Python <span class=\"c_cnt\">(78)</span> </a></li>\\n<li class=\"\"><a href=\"/category/Software/Processing\" class=\"link_sub_item\"> Processing <span class=\"c_cnt\">(11)</span> </a></li>\\n<li class=\"\"><a href=\"/category/Software/Ubuntu%20and%20Mint\" class=\"link_sub_item\"> Ubuntu and Mint <span class=\"c_cnt\">(39)</span> </a></li>\\n<li class=\"\"><a href=\"/category/Software/Mac%20OS\" class=\"link_sub_item\"> Mac OS <span class=\"c_cnt\">(25)</span> </a></li>\\n<li class=\"\"><a href=\"/category/Software/Useful%20SW\" class=\"link_sub_item\"> Useful SW <span class=\"c_cnt\">(60)</span> </a></li>\\n<li class=\"\"><a href=\"/category/Software/Useful%20Site\" class=\"link_sub_item\"> Useful Site <span class=\"c_cnt\">(23)</span> </a></li>\\n</ul>\\n</li>\\n<li class=\"\"><a href=\"/category/Hardware\" class=\"link_item\"> Hardware <span class=\"c_cnt\">(98)</span> </a>\\n  <ul class=\"sub_category_list\"><li class=\"\"><a href=\"/category/Hardware/SBC%20%28rasp%2C%20jetson%2C%20latte%20panda%29\" class=\"link_sub_item\"> SBC (rasp, jetson, latte pa.. <span class=\"c_cnt\">(20)</span> </a></li>\\n<li class=\"\"><a href=\"/category/Hardware/Arduino%20and%20Friends\" class=\"link_sub_item\"> Arduino and Friends <span class=\"c_cnt\">(29)</span> </a></li>\\n<li class=\"\"><a href=\"/category/Hardware/MCU\" class=\"link_sub_item\"> MCU <span class=\"c_cnt\">(16)</span> </a></li>\\n<li class=\"\"><a href=\"/category/Hardware/Review\" class=\"link_sub_item\"> Review <span class=\"c_cnt\">(33)</span> </a></li>\\n</ul>\\n</li>\\n<li class=\"\"><a href=\"/category/%EB%AC%B8%ED%99%94%EC%83%9D%ED%99%9C\" class=\"link_item\"> 문화생활 <span class=\"c_cnt\">(137)</span> </a>\\n  <ul class=\"sub_category_list\"><li class=\"\"><a href=\"/category/%EB%AC%B8%ED%99%94%EC%83%9D%ED%99%9C/%EA%B0%90%EC%83%81%ED%95%98%EA%B8%B0\" class=\"link_sub_item\"> 감상하기 <span class=\"c_cnt\">(28)</span> </a></li>\\n<li class=\"\"><a href=\"/category/%EB%AC%B8%ED%99%94%EC%83%9D%ED%99%9C/%EA%B0%80%EB%B3%BC%EA%B1%B0%EB%A6%AC.%EC%84%B8%EA%B3%84\" class=\"link_sub_item\"> 가볼거리.세계 <span class=\"c_cnt\">(82)</span> </a></li>\\n<li class=\"\"><a href=\"/category/%EB%AC%B8%ED%99%94%EC%83%9D%ED%99%9C/%EC%97%AD%EC%82%AC%EC%9D%B4%EC%95%BC%EA%B8%B0\" class=\"link_sub_item\"> 역사이야기 <span class=\"c_cnt\">(27)</span> </a></li>\\n</ul>\\n</li>\\n<li class=\"\"><a href=\"/category/%EC%9D%BC%EC%83%81%EC%83%9D%ED%99%9C\" class=\"link_item\"> 일상생활 <span class=\"c_cnt\">(342)</span> </a>\\n  <ul class=\"sub_category_list\"><li class=\"\"><a href=\"/category/%EC%9D%BC%EC%83%81%EC%83%9D%ED%99%9C/%EC%95%84%EA%B0%80%20%EB%AF%B8%EB%B0%94%EB%A4%BC\" class=\"link_sub_item\"> 아가 미바뤼 <span class=\"c_cnt\">(66)</span> </a></li>\\n<li class=\"\"><a href=\"/category/%EC%9D%BC%EC%83%81%EC%83%9D%ED%99%9C/%EB%81%84%EC%A0%81%EA%B1%B0%EB%A6%BC\" class=\"link_sub_item\"> 끄적거림 <span class=\"c_cnt\">(121)</span> </a></li>\\n<li class=\"\"><a href=\"/category/%EC%9D%BC%EC%83%81%EC%83%9D%ED%99%9C/%EB%A8%B9%EC%9D%84%EA%B1%B0%EB%A6%AC\" class=\"link_sub_item\"> 먹을거리 <span class=\"c_cnt\">(50)</span> </a></li>\\n<li class=\"\"><a href=\"/category/%EC%9D%BC%EC%83%81%EC%83%9D%ED%99%9C/%EA%B0%80%EB%B3%BC%EA%B1%B0%EB%A6%AC.%ED%95%9C%EA%B5%AD\" class=\"link_sub_item\"> 가볼거리.한국 <span class=\"c_cnt\">(91)</span> </a></li>\\n<li class=\"\"><a href=\"/category/%EC%9D%BC%EC%83%81%EC%83%9D%ED%99%9C/%ED%88%AC%EB%8D%9C%EA%B1%B0%EB%A6%BC\" class=\"link_sub_item\"> 투덜거림 <span class=\"c_cnt\">(14)</span> </a></li>\\n</ul>\\n</li>\\n</ul>\\n</li>\\n</ul>\\n\\n      </nav>\\n      <div class=\"social-link\">\\n        \\n        \\n        \\n        \\n      </div>\\n      <p>POWERED BY TISTORY</p>\\n    </div>\\n    <div class=\"search\">\\n      \\n          <input type=\"text\" name=\"search\" value=\"딥러닝\" placeholder=\"검색내용을 입력하세요.\" onkeypress=\"if (event.keyCode == 13) { try {\\n    window.location.href = \\'/search\\' + \\'/\\' + looseURIEncode(document.getElementsByName(\\'search\\')[0].value);\\n    document.getElementsByName(\\'search\\')[0].value = \\'\\';\\n    return false;\\n} catch (e) {} }\">\\n          <button type=\"submit\" onclick=\"try {\\n    window.location.href = \\'/search\\' + \\'/\\' + looseURIEncode(document.getElementsByName(\\'search\\')[0].value);\\n    document.getElementsByName(\\'search\\')[0].value = \\'\\';\\n    return false;\\n} catch (e) {}\">검색</button>\\n        \\n    </div>\\n  </header>\\n  <hr>\\n  <section class=\"container\">\\n    \\n    <article id=\"content\">\\n      \\n\\n      \\n\\n      \\n\\n      \\n        <div class=\"post-header\">\\n          <span><h1>딥러닝</h1></span>\\n          <span style=\"padding-left: 5px; font-weight: bold;\">(65)\\n          <div class=\"list-type\">\\n            <button type=\"button\" class=\"thum\">썸네일형</button>\\n            <button type=\"button\" class=\"list current\">리스트형</button>\\n          </div>\\n        </span></div>\\n      \\n\\n      <div class=\"inner\">\\n        \\n\\n                \\n            \\n  \\n    <div class=\"post-item\">\\n      <a href=\"/1427\">\\n        <span class=\"thum\">\\n          \\n            <img src=\"//i1.daumcdn.net/thumb/C264x200/?fname=https://blog.kakaocdn.net/dn/mZyxa/btskllcT9gn/RncR5K8s9eJ03JkKaexNaK/img.png\" alt=\"\">\\n          \\n        </span>\\n        <span class=\"title\">영상 인식에 필요한 기초 기법 간편 정리 - ArUCo Marker, YOLO 등</span>\\n        <span class=\"date\">2023. 6. 19. 09:11</span>\\n        <span class=\"excerpt\">이번에는 로봇에서 영상인식, 혹은 간단한 프로젝트에서 영상을 인식하는 부분에 대해 간단히 정리해서 유투브에 올렸습니다. 여러가지를 모두 다루면 좋겠지만, 윈도우 환경에서 설명을 했고, OpenCV 기초, ArUCo Marker 이야기, YOLO, YOLO를 위한 라벨링 작업등을 초~간단하게 설명했습니다. 먼저 아래 링크는 영상 전체의 재생목록입니다. https://www.youtube.com/playlist?list=PL83j7f4UkozEKBsOgKNEy79w5ClNMtxSF 영상 인식에 필요한 기법 간편 정리 이번에는 로봇에서 영상인식, 혹은 간단한 프로젝트에서 영상을 인식하는 부분에 대해 간단히 정리해서 유투브에 올렸습니다. 여러가지를 모두 다루면 좋겠지만, 윈도우 환경에서 설명을 했고, www.y..</span>\\n      </a>\\n    </div>\\n  \\n  \\n\\n            \\n        \\n            \\n  \\n    <div class=\"post-item\">\\n      <a href=\"/1426\">\\n        <span class=\"thum\">\\n          \\n            <img src=\"//i1.daumcdn.net/thumb/C264x200/?fname=https://blog.kakaocdn.net/dn/bpcaLp/btsjlEE1g6j/ytddI9gaz4lkPBsz6A5RVK/img.png\" alt=\"\">\\n          \\n        </span>\\n        <span class=\"title\">[수강생 프로젝트 소개] 리뷰 분석 및 리뷰 가치 평가</span>\\n        <span class=\"date\">2023. 6. 12. 08:00</span>\\n        <span class=\"excerpt\">이번에 소개해 드릴 프로젝트는 제가 전임강사로 있는 제로베이스의 한 수강생들의 프로젝트입니다. 제로베이스의 수업은 저와 본격적으로 만나게 되는 프로젝트 단계까지 도착하시는 분들이 여러 사정으로 비율로는 낮게 오시는데요. 그 일련의 과정을 버티고 버텨서 도착하신 분들이라 꽤 수준 높은 프로젝트를 진행할 때가 많습니다. 이번에 소개해드릴 팀도 재미있는 프로젝트를 멋지게 수행한 팀 중 한 팀입니다. 개요 제목을 귀여운 공격적 스타일(^?^)로 잘 뽑은 것 같습니다. 그러나 제목에서 하고자 하는 일이 바로 들어나죠. 쇼핑몰의 상품에 달린 리뷰의 사진이 올바르게 찍혔냐는 부분을 검증하는 것으로 보시면 됩니다. 네 위 그림에서 보여주듯이, 좋은 리뷰에게 좋은 보상을 하도록 해서 리뷰 시스템을 건전하게 만들겠다는 것..</span>\\n      </a>\\n    </div>\\n  \\n  \\n\\n            \\n        \\n            \\n  \\n    <div class=\"post-item\">\\n      <a href=\"/1423\">\\n        <span class=\"thum\">\\n          \\n            <img src=\"//i1.daumcdn.net/thumb/C264x200/?fname=https://blog.kakaocdn.net/dn/b2u9XJ/btsgpYNip1p/4ArmaU8DKLL6EkhVlXMn2K/img.png\" alt=\"\">\\n          \\n        </span>\\n        <span class=\"title\">핑크랩이 진행한 H Mobility 해커톤 대회 이야기</span>\\n        <span class=\"date\">2023. 5. 18. 17:44</span>\\n        <span class=\"excerpt\">작년 11월에 저희 핑크랩이 현대자동차의 H-Mobility 해커톤 대회를 진행하게 되었다고 하고, 첫 행사를 진행한 후 글을 올렸었습니다. 그리고 애초 계약했던 두 번째 행사를 지난 주 주말, 5월 13일 14일에 진행해서 이제 전체 진행을 마쳤습니다. 대회의 주제 자체는 지난번 글에서 다루어서 아래 글을 보시고, 오늘은 저와 저희 팀 - 핑크랩의 이야기를 해보려고 합니다. 해커톤을 어떻게 준비해 갔는지를 이야기를 해볼까 합니다. https://pinkwink.kr/1400 22년 11월 H-Mobility Robotics 해커톤 대회를 마쳤습니다 얼마전에 저희 핑크랩이 현대 H 모빌리티 로보틱스 해커톤 대회를 연다고 했었는데요. https://pinkwink.kr/1397 핑크랩이 H-Mobility..</span>\\n      </a>\\n    </div>\\n  \\n  \\n\\n            \\n        \\n            \\n  \\n    <div class=\"post-item\">\\n      <a href=\"/1421\">\\n        <span class=\"thum\">\\n          \\n            <img src=\"//i1.daumcdn.net/thumb/C264x200/?fname=https://blog.kakaocdn.net/dn/mRax9/btsc1u1UlQl/dgpqyFQtJ2f27FKr0SXu31/img.png\" alt=\"\">\\n          \\n        </span>\\n        <span class=\"title\">[수강생 프로젝트 소개] 자율주행 로봇 SW 개발 - 차선인식, 장애물 회피, SLAM, ROS2</span>\\n        <span class=\"date\">2023. 4. 28. 08:00</span>\\n        <span class=\"excerpt\">최근 저는 정말 바쁜 날을 보내고 있습니다. 그 와중에 그래도 소개할 팀은 또 소개해야죠?^^ 이번에 소개할 팀의 결과물은 저에게 딥러닝과 ROS2 등의 수업을 시작한지 대략 5개월이 되던 시점에 시작한 프로젝트의 결과입니다. 처음에는 어미로봇이 아가로봇(^^)들을 데리고 실외를 주행한 다음 실내에서는 아가로봇들이 동작하는 컨셉이었습니다. 그러나 배우는 단계의 학생들이라 자금의 여력이 충분치 않아서 안타깝게도 많이 생략해야 했던 ... 슬픔이 있습니다. 그래도 저는 이 팀이 잘했다 싶은 것은 스스로 수행한 일들이 아래와 같기 때문입니다. 차선 인식을 하기 위한 segmentation 모델 학습 인식된 차선으로 로봇 기동하기 차선 위의 장애물을 감지하고 회피 기동하기 ROS2 slam을 이용해서 맵빌딩하고..</span>\\n      </a>\\n    </div>\\n  \\n  \\n\\n            \\n        \\n            \\n  \\n    <div class=\"post-item\">\\n      <a href=\"/1420\">\\n        <span class=\"thum\">\\n          \\n            <img src=\"//i1.daumcdn.net/thumb/C264x200/?fname=https://blog.kakaocdn.net/dn/caNtI3/btr1UVcjBwM/AfYo8FZdds3KtvbaTzI8n1/img.png\" alt=\"\">\\n          \\n        </span>\\n        <span class=\"title\">핑크랩이 carla, autoware, ROS2 관련 프로젝트를 시작합니다.</span>\\n        <span class=\"date\">2023. 3. 4. 17:38</span>\\n        <span class=\"excerpt\">저는 최근 긴기간 진행한 AI 로봇 기술관련 [해당회사에서는 로봇으로 제품을 출시하는 것이 아니어서^^] 프로젝트를 마치고 잠시 소강상태였다가 이번에 새롭게 짧은 기간으로 새로운 프로젝트를 진행합니다. carla는 자율주행 시스템용 시뮬레이터로 unreal 엔진 기반인데 요즘 관심있는 분들이 많으시죠. 이번 클라이언트는 무거운 이 도구들과 ROS2를 이용하여 원할한 시뮬레이션 환경을 회사내에 구축하고 싶어 합니다. 그래서 클라이언트와의 상담으로 저희 핑크랩은 인턴쉽을 핑크랩 내에서 진행하고 해당 인턴이 클라이언트가 원하는 산출물을 직접 개발하도록 유도하고 그 산출물과 함께 직원으로 해당 회사에 합류하도록 진행합니다. 매우 핑크랩과 어울리는 진행입니다.^^. CARLA는 처음부터 자율 주행 시스템의 개발,..</span>\\n      </a>\\n    </div>\\n  \\n  \\n\\n            \\n        \\n            \\n  \\n    <div class=\"post-item\">\\n      <a href=\"/1418\">\\n        <span class=\"thum\">\\n          \\n            <img src=\"//i1.daumcdn.net/thumb/C264x200/?fname=https://blog.kakaocdn.net/dn/bnHsDt/btr0KF2NtZR/40T4qNlmelrOhlkDQ2fnO1/img.png\" alt=\"\">\\n          \\n        </span>\\n        <span class=\"title\">아트센터 나비에서 예술쪽 분들에게 아두이노 교육을 진행했습니다.</span>\\n        <span class=\"date\">2023. 2. 27. 08:49</span>\\n        <span class=\"excerpt\">시작은 작년인 2022년 10월부터입니다. 어떤때는 일주에 한번, 또 어떤때는 2~3주 걸러 한 번씩 금요일마다 오후에 진행되었습니다. 처음 이 건을 의뢰해 주신 분은 한국로봇융합연구원이었습니다. 담당자님~ 감사합니다.^^. 의뢰의 내용은 공학쪽이 아닌 분들에게 아두이노를 이야기하고 이분들이 스스로 뭔가를 할 수 있도록 교육을 진행할 수 있는지였습니다. 일단, 아트센터 나비라는 이름만으로도 꽤 재미있겠다 싶었습니다. 초반의 교육은 수서에 있는 로봇리빙랩에서 진행했고, 후반 교육은 서울시 서린동에 있는 아트센터 나비에서 진행했습니다. 이번에는 나비를 소개하는 몇몇 사진과 또 그 중 한 팀의 결과를 소개하려고 합니다. 아트센터 나비의 정문입니다. 들어가자 마자 보이는 공간입니다. 뭔가 이것저것 많이 배치된것..</span>\\n      </a>\\n    </div>\\n  \\n  \\n\\n            \\n        \\n            \\n  \\n    <div class=\"post-item\">\\n      <a href=\"/1417\">\\n        <span class=\"thum\">\\n          \\n            <img src=\"//i1.daumcdn.net/thumb/C264x200/?fname=https://blog.kakaocdn.net/dn/bdSuwl/btrZsHUzX2W/F5EkeR0RlWvUOe4UJXDVRK/img.png\" alt=\"\">\\n          \\n        </span>\\n        <span class=\"title\">아웃도어 분야 자율 주행 로봇관련 기업 프로젝트를 마치며...</span>\\n        <span class=\"date\">2023. 2. 15. 23:42</span>\\n        <span class=\"excerpt\">처음 미팅한 것은 22년 한참 더웠던 여름 7월 쯤이었습니다. 대기업 자회사였던 클라이언트는 아웃도어 분야로 새롭게 진출하기를 원했던 모양입니다. 주행 로봇 기술이 필요하다고 판단을 했고, 어떻게 저떻게 저에게까지 연락이 되었습니다. 그리고 저는 제품의 목표에 대해 제가 생각한 내용을 이야기하면서 점점 구체화된 내용으로 8월 초에 팀을 빌딩하면서 저의 역할이 시작되었습니다. 프로젝트 시작 그렇게 시작된 일에서 제가 목표로 잡은 것은 다음과 같습니다. 팀빌딩 : 회사의 관련 제품의 개발조직이 아직 만들어 지지 않았었습니다. 그래서 클라이언트가 생각한 제품의 기술적 목표를 설정하고 팀빌딩을 고민하기 시작했습니다. 기술 개발 방향 설정 : 자문 회의 단계에서는 클라이언트가 원하는 제품의 목표를 이해하려고 노력..</span>\\n      </a>\\n    </div>\\n  \\n  \\n\\n            \\n        \\n            \\n  \\n    <div class=\"post-item\">\\n      <a href=\"/1416\">\\n        <span class=\"thum\">\\n          \\n            <img src=\"//i1.daumcdn.net/thumb/C264x200/?fname=https://blog.kakaocdn.net/dn/B1O47/btrYY7r9FFt/Ql1bgdw4ylGN1g76q0k1s1/img.png\" alt=\"\">\\n          \\n        </span>\\n        <span class=\"title\">[수강생 프로젝트 소개] 물건 사진으로 물건값을 계산하는 앱</span>\\n        <span class=\"date\">2023. 2. 13. 08:00</span>\\n        <span class=\"excerpt\">이번에 소개하는 영상은 배운지 약 3~4개월 된 친구들의 발표 영상으로 사진에 나타난 상품을 보고 가격을 계산하는 앱입니다. 상품마다 여러 이벤트가 있으니 실제 계산 정확도를 확인하려는 것이라기 보다는 바코드 없이 물건의 값을 예상해 보는 목적일 수 있구요. 더 중요한건, SQL, Deep Learning 등을 배운 친구들이 이렇게 멋진 결과물을 가지게 되었다는 것이죠^^ 이 팀은 개개인의 진도와 팀의 진도를 잘 관리하면서 진행했던것 같습니다. SQL을 수업한 보람이 있네요^^ 아참 저희 커리큘럼은 아래와 같습니다.~^^ https://www.pinklab.art/airobot_edu AI 로봇 교육 컨텐츠 이 페이지는 PinkLAB 핑크랩이 진행하는 AI + 로봇 교육 컨텐츠에 대한 상세 페이지입니다...</span>\\n      </a>\\n    </div>\\n  \\n  \\n\\n            \\n        \\n        <script async=\"\" src=\"https://pagead2.googlesyndication.com/pagead/js/adsbygoogle.js?client=ca-pub-2982459700139266\" crossorigin=\"anonymous\" data-checked-head=\"true\"></script>\\n<ins class=\"adsbygoogle\" style=\"display: block; height: 474px;\" data-ad-format=\"autorelaxed\" data-ad-client=\"ca-pub-2982459700139266\" data-ad-slot=\"4966491850\" data-adsbygoogle-status=\"done\" data-ad-status=\"filled\"><div id=\"aswift_1_host\" tabindex=\"0\" title=\"Advertisement\" aria-label=\"Advertisement\" style=\"border: none; height: 474px; width: 790px; margin: 0px; padding: 0px; position: relative; visibility: visible; background-color: transparent; display: inline-block;\"><iframe id=\"aswift_1\" name=\"aswift_1\" style=\"left:0;position:absolute;top:0;border:0;width:790px;height:474px;\" sandbox=\"allow-forms allow-popups allow-popups-to-escape-sandbox allow-same-origin allow-scripts allow-top-navigation-by-user-activation\" width=\"790\" height=\"474\" frameborder=\"0\" marginwidth=\"0\" marginheight=\"0\" vspace=\"0\" hspace=\"0\" allowtransparency=\"true\" scrolling=\"no\" src=\"https://googleads.g.doubleclick.net/pagead/ads?client=ca-pub-2982459700139266&amp;output=html&amp;h=474&amp;slotname=4966491850&amp;adk=3617256752&amp;adf=1807177087&amp;pi=t.ma~as.4966491850&amp;w=790&amp;cr_col=4&amp;cr_row=2&amp;fwrn=2&amp;lmt=1689238210&amp;rafmt=9&amp;format=790x474&amp;url=https%3A%2F%2Fpinkwink.kr%2Fsearch%2F%25EB%2594%25A5%25EB%259F%25AC%25EB%258B%259D&amp;host=ca-host-pub-9691043933427338&amp;crui=image_stacked&amp;fwr=0&amp;wgl=1&amp;uach=WyJtYWNPUyIsIjEzLjQuMSIsImFybSIsIiIsIjExNC4wLjU3MzUuMTk4IixbXSwwLG51bGwsIjY0IixbWyJOb3QuQS9CcmFuZCIsIjguMC4wLjAiXSxbIkNocm9taXVtIiwiMTE0LjAuNTczNS4xOTgiXSxbIkdvb2dsZSBDaHJvbWUiLCIxMTQuMC41NzM1LjE5OCJdXSwwXQ..&amp;dt=1689238210681&amp;bpp=1&amp;bdt=136&amp;idt=108&amp;shv=r20230711&amp;mjsv=m202307100101&amp;ptt=9&amp;saldr=aa&amp;abxe=1&amp;cookie=ID%3D3a2e01bd0fe98c81-2217140153e20083%3AT%3D1689237740%3ART%3D1689238090%3AS%3DALNI_Mbqwfv5K7bNkG7DXY1HxqMokOT34Q&amp;gpic=UID%3D00000c206ab30462%3AT%3D1689237740%3ART%3D1689238090%3AS%3DALNI_MZo0QpkwtUuIZkDvBlZsMGXxU-Hxw&amp;prev_fmts=0x0&amp;nras=1&amp;correlator=585368242441&amp;frm=20&amp;pv=1&amp;ga_vid=2019932610.1689237740&amp;ga_sid=1689238211&amp;ga_hid=1704102695&amp;ga_fc=1&amp;u_tz=540&amp;u_his=5&amp;u_h=900&amp;u_w=1440&amp;u_ah=875&amp;u_aw=1440&amp;u_cd=30&amp;u_sd=2&amp;dmc=8&amp;adx=40&amp;ady=1857&amp;biw=870&amp;bih=751&amp;scr_x=0&amp;scr_y=0&amp;eid=44759876%2C44759927%2C44759842%2C31075645%2C31075757%2C31075813%2C31075849%2C44788442%2C44796476&amp;oid=2&amp;pvsid=464088439241568&amp;tmod=1951332292&amp;uas=0&amp;nvt=1&amp;ref=https%3A%2F%2Fpinkwink.kr%2F&amp;fc=1920&amp;brdim=0%2C25%2C0%2C25%2C1440%2C25%2C1440%2C875%2C885%2C751&amp;vis=1&amp;rsz=o%7C%7CeEbr%7C&amp;abl=CS&amp;pfx=0&amp;fu=128&amp;bc=31&amp;ifi=2&amp;uci=a!2&amp;btvi=1&amp;fsb=1&amp;xpc=2IiDhcbJZP&amp;p=https%3A//pinkwink.kr&amp;dtd=113\" data-google-container-id=\"a!2\" data-google-query-id=\"CLHFgNymi4ADFc_LfAodofcOFg\" data-load-complete=\"true\"></iframe></div></ins>\\n<script>\\n     (adsbygoogle = window.adsbygoogle || []).push({});\\n</script>\\n      </div>\\n\\n      \\n\\n      \\n\\n      \\n        <div class=\"pagination\">\\n          <a class=\"prev no-more-prev\" style=\"display: none;\">이전</a>\\n          \\n            <a href=\"/search/%EB%94%A5%EB%9F%AC%EB%8B%9D?page=1\" style=\"display: none;\"><span class=\"selected\">1</span></a>\\n          \\n            <a href=\"/search/%EB%94%A5%EB%9F%AC%EB%8B%9D?page=2\" style=\"display: none;\"><span class=\"\">2</span></a>\\n          \\n            <a href=\"/search/%EB%94%A5%EB%9F%AC%EB%8B%9D?page=3\" style=\"display: none;\"><span class=\"\">3</span></a>\\n          \\n            <a href=\"/search/%EB%94%A5%EB%9F%AC%EB%8B%9D?page=4\" style=\"display: none;\"><span class=\"\">4</span></a>\\n          \\n            <a style=\"display: none;\"><span class=\"\">···</span></a>\\n          \\n            <a href=\"/search/%EB%94%A5%EB%9F%AC%EB%8B%9D?page=9\" style=\"display: none;\"><span class=\"\">9</span></a>\\n          \\n          <a href=\"/search/%EB%94%A5%EB%9F%AC%EB%8B%9D?page=2\" class=\"next \" style=\"display: none;\">다음</a>\\n        <a href=\"/search/%EB%94%A5%EB%9F%AC%EB%8B%9D?page=2\" class=\"btn view-more\">목록 더보기</a></div>\\n      \\n\\n    </article>\\n\\n  \\n  </section>\\n  <hr>\\n  <div class=\"revenue_unit_wrap position_list\">\\n  <div class=\"revenue_unit_item adsense responsive\">\\n    <div class=\"revenue_unit_info\">반응형</div>\\n    <script src=\"//pagead2.googlesyndication.com/pagead/js/adsbygoogle.js\" async=\"async\"></script>\\n    <ins class=\"adsbygoogle\" style=\"display: block; height: 280px;\" data-ad-host=\"ca-host-pub-9691043933427338\" data-ad-client=\"ca-pub-2982459700139266\" data-ad-format=\"auto\" data-adsbygoogle-status=\"done\" data-ad-status=\"filled\"><div id=\"aswift_2_host\" tabindex=\"0\" title=\"Advertisement\" aria-label=\"Advertisement\" style=\"border: none; height: 280px; width: 860px; margin: 0px; padding: 0px; position: relative; visibility: visible; background-color: transparent; display: inline-block; overflow: visible;\"><iframe id=\"aswift_2\" name=\"aswift_2\" style=\"left:0;position:absolute;top:0;border:0;width:860px;height:280px;\" sandbox=\"allow-forms allow-popups allow-popups-to-escape-sandbox allow-same-origin allow-scripts allow-top-navigation-by-user-activation\" width=\"860\" height=\"280\" frameborder=\"0\" marginwidth=\"0\" marginheight=\"0\" vspace=\"0\" hspace=\"0\" allowtransparency=\"true\" scrolling=\"no\" src=\"https://googleads.g.doubleclick.net/pagead/ads?client=ca-pub-2982459700139266&amp;output=html&amp;h=280&amp;adk=1723995533&amp;adf=1602128588&amp;w=860&amp;fwrn=4&amp;fwrnh=100&amp;lmt=1689238210&amp;rafmt=1&amp;format=860x280&amp;url=https%3A%2F%2Fpinkwink.kr%2Fsearch%2F%25EB%2594%25A5%25EB%259F%25AC%25EB%258B%259D&amp;host=ca-host-pub-9691043933427338&amp;fwr=0&amp;rpe=1&amp;resp_fmts=3&amp;wgl=1&amp;uach=WyJtYWNPUyIsIjEzLjQuMSIsImFybSIsIiIsIjExNC4wLjU3MzUuMTk4IixbXSwwLG51bGwsIjY0IixbWyJOb3QuQS9CcmFuZCIsIjguMC4wLjAiXSxbIkNocm9taXVtIiwiMTE0LjAuNTczNS4xOTgiXSxbIkdvb2dsZSBDaHJvbWUiLCIxMTQuMC41NzM1LjE5OCJdXSwwXQ..&amp;dt=1689238210682&amp;bpp=1&amp;bdt=137&amp;idt=117&amp;shv=r20230711&amp;mjsv=m202307100101&amp;ptt=9&amp;saldr=aa&amp;abxe=1&amp;cookie=ID%3D3a2e01bd0fe98c81-2217140153e20083%3AT%3D1689237740%3ART%3D1689238090%3AS%3DALNI_Mbqwfv5K7bNkG7DXY1HxqMokOT34Q&amp;gpic=UID%3D00000c206ab30462%3AT%3D1689237740%3ART%3D1689238090%3AS%3DALNI_MZo0QpkwtUuIZkDvBlZsMGXxU-Hxw&amp;prev_fmts=0x0%2C790x474&amp;nras=1&amp;correlator=585368242441&amp;frm=20&amp;pv=1&amp;ga_vid=2019932610.1689237740&amp;ga_sid=1689238211&amp;ga_hid=1704102695&amp;ga_fc=1&amp;u_tz=540&amp;u_his=5&amp;u_h=900&amp;u_w=1440&amp;u_ah=875&amp;u_aw=1440&amp;u_cd=30&amp;u_sd=2&amp;dmc=8&amp;adx=5&amp;ady=2603&amp;biw=870&amp;bih=751&amp;scr_x=0&amp;scr_y=0&amp;eid=44759876%2C44759927%2C44759842%2C31075645%2C31075757%2C31075813%2C31075849%2C44788442%2C44796476&amp;oid=2&amp;pvsid=464088439241568&amp;tmod=1951332292&amp;uas=0&amp;nvt=1&amp;ref=https%3A%2F%2Fpinkwink.kr%2F&amp;fc=1920&amp;brdim=0%2C25%2C0%2C25%2C1440%2C25%2C1440%2C875%2C885%2C751&amp;vis=1&amp;rsz=o%7C%7CeoEbr%7C&amp;abl=CS&amp;pfx=0&amp;fu=128&amp;bc=31&amp;ifi=3&amp;uci=a!3&amp;btvi=2&amp;fsb=1&amp;xpc=Ffi2c8TZ5I&amp;p=https%3A//pinkwink.kr&amp;dtd=120\" data-google-container-id=\"a!3\" data-google-query-id=\"CICEgdymi4ADFdqN6QUdC2kHHw\" data-load-complete=\"true\"></iframe></div></ins>\\n    <script>(adsbygoogle = window.adsbygoogle || []).push({});</script>\\n  </div>\\n</div>\\n  <footer id=\"footer\">\\n    <p class=\"copyright\">DESIGN BY <a href=\"#\">TISTORY</a> <a href=\"https://pinkwink.tistory.com/manage\" class=\"admin\">관리자</a></p>\\n  </footer>\\n</div>\\n<script src=\"https://tistory1.daumcdn.net/tistory/371175/skin/images/script.js?_version_=1687613150\"></script>\\n\\n\\n\\n<script async=\"\" src=\"//pagead2.googlesyndication.com/pagead/js/adsbygoogle.js\"></script>\\n<div class=\"#menubar menu_toolbar \">\\n  <h2 class=\"screen_out\">티스토리툴바</h2>\\n</div>\\n<div class=\"#menubar menu_toolbar \"></div>\\n<iframe id=\"editEntry\" style=\"position:absolute;width:1px;height:1px;left:-100px;top:-100px\" src=\"//pinkwink.tistory.com/api\"></iframe>\\n\\n                        <!-- SyntaxHighlight - START -->\\n        <link href=\"//cdnjs.cloudflare.com/ajax/libs/highlight.js/10.7.3/styles/github.min.css\" rel=\"stylesheet\"><script src=\"//cdnjs.cloudflare.com/ajax/libs/highlight.js/10.7.3/highlight.min.js\"></script>\\n<script src=\"//cdnjs.cloudflare.com/ajax/libs/highlight.js/10.7.3/languages/delphi.min.js\"></script>\\n<script src=\"//cdnjs.cloudflare.com/ajax/libs/highlight.js/10.7.3/languages/php.min.js\"></script>\\n<script src=\"//cdnjs.cloudflare.com/ajax/libs/highlight.js/10.7.3/languages/python.min.js\"></script>\\n<script src=\"//cdnjs.cloudflare.com/ajax/libs/highlight.js/10.7.3/languages/r.min.js\" defer=\"\"></script>\\n<script src=\"//cdnjs.cloudflare.com/ajax/libs/highlight.js/10.7.3/languages/ruby.min.js\"></script>\\n<script src=\"//cdnjs.cloudflare.com/ajax/libs/highlight.js/10.7.3/languages/scala.min.js\" defer=\"\"></script>\\n<script src=\"//cdnjs.cloudflare.com/ajax/libs/highlight.js/10.7.3/languages/shell.min.js\"></script>\\n<script src=\"//cdnjs.cloudflare.com/ajax/libs/highlight.js/10.7.3/languages/sql.min.js\"></script>\\n<script src=\"//cdnjs.cloudflare.com/ajax/libs/highlight.js/10.7.3/languages/swift.min.js\" defer=\"\"></script>\\n<script src=\"//cdnjs.cloudflare.com/ajax/libs/highlight.js/10.7.3/languages/typescript.min.js\" defer=\"\"></script>\\n<script src=\"//cdnjs.cloudflare.com/ajax/libs/highlight.js/10.7.3/languages/vbnet.min.js\" defer=\"\"></script>\\n  <script>hljs.initHighlightingOnLoad();</script>\\n\\n\\n        <!-- SyntaxHighlight - END -->\\n\\n                \\n                <script>window.tiara = {\"svcDomain\":\"user.tistory.com\",\"section\":\"글뷰\",\"trackPage\":\"검색뷰_보기\",\"page\":\"검색뷰\",\"key\":\"371175\",\"customProps\":{\"userId\":\"0\",\"blogId\":\"371175\",\"entryId\":\"null\",\"role\":\"guest\",\"trackPage\":\"검색뷰_보기\",\"filterTarget\":false},\"entry\":null,\"kakaoAppKey\":\"3e6ddd834b023f24221217e370daed18\",\"appUserId\":\"null\"}</script>\\n<script type=\"text/javascript\" src=\"https://tistory1.daumcdn.net/tistory_admin/userblog/userblog-dbfd9cc8ecc756e56a6e0349a77ca101c4678422/static/script/tiara.min.js\"></script>\\n<script type=\"text/javascript\">(function($) {\\n    $(document).ready(function() {\\n        lightbox.options.fadeDuration = 200;\\n        lightbox.options.resizeDuration = 200;\\n        lightbox.options.wrapAround = false;\\n        lightbox.options.albumLabel = \"%1 / %2\";\\n    })\\n})(tjQuery);</script>\\n<div style=\"margin:0; padding:0; border:none; background:none; float:none; clear:none; z-index:0\"></div>\\n<script type=\"text/javascript\" src=\"https://tistory1.daumcdn.net/tistory_admin/userblog/userblog-dbfd9cc8ecc756e56a6e0349a77ca101c4678422/static/script/common.js\"></script>\\n<script type=\"text/javascript\">window.roosevelt_params_queue = window.roosevelt_params_queue || [{channel_id: \\'dk\\', channel_label: \\'{tistory}\\'}]</script>\\n<script type=\"text/javascript\" src=\"//t1.daumcdn.net/midas/rt/dk_bt/roosevelt_dk_bt.js\" async=\"async\"></script>\\n<script type=\"text/javascript\" src=\"https://tistory1.daumcdn.net/tistory_admin/userblog/userblog-dbfd9cc8ecc756e56a6e0349a77ca101c4678422/static/script/menubar.min.js\"></script>\\n<script>            (function (win, doc, src) {\\n    win.Wpm = win.Wpm || function (name, param) {\\n        win.Wpm.queue = win.Wpm.queue || [];\\n        const { queue } = win.Wpm;\\n        queue.push([name, param]);\\n    };\\n    const script = doc.createElement(\\'script\\');\\n    script.src = src;\\n    script.async = 1;\\n    const [elem] = doc.getElementsByTagName(\\'script\\');\\n    elem.parentNode.insertBefore(script, elem);\\n})(window, document, \\'https://t1.kakaocdn.net/malibu_prod/wpm.js\\');\\n            const APP_KEY = \\'d3cda7e82e6e4144bdc998b8e25f125d\\';\\n            Wpm(\\'appKey\\', APP_KEY);</script>\\n\\n                \\n\\n<ins class=\"adsbygoogle adsbygoogle-noablate\" data-adsbygoogle-status=\"done\" style=\"display: none !important;\" data-ad-status=\"unfilled\"><div id=\"aswift_0_host\" tabindex=\"0\" title=\"Advertisement\" aria-label=\"Advertisement\" style=\"border: none; height: 0px; width: 0px; margin: 0px; padding: 0px; position: relative; visibility: visible; background-color: transparent; display: inline-block;\"><iframe id=\"aswift_0\" name=\"aswift_0\" style=\"left:0;position:absolute;top:0;border:0;width:undefinedpx;height:undefinedpx;\" sandbox=\"allow-forms allow-popups allow-popups-to-escape-sandbox allow-same-origin allow-scripts allow-top-navigation-by-user-activation\" frameborder=\"0\" marginwidth=\"0\" marginheight=\"0\" vspace=\"0\" hspace=\"0\" allowtransparency=\"true\" scrolling=\"no\" src=\"https://googleads.g.doubleclick.net/pagead/ads?client=ca-pub-2982459700139266&amp;output=html&amp;adk=3397874647&amp;adf=2703517995&amp;lmt=1689238210&amp;plat=1%3A8%2C2%3A8%2C3%3A65536%2C4%3A65536%2C9%3A32776%2C16%3A8388608%2C17%3A32%2C24%3A32%2C25%3A32%2C30%3A34603008%2C32%3A32%2C41%3A32%2C42%3A32&amp;format=0x0&amp;url=https%3A%2F%2Fpinkwink.kr%2Fsearch%2F%25EB%2594%25A5%25EB%259F%25AC%25EB%258B%259D&amp;ea=0&amp;host=ca-host-pub-9691043933427338&amp;pra=5&amp;wgl=1&amp;uach=WyJtYWNPUyIsIjEzLjQuMSIsImFybSIsIiIsIjExNC4wLjU3MzUuMTk4IixbXSwwLG51bGwsIjY0IixbWyJOb3QuQS9CcmFuZCIsIjguMC4wLjAiXSxbIkNocm9taXVtIiwiMTE0LjAuNTczNS4xOTgiXSxbIkdvb2dsZSBDaHJvbWUiLCIxMTQuMC41NzM1LjE5OCJdXSwwXQ..&amp;dt=1689238210679&amp;bpp=2&amp;bdt=135&amp;idt=94&amp;shv=r20230711&amp;mjsv=m202307100101&amp;ptt=9&amp;saldr=aa&amp;abxe=1&amp;cookie=ID%3D3a2e01bd0fe98c81-2217140153e20083%3AT%3D1689237740%3ART%3D1689238090%3AS%3DALNI_Mbqwfv5K7bNkG7DXY1HxqMokOT34Q&amp;gpic=UID%3D00000c206ab30462%3AT%3D1689237740%3ART%3D1689238090%3AS%3DALNI_MZo0QpkwtUuIZkDvBlZsMGXxU-Hxw&amp;nras=1&amp;correlator=585368242441&amp;frm=20&amp;pv=2&amp;ga_vid=2019932610.1689237740&amp;ga_sid=1689238211&amp;ga_hid=1704102695&amp;ga_fc=1&amp;u_tz=540&amp;u_his=5&amp;u_h=900&amp;u_w=1440&amp;u_ah=875&amp;u_aw=1440&amp;u_cd=30&amp;u_sd=2&amp;dmc=8&amp;adx=-12245933&amp;ady=-12245933&amp;biw=870&amp;bih=751&amp;scr_x=0&amp;scr_y=0&amp;eid=44759876%2C44759927%2C44759842%2C31075645%2C31075757%2C31075813%2C31075849%2C44788442%2C44796476&amp;oid=2&amp;pvsid=464088439241568&amp;tmod=1951332292&amp;uas=0&amp;nvt=1&amp;fsapi=1&amp;ref=https%3A%2F%2Fpinkwink.kr%2F&amp;fc=1920&amp;brdim=0%2C25%2C0%2C25%2C1440%2C25%2C1440%2C875%2C885%2C751&amp;vis=1&amp;rsz=%7C%7Cs%7C&amp;abl=NS&amp;fu=32768&amp;bc=31&amp;ifi=1&amp;uci=a!1&amp;fsb=1&amp;dtd=106\" data-google-container-id=\"a!1\" data-load-complete=\"true\"></iframe></div></ins><div id=\"lightboxOverlay\" class=\"lightboxOverlay\" style=\"display: none;\"></div><div id=\"lightbox\" class=\"lightbox\" style=\"display: none;\"><div class=\"lb-outerContainer\"><div class=\"lb-container\"><img class=\"lb-image\" src=\"data:image/gif;base64,R0lGODlhAQABAIAAAP///wAAACH5BAEAAAAALAAAAAABAAEAAAICRAEAOw==\"><div class=\"lb-nav\"><a class=\"lb-prev\" href=\"\"></a><a class=\"lb-next\" href=\"\"></a></div><div class=\"lb-loader\"><a class=\"lb-cancel\"></a></div></div></div><div class=\"lb-dataContainer\"><div class=\"lb-data\"><div class=\"lb-details\"><span class=\"lb-caption\"></span><span class=\"lb-number\"></span></div><div class=\"lb-closeContainer\"><a class=\"lb-close\"></a></div></div></div></div><iframe src=\"https://www.google.com/recaptcha/api2/aframe\" width=\"0\" height=\"0\" style=\"display: none;\"></iframe></body><iframe id=\"google_esf\" name=\"google_esf\" src=\"https://googleads.g.doubleclick.net/pagead/html/r20230711/r20190131/zrt_lookup.html\" style=\"display: none;\"></iframe></html>'"
      ]
     },
     "execution_count": 97,
     "metadata": {},
     "output_type": "execute_result"
    }
   ],
   "source": [
    "# 현재 화면의 html 코드 가져오기 \n",
    "driver.page_source"
   ]
  },
  {
   "cell_type": "code",
   "execution_count": 98,
   "metadata": {},
   "outputs": [],
   "source": [
    "from bs4 import BeautifulSoup\n",
    "\n",
    "req = driver.page_source\n",
    "soup = BeautifulSoup(req, 'html.parser')"
   ]
  },
  {
   "cell_type": "code",
   "execution_count": 100,
   "metadata": {},
   "outputs": [
    {
     "data": {
      "text/plain": [
       "[<div class=\"post-item\">\n",
       " <a href=\"/1427\">\n",
       " <span class=\"thum\">\n",
       " <img alt=\"\" src=\"//i1.daumcdn.net/thumb/C264x200/?fname=https://blog.kakaocdn.net/dn/mZyxa/btskllcT9gn/RncR5K8s9eJ03JkKaexNaK/img.png\"/>\n",
       " </span>\n",
       " <span class=\"title\">영상 인식에 필요한 기초 기법 간편 정리 - ArUCo Marker, YOLO 등</span>\n",
       " <span class=\"date\">2023. 6. 19. 09:11</span>\n",
       " <span class=\"excerpt\">이번에는 로봇에서 영상인식, 혹은 간단한 프로젝트에서 영상을 인식하는 부분에 대해 간단히 정리해서 유투브에 올렸습니다. 여러가지를 모두 다루면 좋겠지만, 윈도우 환경에서 설명을 했고, OpenCV 기초, ArUCo Marker 이야기, YOLO, YOLO를 위한 라벨링 작업등을 초~간단하게 설명했습니다. 먼저 아래 링크는 영상 전체의 재생목록입니다. https://www.youtube.com/playlist?list=PL83j7f4UkozEKBsOgKNEy79w5ClNMtxSF 영상 인식에 필요한 기법 간편 정리 이번에는 로봇에서 영상인식, 혹은 간단한 프로젝트에서 영상을 인식하는 부분에 대해 간단히 정리해서 유투브에 올렸습니다. 여러가지를 모두 다루면 좋겠지만, 윈도우 환경에서 설명을 했고, www.y..</span>\n",
       " </a>\n",
       " </div>,\n",
       " <div class=\"post-item\">\n",
       " <a href=\"/1426\">\n",
       " <span class=\"thum\">\n",
       " <img alt=\"\" src=\"//i1.daumcdn.net/thumb/C264x200/?fname=https://blog.kakaocdn.net/dn/bpcaLp/btsjlEE1g6j/ytddI9gaz4lkPBsz6A5RVK/img.png\"/>\n",
       " </span>\n",
       " <span class=\"title\">[수강생 프로젝트 소개] 리뷰 분석 및 리뷰 가치 평가</span>\n",
       " <span class=\"date\">2023. 6. 12. 08:00</span>\n",
       " <span class=\"excerpt\">이번에 소개해 드릴 프로젝트는 제가 전임강사로 있는 제로베이스의 한 수강생들의 프로젝트입니다. 제로베이스의 수업은 저와 본격적으로 만나게 되는 프로젝트 단계까지 도착하시는 분들이 여러 사정으로 비율로는 낮게 오시는데요. 그 일련의 과정을 버티고 버텨서 도착하신 분들이라 꽤 수준 높은 프로젝트를 진행할 때가 많습니다. 이번에 소개해드릴 팀도 재미있는 프로젝트를 멋지게 수행한 팀 중 한 팀입니다. 개요 제목을 귀여운 공격적 스타일(^?^)로 잘 뽑은 것 같습니다. 그러나 제목에서 하고자 하는 일이 바로 들어나죠. 쇼핑몰의 상품에 달린 리뷰의 사진이 올바르게 찍혔냐는 부분을 검증하는 것으로 보시면 됩니다. 네 위 그림에서 보여주듯이, 좋은 리뷰에게 좋은 보상을 하도록 해서 리뷰 시스템을 건전하게 만들겠다는 것..</span>\n",
       " </a>\n",
       " </div>,\n",
       " <div class=\"post-item\">\n",
       " <a href=\"/1423\">\n",
       " <span class=\"thum\">\n",
       " <img alt=\"\" src=\"//i1.daumcdn.net/thumb/C264x200/?fname=https://blog.kakaocdn.net/dn/b2u9XJ/btsgpYNip1p/4ArmaU8DKLL6EkhVlXMn2K/img.png\"/>\n",
       " </span>\n",
       " <span class=\"title\">핑크랩이 진행한 H Mobility 해커톤 대회 이야기</span>\n",
       " <span class=\"date\">2023. 5. 18. 17:44</span>\n",
       " <span class=\"excerpt\">작년 11월에 저희 핑크랩이 현대자동차의 H-Mobility 해커톤 대회를 진행하게 되었다고 하고, 첫 행사를 진행한 후 글을 올렸었습니다. 그리고 애초 계약했던 두 번째 행사를 지난 주 주말, 5월 13일 14일에 진행해서 이제 전체 진행을 마쳤습니다. 대회의 주제 자체는 지난번 글에서 다루어서 아래 글을 보시고, 오늘은 저와 저희 팀 - 핑크랩의 이야기를 해보려고 합니다. 해커톤을 어떻게 준비해 갔는지를 이야기를 해볼까 합니다. https://pinkwink.kr/1400 22년 11월 H-Mobility Robotics 해커톤 대회를 마쳤습니다 얼마전에 저희 핑크랩이 현대 H 모빌리티 로보틱스 해커톤 대회를 연다고 했었는데요. https://pinkwink.kr/1397 핑크랩이 H-Mobility..</span>\n",
       " </a>\n",
       " </div>,\n",
       " <div class=\"post-item\">\n",
       " <a href=\"/1421\">\n",
       " <span class=\"thum\">\n",
       " <img alt=\"\" src=\"//i1.daumcdn.net/thumb/C264x200/?fname=https://blog.kakaocdn.net/dn/mRax9/btsc1u1UlQl/dgpqyFQtJ2f27FKr0SXu31/img.png\"/>\n",
       " </span>\n",
       " <span class=\"title\">[수강생 프로젝트 소개] 자율주행 로봇 SW 개발 - 차선인식, 장애물 회피, SLAM, ROS2</span>\n",
       " <span class=\"date\">2023. 4. 28. 08:00</span>\n",
       " <span class=\"excerpt\">최근 저는 정말 바쁜 날을 보내고 있습니다. 그 와중에 그래도 소개할 팀은 또 소개해야죠?^^ 이번에 소개할 팀의 결과물은 저에게 딥러닝과 ROS2 등의 수업을 시작한지 대략 5개월이 되던 시점에 시작한 프로젝트의 결과입니다. 처음에는 어미로봇이 아가로봇(^^)들을 데리고 실외를 주행한 다음 실내에서는 아가로봇들이 동작하는 컨셉이었습니다. 그러나 배우는 단계의 학생들이라 자금의 여력이 충분치 않아서 안타깝게도 많이 생략해야 했던 ... 슬픔이 있습니다. 그래도 저는 이 팀이 잘했다 싶은 것은 스스로 수행한 일들이 아래와 같기 때문입니다. 차선 인식을 하기 위한 segmentation 모델 학습 인식된 차선으로 로봇 기동하기 차선 위의 장애물을 감지하고 회피 기동하기 ROS2 slam을 이용해서 맵빌딩하고..</span>\n",
       " </a>\n",
       " </div>,\n",
       " <div class=\"post-item\">\n",
       " <a href=\"/1420\">\n",
       " <span class=\"thum\">\n",
       " <img alt=\"\" src=\"//i1.daumcdn.net/thumb/C264x200/?fname=https://blog.kakaocdn.net/dn/caNtI3/btr1UVcjBwM/AfYo8FZdds3KtvbaTzI8n1/img.png\"/>\n",
       " </span>\n",
       " <span class=\"title\">핑크랩이 carla, autoware, ROS2 관련 프로젝트를 시작합니다.</span>\n",
       " <span class=\"date\">2023. 3. 4. 17:38</span>\n",
       " <span class=\"excerpt\">저는 최근 긴기간 진행한 AI 로봇 기술관련 [해당회사에서는 로봇으로 제품을 출시하는 것이 아니어서^^] 프로젝트를 마치고 잠시 소강상태였다가 이번에 새롭게 짧은 기간으로 새로운 프로젝트를 진행합니다. carla는 자율주행 시스템용 시뮬레이터로 unreal 엔진 기반인데 요즘 관심있는 분들이 많으시죠. 이번 클라이언트는 무거운 이 도구들과 ROS2를 이용하여 원할한 시뮬레이션 환경을 회사내에 구축하고 싶어 합니다. 그래서 클라이언트와의 상담으로 저희 핑크랩은 인턴쉽을 핑크랩 내에서 진행하고 해당 인턴이 클라이언트가 원하는 산출물을 직접 개발하도록 유도하고 그 산출물과 함께 직원으로 해당 회사에 합류하도록 진행합니다. 매우 핑크랩과 어울리는 진행입니다.^^. CARLA는 처음부터 자율 주행 시스템의 개발,..</span>\n",
       " </a>\n",
       " </div>,\n",
       " <div class=\"post-item\">\n",
       " <a href=\"/1418\">\n",
       " <span class=\"thum\">\n",
       " <img alt=\"\" src=\"//i1.daumcdn.net/thumb/C264x200/?fname=https://blog.kakaocdn.net/dn/bnHsDt/btr0KF2NtZR/40T4qNlmelrOhlkDQ2fnO1/img.png\"/>\n",
       " </span>\n",
       " <span class=\"title\">아트센터 나비에서 예술쪽 분들에게 아두이노 교육을 진행했습니다.</span>\n",
       " <span class=\"date\">2023. 2. 27. 08:49</span>\n",
       " <span class=\"excerpt\">시작은 작년인 2022년 10월부터입니다. 어떤때는 일주에 한번, 또 어떤때는 2~3주 걸러 한 번씩 금요일마다 오후에 진행되었습니다. 처음 이 건을 의뢰해 주신 분은 한국로봇융합연구원이었습니다. 담당자님~ 감사합니다.^^. 의뢰의 내용은 공학쪽이 아닌 분들에게 아두이노를 이야기하고 이분들이 스스로 뭔가를 할 수 있도록 교육을 진행할 수 있는지였습니다. 일단, 아트센터 나비라는 이름만으로도 꽤 재미있겠다 싶었습니다. 초반의 교육은 수서에 있는 로봇리빙랩에서 진행했고, 후반 교육은 서울시 서린동에 있는 아트센터 나비에서 진행했습니다. 이번에는 나비를 소개하는 몇몇 사진과 또 그 중 한 팀의 결과를 소개하려고 합니다. 아트센터 나비의 정문입니다. 들어가자 마자 보이는 공간입니다. 뭔가 이것저것 많이 배치된것..</span>\n",
       " </a>\n",
       " </div>,\n",
       " <div class=\"post-item\">\n",
       " <a href=\"/1417\">\n",
       " <span class=\"thum\">\n",
       " <img alt=\"\" src=\"//i1.daumcdn.net/thumb/C264x200/?fname=https://blog.kakaocdn.net/dn/bdSuwl/btrZsHUzX2W/F5EkeR0RlWvUOe4UJXDVRK/img.png\"/>\n",
       " </span>\n",
       " <span class=\"title\">아웃도어 분야 자율 주행 로봇관련 기업 프로젝트를 마치며...</span>\n",
       " <span class=\"date\">2023. 2. 15. 23:42</span>\n",
       " <span class=\"excerpt\">처음 미팅한 것은 22년 한참 더웠던 여름 7월 쯤이었습니다. 대기업 자회사였던 클라이언트는 아웃도어 분야로 새롭게 진출하기를 원했던 모양입니다. 주행 로봇 기술이 필요하다고 판단을 했고, 어떻게 저떻게 저에게까지 연락이 되었습니다. 그리고 저는 제품의 목표에 대해 제가 생각한 내용을 이야기하면서 점점 구체화된 내용으로 8월 초에 팀을 빌딩하면서 저의 역할이 시작되었습니다. 프로젝트 시작 그렇게 시작된 일에서 제가 목표로 잡은 것은 다음과 같습니다. 팀빌딩 : 회사의 관련 제품의 개발조직이 아직 만들어 지지 않았었습니다. 그래서 클라이언트가 생각한 제품의 기술적 목표를 설정하고 팀빌딩을 고민하기 시작했습니다. 기술 개발 방향 설정 : 자문 회의 단계에서는 클라이언트가 원하는 제품의 목표를 이해하려고 노력..</span>\n",
       " </a>\n",
       " </div>,\n",
       " <div class=\"post-item\">\n",
       " <a href=\"/1416\">\n",
       " <span class=\"thum\">\n",
       " <img alt=\"\" src=\"//i1.daumcdn.net/thumb/C264x200/?fname=https://blog.kakaocdn.net/dn/B1O47/btrYY7r9FFt/Ql1bgdw4ylGN1g76q0k1s1/img.png\"/>\n",
       " </span>\n",
       " <span class=\"title\">[수강생 프로젝트 소개] 물건 사진으로 물건값을 계산하는 앱</span>\n",
       " <span class=\"date\">2023. 2. 13. 08:00</span>\n",
       " <span class=\"excerpt\">이번에 소개하는 영상은 배운지 약 3~4개월 된 친구들의 발표 영상으로 사진에 나타난 상품을 보고 가격을 계산하는 앱입니다. 상품마다 여러 이벤트가 있으니 실제 계산 정확도를 확인하려는 것이라기 보다는 바코드 없이 물건의 값을 예상해 보는 목적일 수 있구요. 더 중요한건, SQL, Deep Learning 등을 배운 친구들이 이렇게 멋진 결과물을 가지게 되었다는 것이죠^^ 이 팀은 개개인의 진도와 팀의 진도를 잘 관리하면서 진행했던것 같습니다. SQL을 수업한 보람이 있네요^^ 아참 저희 커리큘럼은 아래와 같습니다.~^^ https://www.pinklab.art/airobot_edu AI 로봇 교육 컨텐츠 이 페이지는 PinkLAB 핑크랩이 진행하는 AI + 로봇 교육 컨텐츠에 대한 상세 페이지입니다...</span>\n",
       " </a>\n",
       " </div>]"
      ]
     },
     "execution_count": 100,
     "metadata": {},
     "output_type": "execute_result"
    }
   ],
   "source": [
    "soup.select('.post-item')"
   ]
  },
  {
   "cell_type": "code",
   "execution_count": 101,
   "metadata": {},
   "outputs": [
    {
     "data": {
      "text/plain": [
       "8"
      ]
     },
     "execution_count": 101,
     "metadata": {},
     "output_type": "execute_result"
    }
   ],
   "source": [
    "contents = soup.select('.post-item')\n",
    "len(contents)"
   ]
  },
  {
   "cell_type": "code",
   "execution_count": 102,
   "metadata": {},
   "outputs": [
    {
     "data": {
      "text/plain": [
       "<div class=\"post-item\">\n",
       "<a href=\"/1423\">\n",
       "<span class=\"thum\">\n",
       "<img alt=\"\" src=\"//i1.daumcdn.net/thumb/C264x200/?fname=https://blog.kakaocdn.net/dn/b2u9XJ/btsgpYNip1p/4ArmaU8DKLL6EkhVlXMn2K/img.png\"/>\n",
       "</span>\n",
       "<span class=\"title\">핑크랩이 진행한 H Mobility 해커톤 대회 이야기</span>\n",
       "<span class=\"date\">2023. 5. 18. 17:44</span>\n",
       "<span class=\"excerpt\">작년 11월에 저희 핑크랩이 현대자동차의 H-Mobility 해커톤 대회를 진행하게 되었다고 하고, 첫 행사를 진행한 후 글을 올렸었습니다. 그리고 애초 계약했던 두 번째 행사를 지난 주 주말, 5월 13일 14일에 진행해서 이제 전체 진행을 마쳤습니다. 대회의 주제 자체는 지난번 글에서 다루어서 아래 글을 보시고, 오늘은 저와 저희 팀 - 핑크랩의 이야기를 해보려고 합니다. 해커톤을 어떻게 준비해 갔는지를 이야기를 해볼까 합니다. https://pinkwink.kr/1400 22년 11월 H-Mobility Robotics 해커톤 대회를 마쳤습니다 얼마전에 저희 핑크랩이 현대 H 모빌리티 로보틱스 해커톤 대회를 연다고 했었는데요. https://pinkwink.kr/1397 핑크랩이 H-Mobility..</span>\n",
       "</a>\n",
       "</div>"
      ]
     },
     "execution_count": 102,
     "metadata": {},
     "output_type": "execute_result"
    }
   ],
   "source": [
    "contents[2]"
   ]
  },
  {
   "cell_type": "code",
   "execution_count": 103,
   "metadata": {},
   "outputs": [],
   "source": [
    "driver.quit()"
   ]
  },
  {
   "cell_type": "code",
   "execution_count": null,
   "metadata": {},
   "outputs": [],
   "source": [
    "## "
   ]
  },
  {
   "cell_type": "code",
   "execution_count": null,
   "metadata": {},
   "outputs": [],
   "source": []
  },
  {
   "cell_type": "code",
   "execution_count": null,
   "metadata": {},
   "outputs": [],
   "source": []
  },
  {
   "cell_type": "code",
   "execution_count": null,
   "metadata": {},
   "outputs": [],
   "source": []
  },
  {
   "cell_type": "code",
   "execution_count": null,
   "metadata": {},
   "outputs": [],
   "source": []
  },
  {
   "cell_type": "code",
   "execution_count": null,
   "metadata": {},
   "outputs": [],
   "source": []
  },
  {
   "cell_type": "code",
   "execution_count": null,
   "metadata": {},
   "outputs": [],
   "source": []
  },
  {
   "cell_type": "code",
   "execution_count": null,
   "metadata": {},
   "outputs": [],
   "source": []
  },
  {
   "cell_type": "code",
   "execution_count": null,
   "metadata": {},
   "outputs": [],
   "source": []
  },
  {
   "cell_type": "code",
   "execution_count": null,
   "metadata": {},
   "outputs": [],
   "source": []
  },
  {
   "cell_type": "code",
   "execution_count": null,
   "metadata": {},
   "outputs": [],
   "source": []
  },
  {
   "cell_type": "code",
   "execution_count": null,
   "metadata": {},
   "outputs": [],
   "source": []
  },
  {
   "cell_type": "code",
   "execution_count": null,
   "metadata": {},
   "outputs": [],
   "source": []
  },
  {
   "cell_type": "code",
   "execution_count": null,
   "metadata": {},
   "outputs": [],
   "source": []
  },
  {
   "cell_type": "code",
   "execution_count": null,
   "metadata": {},
   "outputs": [],
   "source": []
  },
  {
   "cell_type": "code",
   "execution_count": null,
   "metadata": {},
   "outputs": [],
   "source": []
  },
  {
   "cell_type": "code",
   "execution_count": null,
   "metadata": {},
   "outputs": [],
   "source": []
  },
  {
   "cell_type": "code",
   "execution_count": null,
   "metadata": {},
   "outputs": [],
   "source": []
  },
  {
   "cell_type": "code",
   "execution_count": null,
   "metadata": {},
   "outputs": [],
   "source": []
  },
  {
   "cell_type": "code",
   "execution_count": null,
   "metadata": {},
   "outputs": [],
   "source": []
  },
  {
   "cell_type": "code",
   "execution_count": null,
   "metadata": {},
   "outputs": [],
   "source": []
  },
  {
   "cell_type": "code",
   "execution_count": null,
   "metadata": {},
   "outputs": [],
   "source": []
  },
  {
   "cell_type": "code",
   "execution_count": null,
   "metadata": {},
   "outputs": [],
   "source": []
  },
  {
   "cell_type": "code",
   "execution_count": null,
   "metadata": {},
   "outputs": [],
   "source": []
  },
  {
   "cell_type": "code",
   "execution_count": null,
   "metadata": {},
   "outputs": [],
   "source": []
  },
  {
   "cell_type": "code",
   "execution_count": null,
   "metadata": {},
   "outputs": [],
   "source": []
  },
  {
   "cell_type": "code",
   "execution_count": null,
   "metadata": {},
   "outputs": [],
   "source": []
  },
  {
   "cell_type": "code",
   "execution_count": null,
   "metadata": {},
   "outputs": [],
   "source": []
  }
 ],
 "metadata": {
  "kernelspec": {
   "display_name": "ds_study",
   "language": "python",
   "name": "python3"
  },
  "language_info": {
   "codemirror_mode": {
    "name": "ipython",
    "version": 3
   },
   "file_extension": ".py",
   "mimetype": "text/x-python",
   "name": "python",
   "nbconvert_exporter": "python",
   "pygments_lexer": "ipython3",
   "version": "3.11.2"
  },
  "orig_nbformat": 4
 },
 "nbformat": 4,
 "nbformat_minor": 2
}
