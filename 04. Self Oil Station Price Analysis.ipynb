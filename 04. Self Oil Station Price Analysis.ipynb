{
 "cells": [
  {
   "cell_type": "markdown",
   "id": "2e479bb1",
   "metadata": {},
   "source": [
    "# 04. Self Oil Station Price Analysis"
   ]
  },
  {
   "cell_type": "markdown",
   "id": "607b3824",
   "metadata": {},
   "source": [
    "## 1. 셀레니움 설치\n",
    "- 윈도우, mac(intel)\n",
    "    - conda install selenium\n",
    "- mac(m1)\n",
    "    - pip install selenium (m1) \n",
    "- chromedriver"
   ]
  },
  {
   "cell_type": "code",
   "execution_count": 1,
   "id": "b86f5162",
   "metadata": {},
   "outputs": [
    {
     "name": "stdout",
     "output_type": "stream",
     "text": [
      "Requirement already satisfied: selenium in /Users/soysauce/miniforge3/envs/ds_study/lib/python3.11/site-packages (4.10.0)\n",
      "Requirement already satisfied: urllib3[socks]<3,>=1.26 in /Users/soysauce/miniforge3/envs/ds_study/lib/python3.11/site-packages (from selenium) (1.26.15)\n",
      "Requirement already satisfied: trio~=0.17 in /Users/soysauce/miniforge3/envs/ds_study/lib/python3.11/site-packages (from selenium) (0.22.0)\n",
      "Requirement already satisfied: trio-websocket~=0.9 in /Users/soysauce/miniforge3/envs/ds_study/lib/python3.11/site-packages (from selenium) (0.10.3)\n",
      "Requirement already satisfied: certifi>=2021.10.8 in /Users/soysauce/miniforge3/envs/ds_study/lib/python3.11/site-packages (from selenium) (2023.5.7)\n",
      "Requirement already satisfied: attrs>=19.2.0 in /Users/soysauce/miniforge3/envs/ds_study/lib/python3.11/site-packages (from trio~=0.17->selenium) (23.1.0)\n",
      "Requirement already satisfied: sortedcontainers in /Users/soysauce/miniforge3/envs/ds_study/lib/python3.11/site-packages (from trio~=0.17->selenium) (2.4.0)\n",
      "Requirement already satisfied: async-generator>=1.9 in /Users/soysauce/miniforge3/envs/ds_study/lib/python3.11/site-packages (from trio~=0.17->selenium) (1.10)\n",
      "Requirement already satisfied: idna in /Users/soysauce/miniforge3/envs/ds_study/lib/python3.11/site-packages (from trio~=0.17->selenium) (3.4)\n",
      "Requirement already satisfied: outcome in /Users/soysauce/miniforge3/envs/ds_study/lib/python3.11/site-packages (from trio~=0.17->selenium) (1.2.0)\n",
      "Requirement already satisfied: sniffio in /Users/soysauce/miniforge3/envs/ds_study/lib/python3.11/site-packages (from trio~=0.17->selenium) (1.3.0)\n",
      "Requirement already satisfied: exceptiongroup in /Users/soysauce/miniforge3/envs/ds_study/lib/python3.11/site-packages (from trio-websocket~=0.9->selenium) (1.1.1)\n",
      "Requirement already satisfied: wsproto>=0.14 in /Users/soysauce/miniforge3/envs/ds_study/lib/python3.11/site-packages (from trio-websocket~=0.9->selenium) (1.2.0)\n",
      "Requirement already satisfied: PySocks!=1.5.7,<2.0,>=1.5.6 in /Users/soysauce/miniforge3/envs/ds_study/lib/python3.11/site-packages (from urllib3[socks]<3,>=1.26->selenium) (1.7.1)\n",
      "Requirement already satisfied: h11<1,>=0.9.0 in /Users/soysauce/miniforge3/envs/ds_study/lib/python3.11/site-packages (from wsproto>=0.14->trio-websocket~=0.9->selenium) (0.14.0)\n"
     ]
    }
   ],
   "source": [
    "!pip install selenium"
   ]
  },
  {
   "cell_type": "code",
   "execution_count": 2,
   "id": "7514aac0",
   "metadata": {},
   "outputs": [
    {
     "name": "stdout",
     "output_type": "stream",
     "text": [
      "selenium                   4.10.0\n"
     ]
    }
   ],
   "source": [
    "! pip list | grep sele"
   ]
  },
  {
   "cell_type": "code",
   "execution_count": 7,
   "id": "1455c4e6",
   "metadata": {},
   "outputs": [],
   "source": [
    "from selenium import webdriver\n",
    "from selenium.webdriver.chrome.service import Service as ChromeService"
   ]
  },
  {
   "cell_type": "code",
   "execution_count": 8,
   "id": "43a83689",
   "metadata": {},
   "outputs": [],
   "source": [
    "service = ChromeService(executable_path=\"../driver/chromedriver\") # ../driver/chromedriver.exe\n",
    "driver = webdriver.Chrome(service=service)\n",
    "\n",
    "driver.get(\"https://www.naver.com\")"
   ]
  },
  {
   "cell_type": "code",
   "execution_count": 9,
   "id": "5174ffdc",
   "metadata": {},
   "outputs": [],
   "source": [
    "driver.quit()"
   ]
  },
  {
   "cell_type": "code",
   "execution_count": 11,
   "id": "4313bd31",
   "metadata": {},
   "outputs": [],
   "source": [
    "from selenium.webdriver.common.by import By"
   ]
  },
  {
   "cell_type": "code",
   "execution_count": 11,
   "id": "1ae4550f",
   "metadata": {},
   "outputs": [],
   "source": [
    "driver = webdriver.Chrome(service= Service(ChromeDriverManager().install()))\n",
    "\n",
    "starbucksUrl = 'https://www.starbucks.co.kr/index.do'\n",
    "\n",
    "driver.get(starbucksUrl)\n",
    "time.sleep(2)\n",
    "\n",
    "\n",
    "# driver = webdriver.Chrome(service= Service(ChromeDriverManager().install()))\n",
    "\n",
    "# url = \"https://www.naver.com/\"\n",
    "# driver.get(url)"
   ]
  },
  {
   "cell_type": "code",
   "execution_count": 25,
   "id": "6d498854",
   "metadata": {},
   "outputs": [
    {
     "ename": "NoSuchWindowException",
     "evalue": "Message: no such window: target window already closed\nfrom unknown error: web view not found\n  (Session info: chrome=114.0.5735.106)\nStacktrace:\n0   chromedriver                        0x0000000100b3d6b8 chromedriver + 4937400\n1   chromedriver                        0x0000000100b34b73 chromedriver + 4901747\n2   chromedriver                        0x00000001006f2616 chromedriver + 435734\n3   chromedriver                        0x00000001006c758c chromedriver + 259468\n4   chromedriver                        0x000000010075f64f chromedriver + 882255\n5   chromedriver                        0x0000000100774516 chromedriver + 967958\n6   chromedriver                        0x0000000100759de3 chromedriver + 859619\n7   chromedriver                        0x0000000100727d7f chromedriver + 654719\n8   chromedriver                        0x00000001007290de chromedriver + 659678\n9   chromedriver                        0x0000000100af92ad chromedriver + 4657837\n10  chromedriver                        0x0000000100afe130 chromedriver + 4677936\n11  chromedriver                        0x0000000100b04def chromedriver + 4705775\n12  chromedriver                        0x0000000100aff05a chromedriver + 4681818\n13  chromedriver                        0x0000000100ad192c chromedriver + 4495660\n14  chromedriver                        0x0000000100b1c838 chromedriver + 4802616\n15  chromedriver                        0x0000000100b1c9b7 chromedriver + 4802999\n16  chromedriver                        0x0000000100b2d99f chromedriver + 4872607\n17  libsystem_pthread.dylib             0x00007ff81886f1d3 _pthread_start + 125\n18  libsystem_pthread.dylib             0x00007ff81886abd3 thread_start + 15\n",
     "output_type": "error",
     "traceback": [
      "\u001b[0;31m---------------------------------------------------------------------------\u001b[0m",
      "\u001b[0;31mNoSuchWindowException\u001b[0m                     Traceback (most recent call last)",
      "Cell \u001b[0;32mIn[25], line 2\u001b[0m\n\u001b[1;32m      1\u001b[0m \u001b[38;5;66;03m# store 메뉴 클릭\u001b[39;00m\n\u001b[0;32m----> 2\u001b[0m driver\u001b[38;5;241m.\u001b[39mfind_element(By\u001b[38;5;241m.\u001b[39mXPATH, \u001b[38;5;124m'\u001b[39m\u001b[38;5;124m//*[@id=\u001b[39m\u001b[38;5;124m\"\u001b[39m\u001b[38;5;124mgnb\u001b[39m\u001b[38;5;124m\"\u001b[39m\u001b[38;5;124m]/div/nav/div/ul/li[3]\u001b[39m\u001b[38;5;124m'\u001b[39m)\u001b[38;5;241m.\u001b[39mclick()\n\u001b[1;32m      3\u001b[0m time\u001b[38;5;241m.\u001b[39msleep(\u001b[38;5;241m2\u001b[39m)\n\u001b[1;32m      5\u001b[0m \u001b[38;5;66;03m# 매장 찾기 클릭\u001b[39;00m\n",
      "File \u001b[0;32m~/miniforge3/envs/ds_study/lib/python3.11/site-packages/selenium/webdriver/remote/webdriver.py:740\u001b[0m, in \u001b[0;36mWebDriver.find_element\u001b[0;34m(self, by, value)\u001b[0m\n\u001b[1;32m    737\u001b[0m     by \u001b[38;5;241m=\u001b[39m By\u001b[38;5;241m.\u001b[39mCSS_SELECTOR\n\u001b[1;32m    738\u001b[0m     value \u001b[38;5;241m=\u001b[39m \u001b[38;5;124mf\u001b[39m\u001b[38;5;124m'\u001b[39m\u001b[38;5;124m[name=\u001b[39m\u001b[38;5;124m\"\u001b[39m\u001b[38;5;132;01m{\u001b[39;00mvalue\u001b[38;5;132;01m}\u001b[39;00m\u001b[38;5;124m\"\u001b[39m\u001b[38;5;124m]\u001b[39m\u001b[38;5;124m'\u001b[39m\n\u001b[0;32m--> 740\u001b[0m \u001b[38;5;28;01mreturn\u001b[39;00m \u001b[38;5;28mself\u001b[39m\u001b[38;5;241m.\u001b[39mexecute(Command\u001b[38;5;241m.\u001b[39mFIND_ELEMENT, {\u001b[38;5;124m\"\u001b[39m\u001b[38;5;124musing\u001b[39m\u001b[38;5;124m\"\u001b[39m: by, \u001b[38;5;124m\"\u001b[39m\u001b[38;5;124mvalue\u001b[39m\u001b[38;5;124m\"\u001b[39m: value})[\u001b[38;5;124m\"\u001b[39m\u001b[38;5;124mvalue\u001b[39m\u001b[38;5;124m\"\u001b[39m]\n",
      "File \u001b[0;32m~/miniforge3/envs/ds_study/lib/python3.11/site-packages/selenium/webdriver/remote/webdriver.py:346\u001b[0m, in \u001b[0;36mWebDriver.execute\u001b[0;34m(self, driver_command, params)\u001b[0m\n\u001b[1;32m    344\u001b[0m response \u001b[38;5;241m=\u001b[39m \u001b[38;5;28mself\u001b[39m\u001b[38;5;241m.\u001b[39mcommand_executor\u001b[38;5;241m.\u001b[39mexecute(driver_command, params)\n\u001b[1;32m    345\u001b[0m \u001b[38;5;28;01mif\u001b[39;00m response:\n\u001b[0;32m--> 346\u001b[0m     \u001b[38;5;28mself\u001b[39m\u001b[38;5;241m.\u001b[39merror_handler\u001b[38;5;241m.\u001b[39mcheck_response(response)\n\u001b[1;32m    347\u001b[0m     response[\u001b[38;5;124m\"\u001b[39m\u001b[38;5;124mvalue\u001b[39m\u001b[38;5;124m\"\u001b[39m] \u001b[38;5;241m=\u001b[39m \u001b[38;5;28mself\u001b[39m\u001b[38;5;241m.\u001b[39m_unwrap_value(response\u001b[38;5;241m.\u001b[39mget(\u001b[38;5;124m\"\u001b[39m\u001b[38;5;124mvalue\u001b[39m\u001b[38;5;124m\"\u001b[39m, \u001b[38;5;28;01mNone\u001b[39;00m))\n\u001b[1;32m    348\u001b[0m     \u001b[38;5;28;01mreturn\u001b[39;00m response\n",
      "File \u001b[0;32m~/miniforge3/envs/ds_study/lib/python3.11/site-packages/selenium/webdriver/remote/errorhandler.py:245\u001b[0m, in \u001b[0;36mErrorHandler.check_response\u001b[0;34m(self, response)\u001b[0m\n\u001b[1;32m    243\u001b[0m         alert_text \u001b[38;5;241m=\u001b[39m value[\u001b[38;5;124m\"\u001b[39m\u001b[38;5;124malert\u001b[39m\u001b[38;5;124m\"\u001b[39m]\u001b[38;5;241m.\u001b[39mget(\u001b[38;5;124m\"\u001b[39m\u001b[38;5;124mtext\u001b[39m\u001b[38;5;124m\"\u001b[39m)\n\u001b[1;32m    244\u001b[0m     \u001b[38;5;28;01mraise\u001b[39;00m exception_class(message, screen, stacktrace, alert_text)  \u001b[38;5;66;03m# type: ignore[call-arg]  # mypy is not smart enough here\u001b[39;00m\n\u001b[0;32m--> 245\u001b[0m \u001b[38;5;28;01mraise\u001b[39;00m exception_class(message, screen, stacktrace)\n",
      "\u001b[0;31mNoSuchWindowException\u001b[0m: Message: no such window: target window already closed\nfrom unknown error: web view not found\n  (Session info: chrome=114.0.5735.106)\nStacktrace:\n0   chromedriver                        0x0000000100b3d6b8 chromedriver + 4937400\n1   chromedriver                        0x0000000100b34b73 chromedriver + 4901747\n2   chromedriver                        0x00000001006f2616 chromedriver + 435734\n3   chromedriver                        0x00000001006c758c chromedriver + 259468\n4   chromedriver                        0x000000010075f64f chromedriver + 882255\n5   chromedriver                        0x0000000100774516 chromedriver + 967958\n6   chromedriver                        0x0000000100759de3 chromedriver + 859619\n7   chromedriver                        0x0000000100727d7f chromedriver + 654719\n8   chromedriver                        0x00000001007290de chromedriver + 659678\n9   chromedriver                        0x0000000100af92ad chromedriver + 4657837\n10  chromedriver                        0x0000000100afe130 chromedriver + 4677936\n11  chromedriver                        0x0000000100b04def chromedriver + 4705775\n12  chromedriver                        0x0000000100aff05a chromedriver + 4681818\n13  chromedriver                        0x0000000100ad192c chromedriver + 4495660\n14  chromedriver                        0x0000000100b1c838 chromedriver + 4802616\n15  chromedriver                        0x0000000100b1c9b7 chromedriver + 4802999\n16  chromedriver                        0x0000000100b2d99f chromedriver + 4872607\n17  libsystem_pthread.dylib             0x00007ff81886f1d3 _pthread_start + 125\n18  libsystem_pthread.dylib             0x00007ff81886abd3 thread_start + 15\n"
     ]
    }
   ],
   "source": [
    "\n",
    "# store 메뉴 클릭\n",
    "driver.find_element(By.XPATH, '//*[@id=\"gnb\"]/div/nav/div/ul/li[3]').click()\n",
    "time.sleep(2)\n",
    "\n",
    "# 매장 찾기 클릭\n",
    "driver.find_element(By.XPATH, '//*[@id=\"container\"]/section[1]/article/div[2]/a').click()\n",
    "time.sleep(2)\n",
    "\n",
    "# 지역 검색 클릭\n",
    "driver.find_element(By.XPATH, '//*[@id=\"container\"]/div/form/fieldset/div/section/article[1]/article/header[2]/h3/a').click()\n",
    "time.sleep(2)\n",
    "\n",
    "# 서울 클릭\n",
    "driver.find_element(By.XPATH, '//*[@id=\"container\"]/div/form/fieldset/div/section/article[1]/article/article[2]/div[1]/div[2]/ul/li[1]/a').click()\n",
    "time.sleep(2)\n",
    "\n",
    "# 서울 구 추출\n",
    "seoulgu = driver.find_elements(By.XPATH, '//*[@id=\"mCSB_2_container\"]/ul/li')\n",
    "\n",
    "seoulguList = []\n",
    "for idx in range(1, len(seoulgu) - 4): \n",
    "# 내부 스크롤 내리기 실패\n",
    "# 내부 스크롤을 내리지 못해, 서울 구 4개가 누락이 됨, 누락된 구는 직접 추가함\n",
    "    print(seoulgu[idx].text)\n",
    "    seoulguList.append(seoulgu[idx].text)\n",
    "\n",
    "seoulguList.append('은평구')\n",
    "seoulguList.append('종로구')\n",
    "seoulguList.append('중구')\n",
    "seoulguList.append('중랑구')\n",
    "#print(seoulguList)\n",
    "\n",
    "# 퀵 검색 클릭\n",
    "driver.find_element(By.XPATH, '//*[@id=\"container\"]/div/form/fieldset/div/section/article[1]/article/header[1]').click()\n",
    "\n",
    "time.sleep(2)\n",
    "\n",
    "quickSearch = driver.find_element(By.CSS_SELECTOR, '#quickSearchText')\n",
    "\n",
    "# 첫번째 구 입력\n",
    "quickSearch.send_keys(seoulguList[0])\n",
    "time.sleep(0.5)\n",
    "\n",
    "# 검색 클릭\n",
    "driver.find_element(By.XPATH, '//*[@id=\"container\"]/div/form/fieldset/div/section/article[1]/article/article[1]/div[1]/div/a').click()\n",
    "time.sleep(2)\n",
    "\n",
    "starbucksStoresNameList = []\n",
    "starbucksStoresAddressList = []\n",
    "starbucksStoreslat = []\n",
    "starbucksStoreslong = []\n",
    "starbucksStoresNumber = []\n",
    "\n",
    "starbucksStoresName = driver.find_elements(By.XPATH, '//*[@id=\"mCSB_1_container\"]/ul/li')\n",
    "starbucksStoresAddress = driver.find_elements(By.XPATH, '//*[@id=\"mCSB_1_container\"]/ul/li/p')\n",
    "\n",
    "print(f'------[{seoulguList[0]}]------')\n",
    "\n",
    "for star in tqdm(range(len(starbucksStoresName))):\n",
    "    \n",
    "    \n",
    "    # 내부 스크롤    \n",
    "    try:\n",
    "        starbucksStoresNameList.append(starbucksStoresName[star].get_attribute('data-name'))\n",
    "        starbucksStoresAddressList.append(starbucksStoresAddress[star].text)               \n",
    "        starbucksStoreslat.append(starbucksStoresName[star].get_attribute('data-lat'))\n",
    "        starbucksStoreslong.append(starbucksStoresName[star].get_attribute('data-long'))\n",
    "        starbucksStoresNumber.append(starbucksStoresName[star].get_attribute('data-storecd'))\n",
    "\n",
    "        if star % 2 == 0:\n",
    "            scrolldown(30)\n",
    "            time.sleep(1)\n",
    "    except:  \n",
    "        pass\n",
    "    \n",
    "\n",
    "n = 1\n",
    "# 나머지 구 입력 - 결과 수집 반복\n",
    "while True:\n",
    "\n",
    "    if n == len(seoulguList):\n",
    "        break\n",
    "\n",
    "    else:\n",
    "        # 입력된 검색어 지우고 다음 검색어 입력\n",
    "        quickSearch.clear()\n",
    "        actions = ActionChains(driver)\n",
    "        actions.move_to_element(quickSearch).perform()\n",
    "\n",
    "        driver.implicitly_wait(10000)\n",
    "\n",
    "        quickSearch = driver.find_element(By.CSS_SELECTOR, '#quickSearchText')\n",
    "        quickSearch.send_keys(seoulguList[n])\n",
    "        time.sleep(0.5)\n",
    "\n",
    "        driver.find_element(By.XPATH, '//*[@id=\"container\"]/div/form/fieldset/div/section/article[1]/article/article[1]/div[1]/div/a').click()\n",
    "        time.sleep(2)\n",
    "        \n",
    "        print(f'------[{seoulguList[n]}]------')\n",
    "\n",
    "        starbucksStoresName = driver.find_elements(By.XPATH, '//*[@id=\"mCSB_1_container\"]/ul/li')\n",
    "        starbucksStoresAddress = driver.find_elements(By.XPATH, '//*[@id=\"mCSB_1_container\"]/ul/li/p')\n",
    "        \n",
    "        for star in tqdm(range(len(starbucksStoresName))):\n",
    "\n",
    "            try:\n",
    "                starbucksStoresNameList.append(starbucksStoresName[star].get_attribute('data-name'))\n",
    "                starbucksStoresAddressList.append(starbucksStoresAddress[star].text)\n",
    "                starbucksStoreslat.append(starbucksStoresName[star].get_attribute('data-lat'))\n",
    "                starbucksStoreslong.append(starbucksStoresName[star].get_attribute('data-long'))\n",
    "                starbucksStoresNumber.append(starbucksStoresName[star].get_attribute('data-storecd'))\n",
    "                \n",
    "                if star % 2 == 0:   \n",
    "                    scrolldown(30)\n",
    "                    time.sleep(1)\n",
    "                 \n",
    "            except:\n",
    "                pass\n",
    "\n",
    "        time.sleep(3)\n",
    "    n += 1    "
   ]
  },
  {
   "cell_type": "code",
   "execution_count": null,
   "id": "b2b0f0b1",
   "metadata": {},
   "outputs": [],
   "source": []
  }
 ],
 "metadata": {
  "kernelspec": {
   "display_name": "Python 3 (ipykernel)",
   "language": "python",
   "name": "python3"
  },
  "language_info": {
   "codemirror_mode": {
    "name": "ipython",
    "version": 3
   },
   "file_extension": ".py",
   "mimetype": "text/x-python",
   "name": "python",
   "nbconvert_exporter": "python",
   "pygments_lexer": "ipython3",
   "version": "3.11.2"
  }
 },
 "nbformat": 4,
 "nbformat_minor": 5
}
