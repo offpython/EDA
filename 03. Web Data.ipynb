{
 "cells": [
  {
   "cell_type": "markdown",
   "id": "876c7abb",
   "metadata": {},
   "source": [
    "# 03. Web Data"
   ]
  },
  {
   "cell_type": "markdown",
   "id": "8ea808d0",
   "metadata": {},
   "source": [
    "## 1. BeautifulSoup for Web Data"
   ]
  },
  {
   "cell_type": "markdown",
   "id": "9574b18e",
   "metadata": {},
   "source": [
    "---"
   ]
  },
  {
   "cell_type": "markdown",
   "id": "6b99865f",
   "metadata": {},
   "source": [
    "### BeautifulSoup Basic"
   ]
  },
  {
   "cell_type": "markdown",
   "id": "39855260",
   "metadata": {},
   "source": [
    "- install\n",
    "```\n",
    "    - conda install -c anaconda beautifulsoup4\n",
    "    - pip install beautifulSoup4\n",
    "``` \n",
    "- data\n",
    "    - 03.test_first.html\n",
    "    "
   ]
  },
  {
   "cell_type": "code",
   "execution_count": 2,
   "id": "be99c83e",
   "metadata": {},
   "outputs": [],
   "source": [
    "# import\n",
    "from bs4 import BeautifulStoneSoup"
   ]
  },
  {
   "cell_type": "code",
   "execution_count": 6,
   "id": "011d3139",
   "metadata": {},
   "outputs": [
    {
     "name": "stdout",
     "output_type": "stream",
     "text": [
      "<!DOCTYPE html>\n",
      "<html>\n",
      "    <head>\n",
      "        <title>Zerobase</title>\n",
      "    </head>\n",
      "    <body>\n",
      "        <div>\n",
      "            <p class=\"inner-text first-item\" id=\"first\">\n",
      "                Happy Zerobase.\n",
      "                <a href=\"https://pinkwink.kr/\" id=\"pw-link\">PinkWink</a>\n",
      "            </p>\n",
      "            <p class=\"inner-text second-item\">\n",
      "                Happy Data Science\n",
      "                <a href=\"https://www.python.org\" target=\"_blink\" id=\"Python\">Python</a>\n",
      "            </p>\n",
      "        </div>\n",
      "        <p class=\"outer-text first-item\" id=\"second\">\n",
      "            <b>Data Science is funny.</b>\n",
      "        </p>\n",
      "        <p class=\"outer-text\">\n",
      "            <i>All I need is Love.</i>\n",
      "        </p>\n",
      "    </body>\n",
      "</html>\n"
     ]
    }
   ],
   "source": [
    "page = open(\"../data/03.zerobase.html\", \"r\").read()\n",
    "soup = BeautifulSoup()"
   ]
  },
  {
   "cell_type": "code",
   "execution_count": null,
   "id": "fc2f5e50",
   "metadata": {},
   "outputs": [],
   "source": []
  },
  {
   "cell_type": "code",
   "execution_count": null,
   "id": "f04312fd",
   "metadata": {},
   "outputs": [],
   "source": []
  },
  {
   "cell_type": "code",
   "execution_count": null,
   "id": "66b3709f",
   "metadata": {},
   "outputs": [],
   "source": []
  },
  {
   "cell_type": "code",
   "execution_count": null,
   "id": "df845438",
   "metadata": {},
   "outputs": [],
   "source": []
  },
  {
   "cell_type": "code",
   "execution_count": null,
   "id": "38d8ed29",
   "metadata": {},
   "outputs": [],
   "source": []
  },
  {
   "cell_type": "code",
   "execution_count": null,
   "id": "8f415579",
   "metadata": {},
   "outputs": [],
   "source": []
  },
  {
   "cell_type": "code",
   "execution_count": null,
   "id": "5bd4fc90",
   "metadata": {},
   "outputs": [],
   "source": []
  },
  {
   "cell_type": "code",
   "execution_count": null,
   "id": "c77b092d",
   "metadata": {},
   "outputs": [],
   "source": []
  },
  {
   "cell_type": "code",
   "execution_count": null,
   "id": "4f19e214",
   "metadata": {},
   "outputs": [],
   "source": []
  },
  {
   "cell_type": "code",
   "execution_count": null,
   "id": "1ecb2ec7",
   "metadata": {},
   "outputs": [],
   "source": []
  },
  {
   "cell_type": "code",
   "execution_count": null,
   "id": "f8f339f9",
   "metadata": {},
   "outputs": [],
   "source": []
  },
  {
   "cell_type": "code",
   "execution_count": null,
   "id": "ee6daf27",
   "metadata": {},
   "outputs": [],
   "source": []
  },
  {
   "cell_type": "code",
   "execution_count": null,
   "id": "a5d7cd30",
   "metadata": {},
   "outputs": [],
   "source": []
  },
  {
   "cell_type": "code",
   "execution_count": null,
   "id": "cb652eb8",
   "metadata": {},
   "outputs": [],
   "source": []
  },
  {
   "cell_type": "code",
   "execution_count": null,
   "id": "66822a0e",
   "metadata": {},
   "outputs": [],
   "source": []
  },
  {
   "cell_type": "code",
   "execution_count": null,
   "id": "4636d29d",
   "metadata": {},
   "outputs": [],
   "source": []
  },
  {
   "cell_type": "code",
   "execution_count": null,
   "id": "c3230cbd",
   "metadata": {},
   "outputs": [],
   "source": []
  },
  {
   "cell_type": "code",
   "execution_count": null,
   "id": "3dcab007",
   "metadata": {},
   "outputs": [],
   "source": []
  },
  {
   "cell_type": "code",
   "execution_count": null,
   "id": "8227f74f",
   "metadata": {},
   "outputs": [],
   "source": []
  }
 ],
 "metadata": {
  "kernelspec": {
   "display_name": "Python 3 (ipykernel)",
   "language": "python",
   "name": "python3"
  },
  "language_info": {
   "codemirror_mode": {
    "name": "ipython",
    "version": 3
   },
   "file_extension": ".py",
   "mimetype": "text/x-python",
   "name": "python",
   "nbconvert_exporter": "python",
   "pygments_lexer": "ipython3",
   "version": "3.11.2"
  }
 },
 "nbformat": 4,
 "nbformat_minor": 5
}
