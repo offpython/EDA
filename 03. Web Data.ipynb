{
 "cells": [
  {
   "cell_type": "markdown",
   "id": "876c7abb",
   "metadata": {},
   "source": [
    "# 03. Web Data"
   ]
  },
  {
   "cell_type": "markdown",
   "id": "8ea808d0",
   "metadata": {},
   "source": [
    "## 1. BeautifulSoup for Web Data"
   ]
  },
  {
   "cell_type": "markdown",
   "id": "9574b18e",
   "metadata": {},
   "source": [
    "---"
   ]
  },
  {
   "cell_type": "markdown",
   "id": "6b99865f",
   "metadata": {},
   "source": [
    "### BeautifulSoup Basic"
   ]
  },
  {
   "cell_type": "markdown",
   "id": "39855260",
   "metadata": {},
   "source": [
    "- install\n",
    "```\n",
    "    - conda install -c anaconda beautifulsoup4\n",
    "    - pip install beautifulSoup4\n",
    "``` \n",
    "- data\n",
    "    - 03.test_first.html\n",
    "    "
   ]
  },
  {
   "cell_type": "code",
   "execution_count": 23,
   "id": "be99c83e",
   "metadata": {},
   "outputs": [],
   "source": [
    "# import\n",
    "from bs4 import BeautifulSoup"
   ]
  },
  {
   "cell_type": "code",
   "execution_count": 32,
   "id": "011d3139",
   "metadata": {},
   "outputs": [
    {
     "name": "stdout",
     "output_type": "stream",
     "text": [
      "<!DOCTYPE html>\n",
      "<html>\n",
      " <head>\n",
      "  <title>\n",
      "   Zerobase\n",
      "  </title>\n",
      " </head>\n",
      " <body>\n",
      "  <div>\n",
      "   <p class=\"inner-text first-item\" id=\"first\">\n",
      "    Happy Zerobase.\n",
      "    <a href=\"https://pinkwink.kr/\" id=\"pw-link\">\n",
      "     PinkWink\n",
      "    </a>\n",
      "   </p>\n",
      "   <p class=\"inner-text second-item\">\n",
      "    Happy Data Science\n",
      "    <a href=\"https://www.python.org\" id=\"Python\" target=\"_blink\">\n",
      "     Python\n",
      "    </a>\n",
      "   </p>\n",
      "  </div>\n",
      "  <p class=\"outer-text first-item\" id=\"second\">\n",
      "   <b>\n",
      "    Data Science is funny.\n",
      "   </b>\n",
      "  </p>\n",
      "  <p class=\"outer-text\">\n",
      "   <i>\n",
      "    All I need is Love.\n",
      "   </i>\n",
      "  </p>\n",
      " </body>\n",
      "</html>\n"
     ]
    }
   ],
   "source": [
    "page = open(\"../data/03.zerobase.html\", \"r\").read()\n",
    "soup = BeautifulSoup(page, \"html.parser\")\n",
    "print(soup.prettify())"
   ]
  },
  {
   "cell_type": "code",
   "execution_count": 33,
   "id": "fc2f5e50",
   "metadata": {},
   "outputs": [
    {
     "data": {
      "text/plain": [
       "<head>\n",
       "<title>Zerobase</title>\n",
       "</head>"
      ]
     },
     "execution_count": 33,
     "metadata": {},
     "output_type": "execute_result"
    }
   ],
   "source": [
    "# head 태그 확인 \n",
    "soup.head"
   ]
  },
  {
   "cell_type": "code",
   "execution_count": 34,
   "id": "f04312fd",
   "metadata": {},
   "outputs": [
    {
     "data": {
      "text/plain": [
       "<body>\n",
       "<div>\n",
       "<p class=\"inner-text first-item\" id=\"first\">\n",
       "                Happy Zerobase.\n",
       "                <a href=\"https://pinkwink.kr/\" id=\"pw-link\">PinkWink</a>\n",
       "</p>\n",
       "<p class=\"inner-text second-item\">\n",
       "                Happy Data Science\n",
       "                <a href=\"https://www.python.org\" id=\"Python\" target=\"_blink\">Python</a>\n",
       "</p>\n",
       "</div>\n",
       "<p class=\"outer-text first-item\" id=\"second\">\n",
       "<b>Data Science is funny.</b>\n",
       "</p>\n",
       "<p class=\"outer-text\">\n",
       "<i>All I need is Love.</i>\n",
       "</p>\n",
       "</body>"
      ]
     },
     "execution_count": 34,
     "metadata": {},
     "output_type": "execute_result"
    }
   ],
   "source": [
    "# body 태그 확인 \n",
    "soup.body"
   ]
  },
  {
   "cell_type": "code",
   "execution_count": 35,
   "id": "66b3709f",
   "metadata": {},
   "outputs": [
    {
     "data": {
      "text/plain": [
       "<p class=\"inner-text first-item\" id=\"first\">\n",
       "                Happy Zerobase.\n",
       "                <a href=\"https://pinkwink.kr/\" id=\"pw-link\">PinkWink</a>\n",
       "</p>"
      ]
     },
     "execution_count": 35,
     "metadata": {},
     "output_type": "execute_result"
    }
   ],
   "source": [
    "# p 태그 확인 \n",
    "# 처음 발견한 p 태그만 출력\n",
    "# find()\n",
    "soup.p"
   ]
  },
  {
   "cell_type": "code",
   "execution_count": 36,
   "id": "a1ddbf38",
   "metadata": {},
   "outputs": [
    {
     "data": {
      "text/plain": [
       "<p class=\"inner-text first-item\" id=\"first\">\n",
       "                Happy Zerobase.\n",
       "                <a href=\"https://pinkwink.kr/\" id=\"pw-link\">PinkWink</a>\n",
       "</p>"
      ]
     },
     "execution_count": 36,
     "metadata": {},
     "output_type": "execute_result"
    }
   ],
   "source": [
    "soup.find(\"p\")"
   ]
  },
  {
   "cell_type": "code",
   "execution_count": null,
   "id": "9e3303a1",
   "metadata": {},
   "outputs": [],
   "source": [
    "# 파이썬 예약어\n",
    "# class, id, def, list, str, int, tuple ... "
   ]
  },
  {
   "cell_type": "code",
   "execution_count": 45,
   "id": "d7751b71",
   "metadata": {},
   "outputs": [
    {
     "data": {
      "text/plain": [
       "<p class=\"inner-text second-item\">\n",
       "                Happy Data Science\n",
       "                <a href=\"https://www.python.org\" id=\"Python\" target=\"_blink\">Python</a>\n",
       "</p>"
      ]
     },
     "execution_count": 45,
     "metadata": {},
     "output_type": "execute_result"
    }
   ],
   "source": [
    "soup.find(\"p\", class_=\"inner-text second-item\")"
   ]
  },
  {
   "cell_type": "code",
   "execution_count": 48,
   "id": "11bbeacd",
   "metadata": {},
   "outputs": [
    {
     "data": {
      "text/plain": [
       "'Data Science is funny.'"
      ]
     },
     "execution_count": 48,
     "metadata": {},
     "output_type": "execute_result"
    }
   ],
   "source": [
    "soup.find(\"p\", {\"class\" : \"outer-text first-item\"}).text.strip() # 공백제거"
   ]
  },
  {
   "cell_type": "code",
   "execution_count": 50,
   "id": "94edd814",
   "metadata": {},
   "outputs": [
    {
     "data": {
      "text/plain": [
       "<p class=\"inner-text first-item\" id=\"first\">\n",
       "                Happy Zerobase.\n",
       "                <a href=\"https://pinkwink.kr/\" id=\"pw-link\">PinkWink</a>\n",
       "</p>"
      ]
     },
     "execution_count": 50,
     "metadata": {},
     "output_type": "execute_result"
    }
   ],
   "source": [
    "# 다중 조건\n",
    "soup.find(\"p\", {\"class\" : \"inner-text first-item\", \"id\": \"first\"})"
   ]
  },
  {
   "cell_type": "code",
   "execution_count": 53,
   "id": "947daf30",
   "metadata": {},
   "outputs": [
    {
     "data": {
      "text/plain": [
       "[<p class=\"inner-text first-item\" id=\"first\">\n",
       "                 Happy Zerobase.\n",
       "                 <a href=\"https://pinkwink.kr/\" id=\"pw-link\">PinkWink</a>\n",
       " </p>,\n",
       " <p class=\"inner-text second-item\">\n",
       "                 Happy Data Science\n",
       "                 <a href=\"https://www.python.org\" id=\"Python\" target=\"_blink\">Python</a>\n",
       " </p>,\n",
       " <p class=\"outer-text first-item\" id=\"second\">\n",
       " <b>Data Science is funny.</b>\n",
       " </p>,\n",
       " <p class=\"outer-text\">\n",
       " <i>All I need is Love.</i>\n",
       " </p>]"
      ]
     },
     "execution_count": 53,
     "metadata": {},
     "output_type": "execute_result"
    }
   ],
   "source": [
    "# find_all() : 여러 개의 태그를 반환\n",
    "# list 형태로 반환\n",
    "\n",
    "soup.find_all(\"p\")"
   ]
  },
  {
   "cell_type": "code",
   "execution_count": 59,
   "id": "e18ec2be",
   "metadata": {},
   "outputs": [
    {
     "data": {
      "text/plain": [
       "'PinkWink'"
      ]
     },
     "execution_count": 59,
     "metadata": {},
     "output_type": "execute_result"
    }
   ],
   "source": [
    "# 특정 태그 확인\n",
    "\n",
    "soup.find_all(id=\"pw-link\")[0].text # 리스트 형태임"
   ]
  },
  {
   "cell_type": "code",
   "execution_count": 61,
   "id": "4e4a7eb3",
   "metadata": {},
   "outputs": [
    {
     "data": {
      "text/plain": [
       "[<p class=\"inner-text second-item\">\n",
       "                 Happy Data Science\n",
       "                 <a href=\"https://www.python.org\" id=\"Python\" target=\"_blink\">Python</a>\n",
       " </p>]"
      ]
     },
     "execution_count": 61,
     "metadata": {},
     "output_type": "execute_result"
    }
   ],
   "source": [
    "soup.find_all(\"p\", class_=\"inner-text second-item\")"
   ]
  },
  {
   "cell_type": "code",
   "execution_count": 63,
   "id": "26e1086a",
   "metadata": {},
   "outputs": [
    {
     "data": {
      "text/plain": [
       "4"
      ]
     },
     "execution_count": 63,
     "metadata": {},
     "output_type": "execute_result"
    }
   ],
   "source": [
    "len(soup.find_all(\"p\"))"
   ]
  },
  {
   "cell_type": "code",
   "execution_count": 67,
   "id": "b41495dc",
   "metadata": {},
   "outputs": [
    {
     "name": "stdout",
     "output_type": "stream",
     "text": [
      "\n",
      "                Happy Zerobase.\n",
      "                PinkWink\n",
      "\n",
      "None\n",
      "\n",
      "                Happy Data Science\n",
      "                Python\n",
      "\n"
     ]
    }
   ],
   "source": [
    "print(soup.find_all(\"p\")[0].text)\n",
    "print(soup.find_all(\"p\")[1].string)\n",
    "print(soup.find_all(\"p\")[1].get_text())\n"
   ]
  },
  {
   "cell_type": "code",
   "execution_count": 68,
   "id": "3532322a",
   "metadata": {},
   "outputs": [
    {
     "name": "stdout",
     "output_type": "stream",
     "text": [
      "==================================================\n",
      "\n",
      "                Happy Zerobase.\n",
      "                PinkWink\n",
      "\n",
      "==================================================\n",
      "\n",
      "                Happy Data Science\n",
      "                Python\n",
      "\n",
      "==================================================\n",
      "\n",
      "Data Science is funny.\n",
      "\n",
      "==================================================\n",
      "\n",
      "All I need is Love.\n",
      "\n"
     ]
    }
   ],
   "source": [
    "# p 태그 리스트에서 텍스트 속성만 출력\n",
    "\n",
    "for each_tag in soup.find_all(\"p\"):\n",
    "    print(\"=\" * 50)\n",
    "    print(each_tag.text)"
   ]
  },
  {
   "cell_type": "code",
   "execution_count": 70,
   "id": "773c699a",
   "metadata": {},
   "outputs": [
    {
     "data": {
      "text/plain": [
       "('https://pinkwink.kr/', 'https://www.python.org')"
      ]
     },
     "execution_count": 70,
     "metadata": {},
     "output_type": "execute_result"
    }
   ],
   "source": [
    "# a 태그에서 href 속성값에 있는 값 구출\n",
    "\n",
    "links = soup.find_all(\"a\")\n",
    "links[0].get(\"href\"), links[1][\"href\"]"
   ]
  },
  {
   "cell_type": "code",
   "execution_count": 73,
   "id": "fa323c89",
   "metadata": {},
   "outputs": [
    {
     "name": "stdout",
     "output_type": "stream",
     "text": [
      "PinkWink -> https://pinkwink.kr/\n",
      "Python -> https://www.python.org\n"
     ]
    }
   ],
   "source": [
    "for each in links:\n",
    "    href = each.get(\"href\") # each[\"href\"]\n",
    "    text = each.get_text()\n",
    "    print(text + \" -> \" + href)"
   ]
  },
  {
   "cell_type": "code",
   "execution_count": null,
   "id": "6b7c85de",
   "metadata": {},
   "outputs": [],
   "source": []
  },
  {
   "cell_type": "code",
   "execution_count": null,
   "id": "27d458c2",
   "metadata": {},
   "outputs": [],
   "source": []
  },
  {
   "cell_type": "code",
   "execution_count": null,
   "id": "85e0a999",
   "metadata": {},
   "outputs": [],
   "source": []
  },
  {
   "cell_type": "code",
   "execution_count": null,
   "id": "7922c974",
   "metadata": {},
   "outputs": [],
   "source": []
  },
  {
   "cell_type": "code",
   "execution_count": null,
   "id": "e4f24a78",
   "metadata": {},
   "outputs": [],
   "source": []
  },
  {
   "cell_type": "code",
   "execution_count": null,
   "id": "df845438",
   "metadata": {},
   "outputs": [],
   "source": []
  },
  {
   "cell_type": "code",
   "execution_count": null,
   "id": "38d8ed29",
   "metadata": {},
   "outputs": [],
   "source": []
  },
  {
   "cell_type": "code",
   "execution_count": null,
   "id": "8f415579",
   "metadata": {},
   "outputs": [],
   "source": []
  },
  {
   "cell_type": "code",
   "execution_count": null,
   "id": "5bd4fc90",
   "metadata": {},
   "outputs": [],
   "source": []
  },
  {
   "cell_type": "code",
   "execution_count": null,
   "id": "c77b092d",
   "metadata": {},
   "outputs": [],
   "source": []
  },
  {
   "cell_type": "code",
   "execution_count": null,
   "id": "4f19e214",
   "metadata": {},
   "outputs": [],
   "source": []
  },
  {
   "cell_type": "code",
   "execution_count": null,
   "id": "1ecb2ec7",
   "metadata": {},
   "outputs": [],
   "source": []
  },
  {
   "cell_type": "code",
   "execution_count": null,
   "id": "f8f339f9",
   "metadata": {},
   "outputs": [],
   "source": []
  },
  {
   "cell_type": "code",
   "execution_count": null,
   "id": "ee6daf27",
   "metadata": {},
   "outputs": [],
   "source": []
  },
  {
   "cell_type": "code",
   "execution_count": null,
   "id": "a5d7cd30",
   "metadata": {},
   "outputs": [],
   "source": []
  },
  {
   "cell_type": "code",
   "execution_count": null,
   "id": "cb652eb8",
   "metadata": {},
   "outputs": [],
   "source": []
  },
  {
   "cell_type": "code",
   "execution_count": null,
   "id": "66822a0e",
   "metadata": {},
   "outputs": [],
   "source": []
  },
  {
   "cell_type": "code",
   "execution_count": null,
   "id": "4636d29d",
   "metadata": {},
   "outputs": [],
   "source": []
  },
  {
   "cell_type": "code",
   "execution_count": null,
   "id": "c3230cbd",
   "metadata": {},
   "outputs": [],
   "source": []
  },
  {
   "cell_type": "code",
   "execution_count": null,
   "id": "3dcab007",
   "metadata": {},
   "outputs": [],
   "source": []
  },
  {
   "cell_type": "code",
   "execution_count": null,
   "id": "8227f74f",
   "metadata": {},
   "outputs": [],
   "source": []
  }
 ],
 "metadata": {
  "kernelspec": {
   "display_name": "Python 3 (ipykernel)",
   "language": "python",
   "name": "python3"
  },
  "language_info": {
   "codemirror_mode": {
    "name": "ipython",
    "version": 3
   },
   "file_extension": ".py",
   "mimetype": "text/x-python",
   "name": "python",
   "nbconvert_exporter": "python",
   "pygments_lexer": "ipython3",
   "version": "3.11.2"
  }
 },
 "nbformat": 4,
 "nbformat_minor": 5
}
