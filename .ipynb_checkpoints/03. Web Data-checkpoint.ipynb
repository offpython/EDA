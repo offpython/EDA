{
 "cells": [
  {
   "cell_type": "markdown",
   "id": "876c7abb",
   "metadata": {},
   "source": [
    "# 03. Web Data"
   ]
  },
  {
   "cell_type": "markdown",
   "id": "8ea808d0",
   "metadata": {},
   "source": [
    "## 1. BeautifulSoup for Web Data"
   ]
  },
  {
   "cell_type": "markdown",
   "id": "9574b18e",
   "metadata": {},
   "source": [
    "---"
   ]
  },
  {
   "cell_type": "markdown",
   "id": "6b99865f",
   "metadata": {},
   "source": [
    "## BeautifulSoup Basic"
   ]
  },
  {
   "cell_type": "markdown",
   "id": "39855260",
   "metadata": {},
   "source": [
    "- install \n",
    "    - conda install -c anaconda beautifulsoup4\n",
    "    - pip install beautifulSoup4\n",
    "- data\n",
    "    - 03.test_first.html\n",
    "    "
   ]
  },
  {
   "cell_type": "code",
   "execution_count": null,
   "id": "a4695d18",
   "metadata": {},
   "outputs": [],
   "source": [
    "# import \n",
    "from bs4 import BeutifulSouop"
   ]
  },
  {
   "cell_type": "code",
   "execution_count": 1,
   "id": "81132171",
   "metadata": {},
   "outputs": [
    {
     "data": {
      "text/plain": [
       "'<!DOCTYPE html>\\n<html>\\n    <head>\\n        <title>Very Simple HTML Code by SoheeLee</title>\\n    </head>\\n    <body>\\n        <div>\\n            <p class=\"inner-text first-item\" id=\"first\">\\n                Happy Zerobase\\n                <a href=\"https://pinkwink.kr\" id=\"pw-link\">PinkWink</a>\\n            </p>\\n            <p class=\"inner-text second-item\">\\n                Happy Data Science\\n                <a href=\"https://www.python.org\" target=\"_blink\" py-link\">Python</a>\\n            </p>\\n        </div>\\n        <p class=\"outer-text first-item\" id=\"second\">\\n            <b>Data Science is funny.</b>\\n        </p>\\n        <p class=\"outer-text\">\\n            <i>All I need is Love.</i>\\n\\n        </p>\\n    </body>\\n</html>\\n'"
      ]
     },
     "execution_count": 1,
     "metadata": {},
     "output_type": "execute_result"
    }
   ],
   "source": [
    "page = open(\"../data/03. zerobase.html\", \"r\").read()\n",
    "page"
   ]
  },
  {
   "cell_type": "code",
   "execution_count": null,
   "id": "077a1f25",
   "metadata": {},
   "outputs": [],
   "source": []
  }
 ],
 "metadata": {
  "kernelspec": {
   "display_name": "Python 3 (ipykernel)",
   "language": "python",
   "name": "python3"
  },
  "language_info": {
   "codemirror_mode": {
    "name": "ipython",
    "version": 3
   },
   "file_extension": ".py",
   "mimetype": "text/x-python",
   "name": "python",
   "nbconvert_exporter": "python",
   "pygments_lexer": "ipython3",
   "version": "3.11.2"
  }
 },
 "nbformat": 4,
 "nbformat_minor": 5
}
