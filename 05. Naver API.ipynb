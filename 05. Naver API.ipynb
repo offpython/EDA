{
 "cells": [
  {
   "cell_type": "markdown",
   "metadata": {},
   "source": [
    "## 06. Naver API "
   ]
  },
  {
   "cell_type": "markdown",
   "metadata": {},
   "source": [
    "## 1. 네이버 API 사용 등록"
   ]
  },
  {
   "cell_type": "markdown",
   "metadata": {},
   "source": [
    "- 네이버 개발자 센터\n",
    "    - https://developers.naver.com/\n",
    "- Application\n",
    "    - 어플리케이션 등록\n",
    "    - 어플리케이션 이름 ds_study\n",
    "    - 사용 API \n",
    "        - 검색\n",
    "        - 데이터랩(검색어트랜드)\n",
    "        - 데이터랩(쇼핑인사이트)\n",
    "    - 환경추가\n",
    "        - web 설정\n",
    "            - http://localhost\n",
    "    - client ID : uWjPiTXpyicaLlVms_G7\n",
    "    - client Secret : k2AWhzVDiL\n",
    "    - https://developers.naver.com/apps/#/myapps/uWjPiTXpyicaLlVms_G7/overview"
   ]
  },
  {
   "cell_type": "markdown",
   "metadata": {},
   "source": [
    "## 2.  네이버 검색 API 사용하기"
   ]
  },
  {
   "cell_type": "markdown",
   "metadata": {},
   "source": [
    "#개발가이드\n",
    "- https://developers.naver.com/docs/serviceapi/search/blog/blog.md#%EB%B8%94%EB%A1%9C%EA%B7%B8 "
   ]
  },
  {
   "cell_type": "markdown",
   "metadata": {},
   "source": [
    "- urllib : http 프로토콜에 따라서 서버의 요청/응답을 처리하기 위한 모듈\n",
    "- urllib.request : 클라이언트 요청을 처리하는 모듈\n",
    "- urllib.parse : url 주소에 대한 분석 "
   ]
  },
  {
   "cell_type": "markdown",
   "metadata": {},
   "source": [
    "## 검색 : 블로그(blog)"
   ]
  },
  {
   "cell_type": "code",
   "execution_count": 2,
   "metadata": {},
   "outputs": [
    {
     "name": "stdout",
     "output_type": "stream",
     "text": [
      "{\n",
      "\t\"lastBuildDate\":\"Sat, 15 Jul 2023 21:41:02 +0900\",\n",
      "\t\"total\":399710,\n",
      "\t\"start\":1,\n",
      "\t\"display\":10,\n",
      "\t\"items\":[\n",
      "\t\t{\n",
      "\t\t\t\"title\":\"<b>파이썬<\\/b> 학원 다녀본 후기\",\n",
      "\t\t\t\"link\":\"https:\\/\\/blog.naver.com\\/wkddpfka1\\/223123747880\",\n",
      "\t\t\t\"description\":\"취업을 위해서 <b>파이썬<\\/b> 독학을 했는데요. 전공자가 아니라 기본기부터 헷갈린다는 문제가 있었어요. 하지만 <b>파이썬<\\/b> 학원을 다니며 해결되었어요. 제가 다니고 있는 KIC 캠퍼스에요. 교재 하나 들고 유튜브... \",\n",
      "\t\t\t\"bloggername\":\"우당탕탕 자취생 블로그\",\n",
      "\t\t\t\"bloggerlink\":\"blog.naver.com\\/wkddpfka1\",\n",
      "\t\t\t\"postdate\":\"20230608\"\n",
      "\t\t},\n",
      "\t\t{\n",
      "\t\t\t\"title\":\"<b>파이썬<\\/b>학원을 다니면서 공부해야하는 이유\",\n",
      "\t\t\t\"link\":\"https:\\/\\/blog.naver.com\\/sow723\\/223024072662\",\n",
      "\t\t\t\"description\":\"개발자와는 전혀 관계 없던 제가 <b>파이썬<\\/b>학원을 다니면서 이 쪽으로 취업에 성공할 줄이야 아무도... 그래서 일단 비전공자도 쉽게 배울 수 있다는 언어를 배우기 위해서 #<b>파이썬<\\/b>학원 을 다녀보게 되었습니다.... \",\n",
      "\t\t\t\"bloggername\":\"Onelog\",\n",
      "\t\t\t\"bloggerlink\":\"blog.naver.com\\/sow723\",\n",
      "\t\t\t\"postdate\":\"20230222\"\n",
      "\t\t},\n",
      "\t\t{\n",
      "\t\t\t\"title\":\"국비지원무료교육 <b>파이썬<\\/b> 취업 연계 과정\",\n",
      "\t\t\t\"link\":\"https:\\/\\/blog.naver.com\\/notgloom\\/223154195272\",\n",
      "\t\t\t\"description\":\"많은 <b>파이썬<\\/b>을 배우자는 생각을 하게 되었습니다. Hrd-net을 통해 알아보던 중 국비지원무료교육 <b>파이썬<\\/b> 취업 연계 과정이 있다는 것을 알게 되었고, 비용과 취업을 동시에 해결할 수 있는 수업이기에 학원으로... \",\n",
      "\t\t\t\"bloggername\":\"Cloud_shop ~☆\",\n",
      "\t\t\t\"bloggerlink\":\"blog.naver.com\\/notgloom\",\n",
      "\t\t\t\"postdate\":\"20230712\"\n",
      "\t\t},\n",
      "\t\t{\n",
      "\t\t\t\"title\":\"<b>파이썬<\\/b> 자격증 취득 수업 내용 정리!\",\n",
      "\t\t\t\"link\":\"https:\\/\\/blog.naver.com\\/eunoia1017\\/222968873209\",\n",
      "\t\t\t\"description\":\"<b>파이썬<\\/b> 자격증 취득 수업 내용 정리! 많은 분들이 자신의 본 직업이나 N잡으로 코딩 한 번씩은 다... 오늘은 제가 왜 <b>파이썬<\\/b> 자격증을 취득하게 되었는지에 대한 글을 같이 써보려고 해요! <b>파이썬<\\/b> 자격증을... \",\n",
      "\t\t\t\"bloggername\":\"반짝반짝 빛나는\",\n",
      "\t\t\t\"bloggerlink\":\"blog.naver.com\\/eunoia1017\",\n",
      "\t\t\t\"postdate\":\"20221229\"\n",
      "\t\t},\n",
      "\t\t{\n",
      "\t\t\t\"title\":\"<b>파이썬<\\/b> 기초 독학 코딩입문 부트캠프 1위 슈퍼코딩 제대로된... \",\n",
      "\t\t\t\"link\":\"https:\\/\\/blog.naver.com\\/ewqdsa2211\\/223143303630\",\n",
      "\t\t\t\"description\":\"것이 <b>파이썬<\\/b> 독학이었어요. 컴퓨터라곤 PC 카톡 밖에 할 줄 몰랐고 레포트 쓰느라 끄적이는 노트북 사용이 익숙했는데 막상 취업하려고 관심 갖고 있는 분야인 AI관련 기업에서는 <b>파이썬<\\/b>을 다루는 것이... \",\n",
      "\t\t\t\"bloggername\":\"검은눈동자의 장막을 걷어내고\",\n",
      "\t\t\t\"bloggerlink\":\"blog.naver.com\\/ewqdsa2211\",\n",
      "\t\t\t\"postdate\":\"20230630\"\n",
      "\t\t},\n",
      "\t\t{\n",
      "\t\t\t\"title\":\"부산코딩학원 <b>파이썬<\\/b> 개발 기초부터 배우기\",\n",
      "\t\t\t\"link\":\"https:\\/\\/blog.naver.com\\/cd34579\\/222947814795\",\n",
      "\t\t\t\"description\":\"좋지만 <b>파이썬<\\/b>이 업계에서 많이 쓰고 있기도 하고, 처음 배우기에는 가장 쉬운 언어라고 하셔서 <b>파이썬<\\/b> 기초반에 등록을 하게 되었습니다! 지금 생각해보면 <b>파이썬<\\/b>으로 시작하기 잘한 것 같아요. 프로그래밍은... \",\n",
      "\t\t\t\"bloggername\":\"행복바이러스^^\",\n",
      "\t\t\t\"bloggerlink\":\"blog.naver.com\\/cd34579\",\n",
      "\t\t\t\"postdate\":\"20221206\"\n",
      "\t\t},\n",
      "\t\t{\n",
      "\t\t\t\"title\":\"<b>파이썬<\\/b>자격증 학원 다니면서 준비하기!\",\n",
      "\t\t\t\"link\":\"https:\\/\\/blog.naver.com\\/subin_s_humteresting\\/223003132311\",\n",
      "\t\t\t\"description\":\"<b>파이썬<\\/b>자격증에 대한 정보를 잘 알고 있는 게 아니었습니다. 인터넷에 검색해도 뭐가 좋을지 제대로... 그래서 저는 <b>파이썬<\\/b>자격증을 취득하기 전에, 해당 프로그래밍 언어에 대한 기본기부터 배우기로... \",\n",
      "\t\t\t\"bloggername\":\"수빈&apos;s humteresting\",\n",
      "\t\t\t\"bloggerlink\":\"blog.naver.com\\/subin_s_humteresting\",\n",
      "\t\t\t\"postdate\":\"20230202\"\n",
      "\t\t},\n",
      "\t\t{\n",
      "\t\t\t\"title\":\"<b>파이썬<\\/b> 학원 선택 이유 및 수업과정\",\n",
      "\t\t\t\"link\":\"https:\\/\\/blog.naver.com\\/shek99\\/222983518965\",\n",
      "\t\t\t\"description\":\"그 중에서도 <b>파이썬<\\/b> 학원을 선택을 했어요. <b>파이썬<\\/b> 학원을 선택한 이유는 많은 코딩 프로그램 중 <b>파이썬<\\/b>이 가장 좋아 보였기 때문입니다. 이전에는 JAVA나 자바 스크립트, C언어를 많이 배웠는데 인터넷에서 좀... \",\n",
      "\t\t\t\"bloggername\":\"Architect & Humanity 건축 인문\",\n",
      "\t\t\t\"bloggerlink\":\"blog.naver.com\\/shek99\",\n",
      "\t\t\t\"postdate\":\"20230113\"\n",
      "\t\t},\n",
      "\t\t{\n",
      "\t\t\t\"title\":\"<b>파이썬<\\/b>자격증 기초부터 탄탄한 학습과정!\",\n",
      "\t\t\t\"link\":\"https:\\/\\/blog.naver.com\\/ekgmldhktks\\/223092587492\",\n",
      "\t\t\t\"description\":\"제가 <b>파이썬<\\/b> 기초 공부를 하기 시작한 건 IT에서 제일 쉬운 언어라는 조언을 들어서였어요. :) 많은 프로그래밍 언어 중에 <b>파이썬<\\/b> 언어가 입문자에게 가장 권할만하다는 글을 많이 읽을 수 있었습니다. C나 C... \",\n",
      "\t\t\t\"bloggername\":\"방탄이의 맛집 탐방\",\n",
      "\t\t\t\"bloggerlink\":\"blog.naver.com\\/ekgmldhktks\",\n",
      "\t\t\t\"postdate\":\"20230503\"\n",
      "\t\t},\n",
      "\t\t{\n",
      "\t\t\t\"title\":\"<b>파이썬<\\/b>학원 실무적인 학습 커리큘럼\",\n",
      "\t\t\t\"link\":\"https:\\/\\/blog.naver.com\\/euney\\/223064924715\",\n",
      "\t\t\t\"description\":\"전망이 나빠진 본인의 전공을 고려하여 <b>파이썬<\\/b>학원을 염두에 두는 인원이 상당히 많아지는 추세인데요.... 소개해드리는 <b>파이썬<\\/b> 관련 취직 루트를 유심히 살펴보시길 바랍니다. 초심자의 입장에서 왜 독학이... \",\n",
      "\t\t\t\"bloggername\":\"혼자만의 여행\",\n",
      "\t\t\t\"bloggerlink\":\"blog.naver.com\\/euney\",\n",
      "\t\t\t\"postdate\":\"20230404\"\n",
      "\t\t}\n",
      "\t]\n",
      "}\n"
     ]
    }
   ],
   "source": [
    "# 네이버 검색 API 예제 - 블로그 검색\n",
    "import os\n",
    "import sys\n",
    "import urllib.request\n",
    "\n",
    "client_id = \"uWjPiTXpyicaLlVms_G7\"\n",
    "client_secret = \"k2AWhzVDiL\"\n",
    "\n",
    "encText = urllib.parse.quote(\"파이썬\")\n",
    "url = \"https://openapi.naver.com/v1/search/blog?query=\" + encText # JSON 결과\n",
    "# url = \"https://openapi.naver.com/v1/search/blog.xml?query=\" + encText # XML 결과\n",
    "request = urllib.request.Request(url)\n",
    "request.add_header(\"X-Naver-Client-Id\",client_id)\n",
    "request.add_header(\"X-Naver-Client-Secret\",client_secret)\n",
    "response = urllib.request.urlopen(request)\n",
    "rescode = response.getcode()\n",
    "if(rescode==200):\n",
    "    response_body = response.read()\n",
    "    print(response_body.decode('utf-8'))\n",
    "else:\n",
    "    print(\"Error Code:\" + rescode)\n"
   ]
  },
  {
   "cell_type": "code",
   "execution_count": 6,
   "metadata": {},
   "outputs": [
    {
     "data": {
      "text/plain": [
       "(<http.client.HTTPResponse at 0x104087a00>, 200, 200, 200)"
      ]
     },
     "execution_count": 6,
     "metadata": {},
     "output_type": "execute_result"
    }
   ],
   "source": [
    "response, response.getcode(), response.code, response.status"
   ]
  },
  {
   "cell_type": "code",
   "execution_count": 12,
   "metadata": {},
   "outputs": [
    {
     "name": "stdout",
     "output_type": "stream",
     "text": [
      "{\n",
      "\t\"lastBuildDate\":\"Sat, 15 Jul 2023 21:41:02 +0900\",\n",
      "\t\"total\":399710,\n",
      "\t\"start\":1,\n",
      "\t\"display\":10,\n",
      "\t\"items\":[\n",
      "\t\t{\n",
      "\t\t\t\"title\":\"<b>파이썬<\\/b> 학원 다녀본 후기\",\n",
      "\t\t\t\"link\":\"https:\\/\\/blog.naver.com\\/wkddpfka1\\/223123747880\",\n",
      "\t\t\t\"description\":\"취업을 위해서 <b>파이썬<\\/b> 독학을 했는데요. 전공자가 아니라 기본기부터 헷갈린다는 문제가 있었어요. 하지만 <b>파이썬<\\/b> 학원을 다니며 해결되었어요. 제가 다니고 있는 KIC 캠퍼스에요. 교재 하나 들고 유튜브... \",\n",
      "\t\t\t\"bloggername\":\"우당탕탕 자취생 블로그\",\n",
      "\t\t\t\"bloggerlink\":\"blog.naver.com\\/wkddpfka1\",\n",
      "\t\t\t\"postdate\":\"20230608\"\n",
      "\t\t},\n",
      "\t\t{\n",
      "\t\t\t\"title\":\"<b>파이썬<\\/b>학원을 다니면서 공부해야하는 이유\",\n",
      "\t\t\t\"link\":\"https:\\/\\/blog.naver.com\\/sow723\\/223024072662\",\n",
      "\t\t\t\"description\":\"개발자와는 전혀 관계 없던 제가 <b>파이썬<\\/b>학원을 다니면서 이 쪽으로 취업에 성공할 줄이야 아무도... 그래서 일단 비전공자도 쉽게 배울 수 있다는 언어를 배우기 위해서 #<b>파이썬<\\/b>학원 을 다녀보게 되었습니다.... \",\n",
      "\t\t\t\"bloggername\":\"Onelog\",\n",
      "\t\t\t\"bloggerlink\":\"blog.naver.com\\/sow723\",\n",
      "\t\t\t\"postdate\":\"20230222\"\n",
      "\t\t},\n",
      "\t\t{\n",
      "\t\t\t\"title\":\"국비지원무료교육 <b>파이썬<\\/b> 취업 연계 과정\",\n",
      "\t\t\t\"link\":\"https:\\/\\/blog.naver.com\\/notgloom\\/223154195272\",\n",
      "\t\t\t\"description\":\"많은 <b>파이썬<\\/b>을 배우자는 생각을 하게 되었습니다. Hrd-net을 통해 알아보던 중 국비지원무료교육 <b>파이썬<\\/b> 취업 연계 과정이 있다는 것을 알게 되었고, 비용과 취업을 동시에 해결할 수 있는 수업이기에 학원으로... \",\n",
      "\t\t\t\"bloggername\":\"Cloud_shop ~☆\",\n",
      "\t\t\t\"bloggerlink\":\"blog.naver.com\\/notgloom\",\n",
      "\t\t\t\"postdate\":\"20230712\"\n",
      "\t\t},\n",
      "\t\t{\n",
      "\t\t\t\"title\":\"<b>파이썬<\\/b> 자격증 취득 수업 내용 정리!\",\n",
      "\t\t\t\"link\":\"https:\\/\\/blog.naver.com\\/eunoia1017\\/222968873209\",\n",
      "\t\t\t\"description\":\"<b>파이썬<\\/b> 자격증 취득 수업 내용 정리! 많은 분들이 자신의 본 직업이나 N잡으로 코딩 한 번씩은 다... 오늘은 제가 왜 <b>파이썬<\\/b> 자격증을 취득하게 되었는지에 대한 글을 같이 써보려고 해요! <b>파이썬<\\/b> 자격증을... \",\n",
      "\t\t\t\"bloggername\":\"반짝반짝 빛나는\",\n",
      "\t\t\t\"bloggerlink\":\"blog.naver.com\\/eunoia1017\",\n",
      "\t\t\t\"postdate\":\"20221229\"\n",
      "\t\t},\n",
      "\t\t{\n",
      "\t\t\t\"title\":\"<b>파이썬<\\/b> 기초 독학 코딩입문 부트캠프 1위 슈퍼코딩 제대로된... \",\n",
      "\t\t\t\"link\":\"https:\\/\\/blog.naver.com\\/ewqdsa2211\\/223143303630\",\n",
      "\t\t\t\"description\":\"것이 <b>파이썬<\\/b> 독학이었어요. 컴퓨터라곤 PC 카톡 밖에 할 줄 몰랐고 레포트 쓰느라 끄적이는 노트북 사용이 익숙했는데 막상 취업하려고 관심 갖고 있는 분야인 AI관련 기업에서는 <b>파이썬<\\/b>을 다루는 것이... \",\n",
      "\t\t\t\"bloggername\":\"검은눈동자의 장막을 걷어내고\",\n",
      "\t\t\t\"bloggerlink\":\"blog.naver.com\\/ewqdsa2211\",\n",
      "\t\t\t\"postdate\":\"20230630\"\n",
      "\t\t},\n",
      "\t\t{\n",
      "\t\t\t\"title\":\"부산코딩학원 <b>파이썬<\\/b> 개발 기초부터 배우기\",\n",
      "\t\t\t\"link\":\"https:\\/\\/blog.naver.com\\/cd34579\\/222947814795\",\n",
      "\t\t\t\"description\":\"좋지만 <b>파이썬<\\/b>이 업계에서 많이 쓰고 있기도 하고, 처음 배우기에는 가장 쉬운 언어라고 하셔서 <b>파이썬<\\/b> 기초반에 등록을 하게 되었습니다! 지금 생각해보면 <b>파이썬<\\/b>으로 시작하기 잘한 것 같아요. 프로그래밍은... \",\n",
      "\t\t\t\"bloggername\":\"행복바이러스^^\",\n",
      "\t\t\t\"bloggerlink\":\"blog.naver.com\\/cd34579\",\n",
      "\t\t\t\"postdate\":\"20221206\"\n",
      "\t\t},\n",
      "\t\t{\n",
      "\t\t\t\"title\":\"<b>파이썬<\\/b>자격증 학원 다니면서 준비하기!\",\n",
      "\t\t\t\"link\":\"https:\\/\\/blog.naver.com\\/subin_s_humteresting\\/223003132311\",\n",
      "\t\t\t\"description\":\"<b>파이썬<\\/b>자격증에 대한 정보를 잘 알고 있는 게 아니었습니다. 인터넷에 검색해도 뭐가 좋을지 제대로... 그래서 저는 <b>파이썬<\\/b>자격증을 취득하기 전에, 해당 프로그래밍 언어에 대한 기본기부터 배우기로... \",\n",
      "\t\t\t\"bloggername\":\"수빈&apos;s humteresting\",\n",
      "\t\t\t\"bloggerlink\":\"blog.naver.com\\/subin_s_humteresting\",\n",
      "\t\t\t\"postdate\":\"20230202\"\n",
      "\t\t},\n",
      "\t\t{\n",
      "\t\t\t\"title\":\"<b>파이썬<\\/b> 학원 선택 이유 및 수업과정\",\n",
      "\t\t\t\"link\":\"https:\\/\\/blog.naver.com\\/shek99\\/222983518965\",\n",
      "\t\t\t\"description\":\"그 중에서도 <b>파이썬<\\/b> 학원을 선택을 했어요. <b>파이썬<\\/b> 학원을 선택한 이유는 많은 코딩 프로그램 중 <b>파이썬<\\/b>이 가장 좋아 보였기 때문입니다. 이전에는 JAVA나 자바 스크립트, C언어를 많이 배웠는데 인터넷에서 좀... \",\n",
      "\t\t\t\"bloggername\":\"Architect & Humanity 건축 인문\",\n",
      "\t\t\t\"bloggerlink\":\"blog.naver.com\\/shek99\",\n",
      "\t\t\t\"postdate\":\"20230113\"\n",
      "\t\t},\n",
      "\t\t{\n",
      "\t\t\t\"title\":\"<b>파이썬<\\/b>자격증 기초부터 탄탄한 학습과정!\",\n",
      "\t\t\t\"link\":\"https:\\/\\/blog.naver.com\\/ekgmldhktks\\/223092587492\",\n",
      "\t\t\t\"description\":\"제가 <b>파이썬<\\/b> 기초 공부를 하기 시작한 건 IT에서 제일 쉬운 언어라는 조언을 들어서였어요. :) 많은 프로그래밍 언어 중에 <b>파이썬<\\/b> 언어가 입문자에게 가장 권할만하다는 글을 많이 읽을 수 있었습니다. C나 C... \",\n",
      "\t\t\t\"bloggername\":\"방탄이의 맛집 탐방\",\n",
      "\t\t\t\"bloggerlink\":\"blog.naver.com\\/ekgmldhktks\",\n",
      "\t\t\t\"postdate\":\"20230503\"\n",
      "\t\t},\n",
      "\t\t{\n",
      "\t\t\t\"title\":\"<b>파이썬<\\/b>학원 실무적인 학습 커리큘럼\",\n",
      "\t\t\t\"link\":\"https:\\/\\/blog.naver.com\\/euney\\/223064924715\",\n",
      "\t\t\t\"description\":\"전망이 나빠진 본인의 전공을 고려하여 <b>파이썬<\\/b>학원을 염두에 두는 인원이 상당히 많아지는 추세인데요.... 소개해드리는 <b>파이썬<\\/b> 관련 취직 루트를 유심히 살펴보시길 바랍니다. 초심자의 입장에서 왜 독학이... \",\n",
      "\t\t\t\"bloggername\":\"혼자만의 여행\",\n",
      "\t\t\t\"bloggerlink\":\"blog.naver.com\\/euney\",\n",
      "\t\t\t\"postdate\":\"20230404\"\n",
      "\t\t}\n",
      "\t]\n",
      "}\n"
     ]
    }
   ],
   "source": [
    "# 글자로 읽을 경우, decode utf-8 설정\n",
    "print(response_body.decode('utf-8'))"
   ]
  },
  {
   "cell_type": "markdown",
   "metadata": {},
   "source": [
    "## 검색 : 책(Book)"
   ]
  },
  {
   "cell_type": "code",
   "execution_count": 14,
   "metadata": {},
   "outputs": [
    {
     "name": "stdout",
     "output_type": "stream",
     "text": [
      "{\n",
      "\t\"lastBuildDate\":\"Sat, 15 Jul 2023 21:44:32 +0900\",\n",
      "\t\"total\":896,\n",
      "\t\"start\":1,\n",
      "\t\"display\":10,\n",
      "\t\"items\":[\n",
      "\t\t{\n",
      "\t\t\t\"title\":\"프로그래머스 코딩 테스트 문제 풀이 전략: 파이썬 편 (핵심 개념, 81개 문제풀이, 코딩전문역량인증시험(PCCP) 대비까지!)\",\n",
      "\t\t\t\"link\":\"https:\\/\\/search.shopping.naver.com\\/book\\/catalog\\/37828255619\",\n",
      "\t\t\t\"image\":\"https:\\/\\/shopping-phinf.pstatic.net\\/main_3782825\\/37828255619.20230704084128.jpg\",\n",
      "\t\t\t\"author\":\"김범수\",\n",
      "\t\t\t\"discount\":\"36000\",\n",
      "\t\t\t\"publisher\":\"길벗\",\n",
      "\t\t\t\"pubdate\":\"20230223\",\n",
      "\t\t\t\"isbn\":\"9791140702893\",\n",
      "\t\t\t\"description\":\"핵심 개념, 프로그래머스에서 선별한 81개 문제 풀이, PCCP 대비까지!\\n합격에 한 걸음 더 가까워지는 실전형 코딩 테스트 문제 풀이 가이드\\n\\n개발자 취업과 이직의 필수 관문, 코딩 테스트! 어떻게 준비해야 할까? 이 책은 시간 복잡도, 배열, 문자열, 정렬, 이진 탐색, 완전 탐색, 해시, 동적 프로그래밍, 자주 나오는 자료 구조 등 코딩 테스트에 필요한 핵심 지식을 모두 담고 있다. 단순히 문제를 풀어보는 것에서 그치지 않고, 문제를 분석하고, 요구 조건을 체크하고, 다양한 접근법으로 설계한 내용을 구현하며 문제를 푸는 생각의 흐름을 완성할 수 있게 도와준다. 또한, 기본 문제 풀이 외에 핵심 개념 및 다양한 풀이를 함께 살펴보며, 방금 푼 그 문제를 100% 내 것으로 만들 수 있게 구성했다. 프로그래머스의 노하우가 담긴 문제를 선별해 담았으며, 파이썬스러운 문제 풀이와 해결법으로 파이썬을 좀 더 깊이 있게 이해할 수 있다. 마지막으로 카카오 블라인드 테스트와 코딩전문역량인증시험(PCCP) 모의고사 문제를 책에서 배운 내용들을 이용해 풀어보면서 실전 감각을 키울 수 있다. 취업과 이직을 위해 코딩 테스트를 준비한다면 이 책으로 시작해보자.\"\n",
      "\t\t},\n",
      "\t\t{\n",
      "\t\t\t\"title\":\"모두의 파이썬 (20일 만에 배우는 프로그래밍 기초)\",\n",
      "\t\t\t\"link\":\"https:\\/\\/search.shopping.naver.com\\/book\\/catalog\\/32463987904\",\n",
      "\t\t\t\"image\":\"https:\\/\\/shopping-phinf.pstatic.net\\/main_3246398\\/32463987904.20230711120131.jpg\",\n",
      "\t\t\t\"author\":\"이승찬\",\n",
      "\t\t\t\"discount\":\"4000\",\n",
      "\t\t\t\"publisher\":\"길벗\",\n",
      "\t\t\t\"pubdate\":\"20181009\",\n",
      "\t\t\t\"isbn\":\"9791160505856\",\n",
      "\t\t\t\"description\":\"파이썬 분야 & 어린이 코딩 교육 분야\\n2년 연속 베스트셀러! 개정판 출간!\\n\\n즐겁게 시작하는 나의 첫 프로그래밍!\\n프로그래밍을 한 번도 해본 적이 없어도 괜찮다. 파이썬이 무엇인지 몰라도 상관 없다. 어려운 개념과 복잡한 이론 설명은 최대한 줄이고, 초보자가 프로그래밍을 쉽게 배울 수 있도록 짧고 간단한 예제로 내용을 구성했다. 처음부터 모든 것을 다 이해하지 못해도 괜찮다. 프로그램을 따라서 입력하고, 실행 결과를 확인하며, 책에서 알려주는 대로 에러를 수정해 보자. 어느새 파이썬 프로그램으로 멋진 그림을 그리고, 계산을 하고, 간단한 게임을 만들고, 수학 문제를 푸는 자신을 발견하게 될 것이다. \\n\\n* 《모두의 파이썬, 개정 2판》에서는 파이썬 최신 버전을 반영하였으며, Day 19 ‘파이썬으로 수학 문제 풀기 1’의 내용을 중학 수학 2015 개정교육과정에 맞춰 수정 및 보완하였습니다. 나머지 내용은 초판과 동일합니다.\"\n",
      "\t\t},\n",
      "\t\t{\n",
      "\t\t\t\"title\":\"Do it! 점프 투 파이썬 (중학생도 첫날부터 실습하는 초고속 입문서)\",\n",
      "\t\t\t\"link\":\"https:\\/\\/search.shopping.naver.com\\/book\\/catalog\\/40354085633\",\n",
      "\t\t\t\"image\":\"https:\\/\\/shopping-phinf.pstatic.net\\/main_4035408\\/40354085633.20230715070835.jpg\",\n",
      "\t\t\t\"author\":\"박응용\",\n",
      "\t\t\t\"discount\":\"19800\",\n",
      "\t\t\t\"publisher\":\"이지스퍼블리싱\",\n",
      "\t\t\t\"pubdate\":\"20230615\",\n",
      "\t\t\t\"isbn\":\"9791163034735\",\n",
      "\t\t\t\"description\":\"프로그래밍 분야 8년 연속 베스트셀러! 《Do it! 점프 투 파이썬》 전면 개정 2판 출시! 중고등학생도, 비전공자도, 직장인도 프로그래밍에 눈뜨게 만든 바로 그 책이 전면 개정 2판으로 새롭게 태어났다! 챗GPT를 시작으로 펼쳐진 생성 AI 시대에 맞춰 설명과 예제를 다듬고, 최신 경향과 심화 내용을 보충했다. 또한 이번 개정 2판도 50만 코딩 유튜버인 조코딩과 협업을 통해 유튜브 동영상을 제공해 파이썬을 더 쉽게 공부할 수 있다.\\n\\n\\n\\n8년 연속 베스트셀러! 위키독스 누적 방문 300만! 독자의 입에서 입으로 전해진 추천과 수많은 대학 및 학원의 교재 채택을 통해 검증은 이미 끝났다. 코딩을 처음 배우는 중고등학생부터 코딩 소양을 기르려는 비전공자, 자기계발에 진심인 직장인까지! 이 책과 함께 파이썬 프로그래밍의 세계로 ‘점프’해 보자!\"\n",
      "\t\t},\n",
      "\t\t{\n",
      "\t\t\t\"title\":\"디딤돌 파이썬 (구조적 프로그래밍으로 설명한 파이썬 기초)\",\n",
      "\t\t\t\"link\":\"https:\\/\\/search.shopping.naver.com\\/book\\/catalog\\/34233217628\",\n",
      "\t\t\t\"image\":\"https:\\/\\/shopping-phinf.pstatic.net\\/main_3423321\\/34233217628.20221019114545.jpg\",\n",
      "\t\t\t\"author\":\"이찬수\",\n",
      "\t\t\t\"discount\":\"26100\",\n",
      "\t\t\t\"publisher\":\"인피니티북스\",\n",
      "\t\t\t\"pubdate\":\"20220823\",\n",
      "\t\t\t\"isbn\":\"9791192373058\",\n",
      "\t\t\t\"description\":\"이 책은 파이썬의 고유한 문법이나 그에 대한 활용보다는, 파이썬 언어를 기반으로 한 컴퓨터 프로그래밍과 문제해결에 비중을 두고 있다. 이를 위해 일반적인 파이썬 학습 순서와는 달리 첫 시작부터 ‘사용자 정의 함수’를 중심으로 서술한다.\\n다양한 예제를 통해 문제의 요구사항을 의사코드로 설계하고, 이를 실제로 구현해볼 수 있다. 이 과정에서 복잡한 문제를 좀 더 다루기 쉽도록 작은 규모로 분해하고, 함수로 구조화하여 문제를 해결한다. 또한 앞에서 다룬 코드에 기능을 추가하거나 수정하여 프로그램을 점차 확장시킨다. 이러한 학습 과정으로 어떤 새롭고 복잡한 문제를 만나더라도 스스로 해결할 수 있는 능력을 갖출 수 있을 것이다.\\n\\n이 책의 구성\\n- 1장: 컴퓨터 시스템의 기본 특징을 통해 프로그래밍에 대한 개념을 소개한다. \\n- 2장: 파이썬 소스코드에 나타나는 주석과 문장, 리터럴 그리고 함수에 대해 소개한다. \\n- 3장: 변수에 대한 개념과 입력문을 통해 데이터를 입력 받는 방법에 대해 알아본다. \\n- 4장: 하나의 연산 표현식을 이루는 기본 연산자 중 부호, 산술, 대입, 비트, 축약 대입 연산자 그리고 연산자 우선순위와 결합규칙을 소개함으로써 기본적인 연산을 처리하는 프로그램을 작성할 수 있도록 한다.\\n- 5장: 지역변수와 전역변수의 차이를 기반으로 함수 호출 메커니즘에 대한 온전한 이해를 도모한다.\\n- 6장: 문자열을 표현하는 다양한 방법과 문자열에서 제공되는 기본 메서드에 대해 소개한다. \\n- 7장: 비교 연산자와 논리 연산자를 기반으로 조건평가식을 구성하고, 이를 조건문에 적용해 본다.\\n- 8장: 프로그램에서의 반복 루프를 효율적으로 기술하기 위해 while 문과 for 문에 대해 다룬다.\\n- 9장: 복합 자료형 중 리스트와 튜플, 딕셔너리에 대해 다룬다.\\n- 10장: 복합 자료형의 데이터를 반복문과 같이 좀 더 효율적으로 사용하는 방법에 대해 다룬다.\\n- 11장: 객체지향 프로그래밍에 대한 기본 개념들을 다룬다.\\n- 12장: 데이터 파일에 대한 개념과 더불어 데이터 파일에 입출력하는 방법에 대해 다룬다.\\n- 13장: tkinter 모듈을 인용해 GUI 프로그램을 작성하는 방법에 대해 소개한다.\"\n",
      "\t\t},\n",
      "\t\t{\n",
      "\t\t\t\"title\":\"코딩은 처음이라 with 파이썬\",\n",
      "\t\t\t\"link\":\"https:\\/\\/search.shopping.naver.com\\/book\\/catalog\\/39049935621\",\n",
      "\t\t\t\"image\":\"https:\\/\\/shopping-phinf.pstatic.net\\/main_3904993\\/39049935621.20230627101739.jpg\",\n",
      "\t\t\t\"author\":\"남규진\",\n",
      "\t\t\t\"discount\":\"18000\",\n",
      "\t\t\t\"publisher\":\"영진닷컴\",\n",
      "\t\t\t\"pubdate\":\"20230405\",\n",
      "\t\t\t\"isbn\":\"9788931467994\",\n",
      "\t\t\t\"description\":\"이 책은 총 12장의 파트로 구성되어 있습니다만 사실 1장부터 11장까지는 모두 12장 파이썬 프로젝트의 프로그램을 이해하고 작성하기 위한 내용이라고 볼 수 있습니다.\\n\\n내용은 다음과 같이 구성되어 있습니다. \\nㆍ\\tPart 1 파이썬 입문 \\nㆍ\\tPart 2 파이썬 실습 환경\\nㆍ\\tPart 3 파이썬 입출력\\nㆍ\\tPart 4 변수와 자료형\\nㆍ\\tPart 5 연산자\\nㆍ\\tPart 6 조건문과 반복문\\nㆍ\\tPart 7 함수\\nㆍ\\tPart 8 클래스\\nㆍ\\tPart 9 모듈과 라이브러리\\nㆍ\\tPart 10 파일 입출력\\nㆍ\\tPart 11 예외처리\\nㆍ\\tPart 12 파이썬 프로젝트\\n\\n학습 순서는 Part 1부터 순서대로 학습하면 되겠습니다. 1장부터 11장까지 공부한 모든 내용을 접목하여 이제 실제 동작 가능한 프로그램을 만들어봅니다. 숫자 맞추기 게임, 영어 단어 맞추기 게임, 숫자 야구 게임, 콘솔 계산기, 타자 게임, 로또 번호 생성기, 파이썬으로 엑셀 파일 불러오고 생성하기, 파이썬으로 MS-WORD 파일 작성하기로 총 9개의 실습 프로그램을 만들어보고 있습니다. 단순히 완성된 코드를 설명하는 방식이 아닌 실제 코드를 하나씩 살을 붙여 완성해 나가는 형태로 진행합니다.\\n프로그래밍을 공부할 때, 얼만큼 많이 지식을 알고 있느냐가 아니라 내가 알고 있는 내용을 어떻게 잘 활용할 줄 아느냐가 중요합니다. 그렇기 때문에 이 책에서 나오는 내용과 문제들을 보면서 여러 방면으로 해결해보시기 바랍니다. 소스코드에서 제공하는 정답은 예시일 뿐 꼭 그것만이 정답은 아닙니다.\\n파이썬 프로젝트도 실행해보면서 어떻게 하면 더 좋은 프로그램으로 업그레이드할 수 있는지 부족한 부분을 보완해가며 공부해보시기 바랍니다.\\n\\n【 대상 독자층 】\\n- 파이썬을 처음 접하는 분\\n- 파이썬 프로그래밍 입문자 및 학생\\n- 파이썬 기초 문법만 알고 활용하기 어려운 분\"\n",
      "\t\t},\n",
      "\t\t{\n",
      "\t\t\t\"title\":\"혼자 공부하는 파이썬 (1:1 과외하듯 배우는 프로그래밍 자습서)\",\n",
      "\t\t\t\"link\":\"https:\\/\\/search.shopping.naver.com\\/book\\/catalog\\/32507605957\",\n",
      "\t\t\t\"image\":\"https:\\/\\/shopping-phinf.pstatic.net\\/main_3250760\\/32507605957.20230509170119.jpg\",\n",
      "\t\t\t\"author\":\"윤인성\",\n",
      "\t\t\t\"discount\":\"19800\",\n",
      "\t\t\t\"publisher\":\"한빛미디어\",\n",
      "\t\t\t\"pubdate\":\"20220601\",\n",
      "\t\t\t\"isbn\":\"9791162245651\",\n",
      "\t\t\t\"description\":\"혼자 해도 충분하다! 1:1 과외하듯 배우는 파이썬 프로그래밍 자습서\\n\\n『혼자 공부하는 파이썬』이 더욱 흥미있고 알찬 내용으로 개정되었습니다. 프로그래밍이 정말 처음인 입문자도 따라갈 수 있는 친절한 설명과 단계별 학습은 그대로! 혼자 공부하더라도 체계적으로 계획을 세워 학습할 수 있도록 ‘혼공 계획표’를 새롭게 추가했습니다. 또한 입문자가 자주 물어보는 질문과 오류 해결 방법을 적재적소에 배치하여 예상치 못한 문제에 부딪혀도 좌절하지 않고 끝까지 완독할 수 있도록 도와줍니다. 단순한 문법 암기와 코딩 따라하기에 지쳤다면, 새로운 혼공파와 함께 ‘누적 예제’와 ‘도전 문제’로 프로그래밍의 신세계를 경험해 보세요! 배운 내용을 씹고 뜯고 맛보고 즐기다 보면 응용력은 물론 알고리즘 사고력까지 키워 코딩 실력이 쑥쑥 성장할 것입니다.\\n\\n이 책은 독학으로 파이썬을 배우는 입문자가 ‘꼭 필요한 내용을 제대로 학습’할 수 있도록 구성했습니다. 뭘 모르는지조차 모르는 입문자의 막연한 마음에 십분 공감하여 과외 선생님이 알려주듯 친절하게, 핵심적인 내용만 콕콕 집어줍니다. 책의 첫 페이지를 펼쳐서 마지막 페이지를 덮을 때까지, 혼자서도 충분히 파이썬을 배울 수 있다는 자신감과 확신이 계속될 것입니다!\\n\\n베타리더와 함께 입문자에게 맞는 난이도, 분량, 학습 요소 등을 적극 반영했습니다. 어려운 용어와 개념은 한 번 더 풀어쓰고, 복잡한 설명은 눈에 잘 들어오는 그림으로 풀어냈습니다. ‘혼자 공부해 본’ 여러 입문자의 초심과 눈높이가 책 곳곳에 반영된 것이 이 책의 가장 큰 장점입니다.\"\n",
      "\t\t},\n",
      "\t\t{\n",
      "\t\t\t\"title\":\"혼자 공부하는 데이터 분석 with 파이썬 (1:1 과외하듯 배우는 데이터 분석 자습서)\",\n",
      "\t\t\t\"link\":\"https:\\/\\/search.shopping.naver.com\\/book\\/catalog\\/36555425618\",\n",
      "\t\t\t\"image\":\"https:\\/\\/shopping-phinf.pstatic.net\\/main_3655542\\/36555425618.20230103163017.jpg\",\n",
      "\t\t\t\"author\":\"박해선\",\n",
      "\t\t\t\"discount\":\"23400\",\n",
      "\t\t\t\"publisher\":\"한빛미디어\",\n",
      "\t\t\t\"pubdate\":\"20230102\",\n",
      "\t\t\t\"isbn\":\"9791169210287\",\n",
      "\t\t\t\"description\":\"혼자 해도 충분하다! 1:1 과외하듯 배우는 데이터 분석 자습서\\n\\n이 책은 독학으로 데이터 분석을 배우는 입문자가 ‘꼭 필요한 내용을 제대로 학습’할 수 있도록 구성했습니다. 뭘 모르는지조차 모르는 입문자의 막연한 마음에 십분 공감하여 과외 선생님이 알려주듯 친절하게, 핵심적인 내용만 콕콕 집어 줍니다. 책의 첫 페이지를 펼쳐서 마지막 페이지를 덮을 때까지, 혼자서도 충분히 데이터 분석을 배울 수 있다는 자신감과 확신이 계속될 것입니다!\\n\\n베타리더 검증으로, ‘함께 만든’ 입문자 맞춤형 도서\\n베타리더와 함께 입문자에게 맞는 난이도, 분량, 학습 요소 등을 고민하고 이를 적극 반영했습니다. 어려운 용어와 개념은 한 번 더 풀어쓰고, 복잡한 설명은 눈에 잘 들어오는 그림으로 풀어냈습니다. ‘혼자 공부해 본’ 여러 입문자의 초심과 눈높이가 책 곳곳에 반영된 것이 이 책의 가장 큰 장점입니다.\\n\\n누구를 위한 책인가요?\\n\\n●\\t데이터 분석을 어떻게 시작할지 막막한 비전공자\\n●\\t파이썬을 배운 다음 의미 있는 실습을 해 보고 싶은 파이썬 입문자\\n●\\t프로그래밍은 알지만, 분석(통계)에 대한 이해가 필요한 개발자\\n●\\t데이터에서 유의미한 결과를 도출해 이를 기획이나 마케팅에 적용해 보고 싶은 직장인\\n●\\t데이터 분석가, 데이터 사이언티스트라는 직업에 관심 있는 모든 사람\"\n",
      "\t\t},\n",
      "\t\t{\n",
      "\t\t\t\"title\":\"모두의 한국어 텍스트 분석 with 파이썬 (기초부터 챗GPT까지, 누구나 쉽게 시작하는 자연어 처리)\",\n",
      "\t\t\t\"link\":\"https:\\/\\/search.shopping.naver.com\\/book\\/catalog\\/40188111643\",\n",
      "\t\t\t\"image\":\"https:\\/\\/shopping-phinf.pstatic.net\\/main_4018811\\/40188111643.20230614072641.jpg\",\n",
      "\t\t\t\"author\":\"박조은^송영숙\",\n",
      "\t\t\t\"discount\":\"24300\",\n",
      "\t\t\t\"publisher\":\"길벗\",\n",
      "\t\t\t\"pubdate\":\"20230529\",\n",
      "\t\t\t\"isbn\":\"9791140704521\",\n",
      "\t\t\t\"description\":\"먼 미래의 거대 모델도 작은 모델에서 시작! \\n지금 당장 내 손으로 직접 작고 간단한 모델을 구현해보자!\\n정말 쉽게 누구나 따라 해볼 수 있는 실전형 프로젝트 4가지 수록!\\n \\n컴퓨터는 한국어를 어떻게 이해할 수 있을까? 컴퓨터로 한국어 텍스트를 다루는 데는 무엇이 필요할까? 맨땅에서 텍스트 분석을 시작하려 할 때 또는 텍스트 분석과 자연어 처리 분야의 기본기를 탄탄히 다지며 재정비하고 싶을 때 반드시 알아야 하는 내용만 담았다. \\n우선 본격적인 프로젝트를 시작하기 전에 텍스트 분석에 필요한 파이썬 기초 개념과 필수 파이썬 라이브러리의 기본 사용법을 살펴보면서, 텍스트 데이터 전처리 기능과 방법을 익힌다. 다음으로 텍스트 분석의 기본 개념이자 텍스트를 수치 형태의 데이터로 변환하는 벡터화 방법인 단어 가방 모형과 TF-IDF를 배운다. 이어서 네 가지 다른 한국어 데이터를 가지고 실제 프로젝트를 진행해본다. 프로젝트는 데이터 다운로드부터 전처리, 시각화까지 전 과정을 다루며, 실습은 지금 당장 어디서라도 쉽게 진행할 수 있게 코랩으로 준비했다.\"\n",
      "\t\t},\n",
      "\t\t{\n",
      "\t\t\t\"title\":\"코딩 자율학습 나도코딩의 파이썬 입문 (초보자 눈높이에 맞춘 친절한 프로그래밍 자습서)\",\n",
      "\t\t\t\"link\":\"https:\\/\\/search.shopping.naver.com\\/book\\/catalog\\/37828235624\",\n",
      "\t\t\t\"image\":\"https:\\/\\/shopping-phinf.pstatic.net\\/main_3782823\\/37828235624.20230404163151.jpg\",\n",
      "\t\t\t\"author\":\"나도코딩\",\n",
      "\t\t\t\"discount\":\"21600\",\n",
      "\t\t\t\"publisher\":\"길벗\",\n",
      "\t\t\t\"pubdate\":\"20230220\",\n",
      "\t\t\t\"isbn\":\"9791140703302\",\n",
      "\t\t\t\"description\":\"30만 명의 구독자와 2만 6천 명의 수강생이 증명한 최고의 파이썬 강의\\n나도코딩의 프로그래밍 학습 노하우를 배우자!\\n\\n유튜브와 인프런 최고의 인기 강의를 한 권에 담았습니다. 일상 속 재미있는 예제로 파이썬 기본 개념을 배우고 1분 퀴즈, 실습 문제, 셀프체크로 이어지는 단계별 학습으로 파이썬을 완공할 수 있습니다. 이제 코딩은 선택이 아닌 필수! 코딩은 전공자만 배울 수 있다는 생각으로 지레 포기하지 마세요. 파이썬은 초보자가 가장 쉽게 배울 수 있는 프로그래밍 언어입니다. 관심만 있다면 누구나 코딩을 배울 수 있습니다. 나도코딩이 쉽고 재미있게 알려드립니다. 코딩을 처음 배우는 사람도 단계적 용어 설명과 친절한 지시선으로 막힘없이 따라 할 수 있습니다. 기본 설명 외에 팁, 노트 등을 적재적소에 배치해 혼자 공부할 때 생길 수 있는 의문점을 쉽게 해결할 수 있게 도와줍니다. 이제 〈코딩 자율학습 나도코딩의 파이썬 입문〉으로 완벽한 코딩 자율학습을 경험해 보세요.\"\n",
      "\t\t},\n",
      "\t\t{\n",
      "\t\t\t\"title\":\"Wonder 파이썬 (놀랍도록 쉬운 파이썬 기초)\",\n",
      "\t\t\t\"link\":\"https:\\/\\/search.shopping.naver.com\\/book\\/catalog\\/33490408618\",\n",
      "\t\t\t\"image\":\"https:\\/\\/shopping-phinf.pstatic.net\\/main_3349040\\/33490408618.20230411163730.jpg\",\n",
      "\t\t\t\"author\":\"조성호\",\n",
      "\t\t\t\"discount\":\"25200\",\n",
      "\t\t\t\"publisher\":\"인피니티북스\",\n",
      "\t\t\t\"pubdate\":\"20220708\",\n",
      "\t\t\t\"isbn\":\"9791192373034\",\n",
      "\t\t\t\"description\":\"파이썬을 이보다 더 쉽고 재미있게 설명할 수 없다\\n\\n파이썬 언어의 문법은 매우 단순하여 누구나 쉽게 배울 수 있다. 이러한 장점으로 프로그래밍을 처음 배우는 초보자들에게 추천되는 언어이다. 이 책은 실생활에서 흔히 접할 수 있는 예제와 여러 캐릭터를 활용한 그림으로 비전공자도 쉽게 이해할 수 있도록 풀어서 설명했다. 그리고 어느 파이썬 책에서도 볼 수 없었던 독창적인 예제 코드들로, 놀랍고 신기한 실행결과를 눈으로 직접 확인해볼 수 있다. 또한 다양한 주제의 LAB을 통해 직접 실습하고, 각 장마다 학습한 내용은 연습문제를 통해 점검할 수 있도록 구성하였다.\\n\\n이 책의 특징\\n1. 파이썬 문법을 다양한 캐릭터와 그림으로 재미있게 설명\\n2. 30줄 내외의 간결한 코드로 초보자도 쉽게 이해하고 실습 가능\\n3. 실생활에 응용할 수 있는 다양한 주제의 LAB과 PROJECT를 포함\\n4. 움직이는 코드나 화려한 그래픽을 활용한 150여 개의 독창적인 코드\\n5. 각 장마다 중간점검 문제와 코드를 포함한 다양한 연습문제 376개 수록\"\n",
      "\t\t}\n",
      "\t]\n",
      "}\n"
     ]
    }
   ],
   "source": [
    "# 네이버 검색 API 예제 - 책 검색\n",
    "import os\n",
    "import sys\n",
    "import urllib.request\n",
    "\n",
    "client_id = \"uWjPiTXpyicaLlVms_G7\"\n",
    "client_secret = \"k2AWhzVDiL\"\n",
    "\n",
    "encText = urllib.parse.quote(\"파이썬\")\n",
    "url = \"https://openapi.naver.com/v1/search/book?query=\" + encText # JSON 결과\n",
    "# url = \"https://openapi.naver.com/v1/search/blog.xml?query=\" + encText # XML 결과\n",
    "request = urllib.request.Request(url)\n",
    "request.add_header(\"X-Naver-Client-Id\",client_id)\n",
    "request.add_header(\"X-Naver-Client-Secret\",client_secret)\n",
    "response = urllib.request.urlopen(request)\n",
    "rescode = response.getcode()\n",
    "if(rescode==200):\n",
    "    response_body = response.read()\n",
    "    print(response_body.decode('utf-8'))\n",
    "else:\n",
    "    print(\"Error Code:\" + rescode)\n"
   ]
  },
  {
   "cell_type": "markdown",
   "metadata": {},
   "source": [
    "## 검색 : 영화(movie) > 종료"
   ]
  },
  {
   "cell_type": "code",
   "execution_count": 16,
   "metadata": {},
   "outputs": [
    {
     "ename": "HTTPError",
     "evalue": "HTTP Error 404: Not Found",
     "output_type": "error",
     "traceback": [
      "\u001b[0;31m---------------------------------------------------------------------------\u001b[0m",
      "\u001b[0;31mHTTPError\u001b[0m                                 Traceback (most recent call last)",
      "Cell \u001b[0;32mIn[16], line 15\u001b[0m\n\u001b[1;32m     13\u001b[0m request\u001b[39m.\u001b[39madd_header(\u001b[39m\"\u001b[39m\u001b[39mX-Naver-Client-Id\u001b[39m\u001b[39m\"\u001b[39m,client_id)\n\u001b[1;32m     14\u001b[0m request\u001b[39m.\u001b[39madd_header(\u001b[39m\"\u001b[39m\u001b[39mX-Naver-Client-Secret\u001b[39m\u001b[39m\"\u001b[39m,client_secret)\n\u001b[0;32m---> 15\u001b[0m response \u001b[39m=\u001b[39m urllib\u001b[39m.\u001b[39mrequest\u001b[39m.\u001b[39murlopen(request)\n\u001b[1;32m     16\u001b[0m rescode \u001b[39m=\u001b[39m response\u001b[39m.\u001b[39mgetcode()\n\u001b[1;32m     17\u001b[0m \u001b[39mif\u001b[39;00m(rescode\u001b[39m==\u001b[39m\u001b[39m200\u001b[39m):\n",
      "File \u001b[0;32m~/miniforge3/envs/ds_study/lib/python3.11/urllib/request.py:216\u001b[0m, in \u001b[0;36murlopen\u001b[0;34m(url, data, timeout, cafile, capath, cadefault, context)\u001b[0m\n\u001b[1;32m    214\u001b[0m \u001b[39melse\u001b[39;00m:\n\u001b[1;32m    215\u001b[0m     opener \u001b[39m=\u001b[39m _opener\n\u001b[0;32m--> 216\u001b[0m \u001b[39mreturn\u001b[39;00m opener\u001b[39m.\u001b[39mopen(url, data, timeout)\n",
      "File \u001b[0;32m~/miniforge3/envs/ds_study/lib/python3.11/urllib/request.py:525\u001b[0m, in \u001b[0;36mOpenerDirector.open\u001b[0;34m(self, fullurl, data, timeout)\u001b[0m\n\u001b[1;32m    523\u001b[0m \u001b[39mfor\u001b[39;00m processor \u001b[39min\u001b[39;00m \u001b[39mself\u001b[39m\u001b[39m.\u001b[39mprocess_response\u001b[39m.\u001b[39mget(protocol, []):\n\u001b[1;32m    524\u001b[0m     meth \u001b[39m=\u001b[39m \u001b[39mgetattr\u001b[39m(processor, meth_name)\n\u001b[0;32m--> 525\u001b[0m     response \u001b[39m=\u001b[39m meth(req, response)\n\u001b[1;32m    527\u001b[0m \u001b[39mreturn\u001b[39;00m response\n",
      "File \u001b[0;32m~/miniforge3/envs/ds_study/lib/python3.11/urllib/request.py:634\u001b[0m, in \u001b[0;36mHTTPErrorProcessor.http_response\u001b[0;34m(self, request, response)\u001b[0m\n\u001b[1;32m    631\u001b[0m \u001b[39m# According to RFC 2616, \"2xx\" code indicates that the client's\u001b[39;00m\n\u001b[1;32m    632\u001b[0m \u001b[39m# request was successfully received, understood, and accepted.\u001b[39;00m\n\u001b[1;32m    633\u001b[0m \u001b[39mif\u001b[39;00m \u001b[39mnot\u001b[39;00m (\u001b[39m200\u001b[39m \u001b[39m<\u001b[39m\u001b[39m=\u001b[39m code \u001b[39m<\u001b[39m \u001b[39m300\u001b[39m):\n\u001b[0;32m--> 634\u001b[0m     response \u001b[39m=\u001b[39m \u001b[39mself\u001b[39m\u001b[39m.\u001b[39mparent\u001b[39m.\u001b[39merror(\n\u001b[1;32m    635\u001b[0m         \u001b[39m'\u001b[39m\u001b[39mhttp\u001b[39m\u001b[39m'\u001b[39m, request, response, code, msg, hdrs)\n\u001b[1;32m    637\u001b[0m \u001b[39mreturn\u001b[39;00m response\n",
      "File \u001b[0;32m~/miniforge3/envs/ds_study/lib/python3.11/urllib/request.py:563\u001b[0m, in \u001b[0;36mOpenerDirector.error\u001b[0;34m(self, proto, *args)\u001b[0m\n\u001b[1;32m    561\u001b[0m \u001b[39mif\u001b[39;00m http_err:\n\u001b[1;32m    562\u001b[0m     args \u001b[39m=\u001b[39m (\u001b[39mdict\u001b[39m, \u001b[39m'\u001b[39m\u001b[39mdefault\u001b[39m\u001b[39m'\u001b[39m, \u001b[39m'\u001b[39m\u001b[39mhttp_error_default\u001b[39m\u001b[39m'\u001b[39m) \u001b[39m+\u001b[39m orig_args\n\u001b[0;32m--> 563\u001b[0m     \u001b[39mreturn\u001b[39;00m \u001b[39mself\u001b[39m\u001b[39m.\u001b[39m_call_chain(\u001b[39m*\u001b[39margs)\n",
      "File \u001b[0;32m~/miniforge3/envs/ds_study/lib/python3.11/urllib/request.py:496\u001b[0m, in \u001b[0;36mOpenerDirector._call_chain\u001b[0;34m(self, chain, kind, meth_name, *args)\u001b[0m\n\u001b[1;32m    494\u001b[0m \u001b[39mfor\u001b[39;00m handler \u001b[39min\u001b[39;00m handlers:\n\u001b[1;32m    495\u001b[0m     func \u001b[39m=\u001b[39m \u001b[39mgetattr\u001b[39m(handler, meth_name)\n\u001b[0;32m--> 496\u001b[0m     result \u001b[39m=\u001b[39m func(\u001b[39m*\u001b[39margs)\n\u001b[1;32m    497\u001b[0m     \u001b[39mif\u001b[39;00m result \u001b[39mis\u001b[39;00m \u001b[39mnot\u001b[39;00m \u001b[39mNone\u001b[39;00m:\n\u001b[1;32m    498\u001b[0m         \u001b[39mreturn\u001b[39;00m result\n",
      "File \u001b[0;32m~/miniforge3/envs/ds_study/lib/python3.11/urllib/request.py:643\u001b[0m, in \u001b[0;36mHTTPDefaultErrorHandler.http_error_default\u001b[0;34m(self, req, fp, code, msg, hdrs)\u001b[0m\n\u001b[1;32m    642\u001b[0m \u001b[39mdef\u001b[39;00m \u001b[39mhttp_error_default\u001b[39m(\u001b[39mself\u001b[39m, req, fp, code, msg, hdrs):\n\u001b[0;32m--> 643\u001b[0m     \u001b[39mraise\u001b[39;00m HTTPError(req\u001b[39m.\u001b[39mfull_url, code, msg, hdrs, fp)\n",
      "\u001b[0;31mHTTPError\u001b[0m: HTTP Error 404: Not Found"
     ]
    }
   ],
   "source": [
    "# 네이버 검색 API 예제 - 영화 검색\n",
    "import os\n",
    "import sys\n",
    "import urllib.request\n",
    "\n",
    "client_id = \"uWjPiTXpyicaLlVms_G7\"\n",
    "client_secret = \"k2AWhzVDiL\"\n",
    "\n",
    "encText = urllib.parse.quote(\"파이썬\")\n",
    "url = \"https://openapi.naver.com/v1/search/movie?query=\" + encText # JSON 결과\n",
    "# url = \"https://openapi.naver.com/v1/search/blog.xml?query=\" + encText # XML 결과\n",
    "request = urllib.request.Request(url)\n",
    "request.add_header(\"X-Naver-Client-Id\",client_id)\n",
    "request.add_header(\"X-Naver-Client-Secret\",client_secret)\n",
    "response = urllib.request.urlopen(request)\n",
    "rescode = response.getcode()\n",
    "if(rescode==200):\n",
    "    response_body = response.read()\n",
    "    print(response_body.decode('utf-8'))\n",
    "else:\n",
    "    print(\"Error Code:\" + rescode)\n"
   ]
  },
  {
   "cell_type": "markdown",
   "metadata": {},
   "source": [
    "## 검색 : 카페(cafearticle)"
   ]
  },
  {
   "cell_type": "code",
   "execution_count": 17,
   "metadata": {},
   "outputs": [
    {
     "name": "stdout",
     "output_type": "stream",
     "text": [
      "{\n",
      "\t\"lastBuildDate\":\"Sat, 15 Jul 2023 21:47:54 +0900\",\n",
      "\t\"total\":169174,\n",
      "\t\"start\":1,\n",
      "\t\"display\":10,\n",
      "\t\"items\":[\n",
      "\t\t{\n",
      "\t\t\t\"title\":\"학점은행제 컴퓨터공학, 코딩 <b>파이썬<\\/b> 독학! 인강으로 기초 쌓기\",\n",
      "\t\t\t\"link\":\"http:\\/\\/cafe.naver.com\\/outcampus\\/700591\",\n",
      "\t\t\t\"description\":\"학점은행제 컴퓨터공학, 코딩 <b>파이썬<\\/b> 독학! 인강으로 기초 쌓기 평균 수명이 늘어난 만큼 평생 직업에 대한... 및 <b>파이썬<\\/b> 기초가 필요하신 분들에게는 트렌디한 기초 강의도 연계해드리고 있어요 학점은행제... \",\n",
      "\t\t\t\"cafename\":\"[아웃캠퍼스] 대학생 공모전 대외활동...\",\n",
      "\t\t\t\"cafeurl\":\"https:\\/\\/cafe.naver.com\\/outcampus\"\n",
      "\t\t},\n",
      "\t\t{\n",
      "\t\t\t\"title\":\"<b>파이썬<\\/b> 하실 분 계실까요?\",\n",
      "\t\t\t\"link\":\"http:\\/\\/cafe.naver.com\\/isajime\\/5573710\",\n",
      "\t\t\t\"description\":\"혼자 <b>파이썬<\\/b> 공부하려니 심심하고 진도가 잘 안나가네요. ㅎㅎ 프로그래밍 언어라 많이 어려워서... 왜 <b>파이썬<\\/b>을 하고 싶은지 댓글로 남겨주시면 오래 같이 하실분을 컨텍할까 하는데요( 좀 그런가요? ㅎㅎ) 아무도 지원... \",\n",
      "\t\t\t\"cafename\":\"고.우.리 일산아지매\",\n",
      "\t\t\t\"cafeurl\":\"https:\\/\\/cafe.naver.com\\/isajime\"\n",
      "\t\t},\n",
      "\t\t{\n",
      "\t\t\t\"title\":\"아두이노와 <b>파이썬<\\/b> 직렬통신 질문이요\",\n",
      "\t\t\t\"link\":\"http:\\/\\/cafe.naver.com\\/arduinostory\\/150994\",\n",
      "\t\t\t\"description\":\"아두이노 ide로 업로드는 했는데 <b>파이썬<\\/b>에서 업로드가 안 됩니다 Linking .pio... 1 계속 이 오류가 뜨네요. 아두이노와 <b>파이썬<\\/b> 직렬 통신을 하려고 합니다 최종적으로\",\n",
      "\t\t\t\"cafename\":\"아두이노 스토리\",\n",
      "\t\t\t\"cafeurl\":\"https:\\/\\/cafe.naver.com\\/arduinostory\"\n",
      "\t\t},\n",
      "\t\t{\n",
      "\t\t\t\"title\":\"<b>파이썬<\\/b> 프로그래밍 초보자도 가능한 이유!\",\n",
      "\t\t\t\"link\":\"http:\\/\\/cafe.naver.com\\/winspec\\/556447\",\n",
      "\t\t\t\"description\":\"<b>파이썬<\\/b> 프로그래밍 초보자 안녕하세요! 오늘은 <b>파이썬<\\/b> 프로그래밍 초보자도 가능한 방법 알려드리겠습니다! <b>파이썬<\\/b> 프로그래밍 언어는 개발에서 대표적으로 쓰이는 언어인데요! 진입장벽이 낮아 비전공자 분들도... \",\n",
      "\t\t\t\"cafename\":\"윈스펙｜부트캠프, 강연, 내일배움카드...\",\n",
      "\t\t\t\"cafeurl\":\"https:\\/\\/cafe.naver.com\\/winspec\"\n",
      "\t\t},\n",
      "\t\t{\n",
      "\t\t\t\"title\":\"백엔드로 <b>파이썬<\\/b> 장고는 잘 사용하지 않나요?\",\n",
      "\t\t\t\"link\":\"http:\\/\\/cafe.naver.com\\/hacosa\\/320174\",\n",
      "\t\t\t\"description\":\"■ 질문(상담) 내용 <b>파이썬<\\/b> 장고, PostgreSQL를 사용하는 백엔드 부트캠프 과정이 있는데, 이 과정에 대해 물어보니 <b>파이썬<\\/b> 장고에 대해서 부정적으로 보고 하지 않는 게 좋다고 많은 사람들이 말씀하시더라구요. 현재... \",\n",
      "\t\t\t\"cafename\":\"하드코딩하는사람들\",\n",
      "\t\t\t\"cafeurl\":\"https:\\/\\/cafe.naver.com\\/hacosa\"\n",
      "\t\t},\n",
      "\t\t{\n",
      "\t\t\t\"title\":\"<b>파이썬<\\/b> 공부하려고 노트북 사려는데..\",\n",
      "\t\t\t\"link\":\"http:\\/\\/cafe.naver.com\\/fx8300\\/1009900\",\n",
      "\t\t\t\"description\":\"노트북 추천좀 해주셨으면 좋겠습니다.. 학생이다보니 돈도 많지가않아 저렴한걸로 부탁드립니다. <b>파이썬<\\/b>공부랑 간단한 뭐 롤체..? 메이플 정도 할거같습니다.\",\n",
      "\t\t\t\"cafename\":\"AMD 비쉐라 라이젠 컴퓨터 사용자 모임\",\n",
      "\t\t\t\"cafeurl\":\"https:\\/\\/cafe.naver.com\\/fx8300\"\n",
      "\t\t},\n",
      "\t\t{\n",
      "\t\t\t\"title\":\"스덕호 인테그랄 <b>파이썬<\\/b>\",\n",
      "\t\t\t\"link\":\"http:\\/\\/cafe.naver.com\\/myknife\\/160891\",\n",
      "\t\t\t\"description\":\"칼안주 스덕 라센티 콜라보 <b>파이썬<\\/b> 만지작 거리면서 꾀돌이에 다크 럼 흡입합니다 좋은 조합이군요\",\n",
      "\t\t\t\"cafename\":\"칼을 좋아하는 사람들-나이프,서바이벌...\",\n",
      "\t\t\t\"cafeurl\":\"https:\\/\\/cafe.naver.com\\/myknife\"\n",
      "\t\t},\n",
      "\t\t{\n",
      "\t\t\t\"title\":\"축구는 아니고....! <b>파이썬<\\/b> 인데요ㅜ\",\n",
      "\t\t\t\"link\":\"http:\\/\\/cafe.naver.com\\/mancityworld\\/533997\",\n",
      "\t\t\t\"description\":\"대학시험으로 <b>파이썬<\\/b>을 보네요;,, 문제 하나 모르겠는데 알려주실 착한 시티즌 분 계실까요?? ㅜㅜ &lt;문제&gt; spam Spam SpaM egg eGG Egg ham hAm에서 'spam'이 몇 번 나타났는지 세는 코드를... \",\n",
      "\t\t\t\"cafename\":\"Manchester City World : 맨체스터 시...\",\n",
      "\t\t\t\"cafeurl\":\"https:\\/\\/cafe.naver.com\\/mancityworld\"\n",
      "\t\t},\n",
      "\t\t{\n",
      "\t\t\t\"title\":\"처음하는 사람이 합격하려면 <b>파이썬<\\/b> vs R 골라주세요\",\n",
      "\t\t\t\"link\":\"http:\\/\\/cafe.naver.com\\/sqlpd\\/55828\",\n",
      "\t\t\t\"description\":\"자격증은 일단 합격을 해야해서 아무것도 모르는 비전공자가 합격하기 쉬운 프로그램 골라주세요 ㅠㅠ <b>파이썬<\\/b>이 물론 더 범용적이고 확장성이있다는건 아는데 '합격'만을 위한다면 뭐가 좋을까요 3유형도 프로그램... \",\n",
      "\t\t\t\"cafename\":\"데이터 전문가 포럼 (빅데이터분석기사...\",\n",
      "\t\t\t\"cafeurl\":\"https:\\/\\/cafe.naver.com\\/sqlpd\"\n",
      "\t\t},\n",
      "\t\t{\n",
      "\t\t\t\"title\":\"<b>파이썬<\\/b>학원 <b>파이썬<\\/b> 국비지원 개발자 취업 한국정보교육원\",\n",
      "\t\t\t\"link\":\"http:\\/\\/cafe.naver.com\\/outcampus\\/700722\",\n",
      "\t\t\t\"description\":\"<b>파이썬<\\/b>학원 <b>파이썬<\\/b> 국비지원 개발자 취업 한국정보교육원 안녕하세요. 대기업 IT회사 출신 복영일 팀장 입니다. 제대로 IT취업 하고 싶다면 복팀장이 IT진로 상담 전문적으로 컨설팅 해드리고 있습니다 요즘에... \",\n",
      "\t\t\t\"cafename\":\"[아웃캠퍼스] 대학생 공모전 대외활동...\",\n",
      "\t\t\t\"cafeurl\":\"https:\\/\\/cafe.naver.com\\/outcampus\"\n",
      "\t\t}\n",
      "\t]\n",
      "}\n"
     ]
    }
   ],
   "source": [
    "# 네이버 검색 API 예제 - 카페 검색\n",
    "import os\n",
    "import sys\n",
    "import urllib.request\n",
    "\n",
    "client_id = \"uWjPiTXpyicaLlVms_G7\"\n",
    "client_secret = \"k2AWhzVDiL\"\n",
    "\n",
    "encText = urllib.parse.quote(\"파이썬\")\n",
    "url = \"https://openapi.naver.com/v1/search/cafearticle?query=\" + encText # JSON 결과\n",
    "# url = \"https://openapi.naver.com/v1/search/blog.xml?query=\" + encText # XML 결과\n",
    "request = urllib.request.Request(url)\n",
    "request.add_header(\"X-Naver-Client-Id\",client_id)\n",
    "request.add_header(\"X-Naver-Client-Secret\",client_secret)\n",
    "response = urllib.request.urlopen(request)\n",
    "rescode = response.getcode()\n",
    "if(rescode==200):\n",
    "    response_body = response.read()\n",
    "    print(response_body.decode('utf-8'))\n",
    "else:\n",
    "    print(\"Error Code:\" + rescode)\n"
   ]
  },
  {
   "cell_type": "markdown",
   "metadata": {},
   "source": [
    "## 검색 : 쇼핑(shop)"
   ]
  },
  {
   "cell_type": "code",
   "execution_count": 18,
   "metadata": {},
   "outputs": [
    {
     "name": "stdout",
     "output_type": "stream",
     "text": [
      "{\n",
      "\t\"lastBuildDate\":\"Sat, 15 Jul 2023 21:47:55 +0900\",\n",
      "\t\"total\":141545,\n",
      "\t\"start\":1,\n",
      "\t\"display\":10,\n",
      "\t\"items\":[\n",
      "\t\t{\n",
      "\t\t\t\"title\":\"Do it 점프 투 <b>파이썬<\\/b> 프로그래밍 언어 책 코딩\",\n",
      "\t\t\t\"link\":\"https:\\/\\/search.shopping.naver.com\\/gate.nhn?id=40923069997\",\n",
      "\t\t\t\"image\":\"https:\\/\\/shopping-phinf.pstatic.net\\/main_4092306\\/40923069997.jpg\",\n",
      "\t\t\t\"lprice\":\"19800\",\n",
      "\t\t\t\"hprice\":\"\",\n",
      "\t\t\t\"mallName\":\"인터파크쇼핑\",\n",
      "\t\t\t\"productId\":\"40923069997\",\n",
      "\t\t\t\"productType\":\"2\",\n",
      "\t\t\t\"brand\":\"\",\n",
      "\t\t\t\"maker\":\"\",\n",
      "\t\t\t\"category1\":\"출산\\/육아\",\n",
      "\t\t\t\"category2\":\"교구\",\n",
      "\t\t\t\"category3\":\"학습교구\",\n",
      "\t\t\t\"category4\":\"기타교구\"\n",
      "\t\t},\n",
      "\t\t{\n",
      "\t\t\t\"title\":\"[길벗]<b>파이썬<\\/b> 무작정 따라하기[1017218036]\",\n",
      "\t\t\t\"link\":\"https:\\/\\/search.shopping.naver.com\\/gate.nhn?id=34118710994\",\n",
      "\t\t\t\"image\":\"https:\\/\\/shopping-phinf.pstatic.net\\/main_3411871\\/34118710994.jpg\",\n",
      "\t\t\t\"lprice\":\"13830\",\n",
      "\t\t\t\"hprice\":\"\",\n",
      "\t\t\t\"mallName\":\"위메프\",\n",
      "\t\t\t\"productId\":\"34118710994\",\n",
      "\t\t\t\"productType\":\"2\",\n",
      "\t\t\t\"brand\":\"\",\n",
      "\t\t\t\"maker\":\"\",\n",
      "\t\t\t\"category1\":\"출산\\/육아\",\n",
      "\t\t\t\"category2\":\"교구\",\n",
      "\t\t\t\"category3\":\"학습교구\",\n",
      "\t\t\t\"category4\":\"기타교구\"\n",
      "\t\t},\n",
      "\t\t{\n",
      "\t\t\t\"title\":\"혼자 공부하는 <b>파이썬<\\/b>  1:1 과외 배우는 프로그래밍 자습서 (개정판)\",\n",
      "\t\t\t\"link\":\"https:\\/\\/search.shopping.naver.com\\/gate.nhn?id=40502835221\",\n",
      "\t\t\t\"image\":\"https:\\/\\/shopping-phinf.pstatic.net\\/main_4050283\\/40502835221.jpg\",\n",
      "\t\t\t\"lprice\":\"27700\",\n",
      "\t\t\t\"hprice\":\"\",\n",
      "\t\t\t\"mallName\":\"G마켓\",\n",
      "\t\t\t\"productId\":\"40502835221\",\n",
      "\t\t\t\"productType\":\"2\",\n",
      "\t\t\t\"brand\":\"\",\n",
      "\t\t\t\"maker\":\"\",\n",
      "\t\t\t\"category1\":\"출산\\/육아\",\n",
      "\t\t\t\"category2\":\"교구\",\n",
      "\t\t\t\"category3\":\"학습교구\",\n",
      "\t\t\t\"category4\":\"기타교구\"\n",
      "\t\t},\n",
      "\t\t{\n",
      "\t\t\t\"title\":\"[길벗] [길벗] 코딩 자율학습 나도코딩의 <b>파이썬<\\/b> 입문\",\n",
      "\t\t\t\"link\":\"https:\\/\\/search.shopping.naver.com\\/gate.nhn?id=39531653816\",\n",
      "\t\t\t\"image\":\"https:\\/\\/shopping-phinf.pstatic.net\\/main_3953165\\/39531653816.jpg\",\n",
      "\t\t\t\"lprice\":\"21600\",\n",
      "\t\t\t\"hprice\":\"\",\n",
      "\t\t\t\"mallName\":\"롯데홈쇼핑\",\n",
      "\t\t\t\"productId\":\"39531653816\",\n",
      "\t\t\t\"productType\":\"2\",\n",
      "\t\t\t\"brand\":\"길벗\",\n",
      "\t\t\t\"maker\":\"길벗\",\n",
      "\t\t\t\"category1\":\"출산\\/육아\",\n",
      "\t\t\t\"category2\":\"교구\",\n",
      "\t\t\t\"category3\":\"학습교구\",\n",
      "\t\t\t\"category4\":\"기타교구\"\n",
      "\t\t},\n",
      "\t\t{\n",
      "\t\t\t\"title\":\"혼자 공부하는 <b>파이썬<\\/b> (1:1 과외하듯 배우는 프로그래밍 독학 자습서 책)(개정판)\",\n",
      "\t\t\t\"link\":\"https:\\/\\/search.shopping.naver.com\\/gate.nhn?id=40231355730\",\n",
      "\t\t\t\"image\":\"https:\\/\\/shopping-phinf.pstatic.net\\/main_4023135\\/40231355730.jpg\",\n",
      "\t\t\t\"lprice\":\"28500\",\n",
      "\t\t\t\"hprice\":\"\",\n",
      "\t\t\t\"mallName\":\"옥션\",\n",
      "\t\t\t\"productId\":\"40231355730\",\n",
      "\t\t\t\"productType\":\"2\",\n",
      "\t\t\t\"brand\":\"\",\n",
      "\t\t\t\"maker\":\"\",\n",
      "\t\t\t\"category1\":\"출산\\/육아\",\n",
      "\t\t\t\"category2\":\"교구\",\n",
      "\t\t\t\"category3\":\"학습교구\",\n",
      "\t\t\t\"category4\":\"기타교구\"\n",
      "\t\t},\n",
      "\t\t{\n",
      "\t\t\t\"title\":\"혼자 공부하는 <b>파이썬<\\/b> 1:1 과외 배우는 프로그래밍 자습서 (개정판)\",\n",
      "\t\t\t\"link\":\"https:\\/\\/search.shopping.naver.com\\/gate.nhn?id=40503957601\",\n",
      "\t\t\t\"image\":\"https:\\/\\/shopping-phinf.pstatic.net\\/main_4050395\\/40503957601.jpg\",\n",
      "\t\t\t\"lprice\":\"26700\",\n",
      "\t\t\t\"hprice\":\"\",\n",
      "\t\t\t\"mallName\":\"쿠팡\",\n",
      "\t\t\t\"productId\":\"40503957601\",\n",
      "\t\t\t\"productType\":\"2\",\n",
      "\t\t\t\"brand\":\"\",\n",
      "\t\t\t\"maker\":\"\",\n",
      "\t\t\t\"category1\":\"출산\\/육아\",\n",
      "\t\t\t\"category2\":\"교구\",\n",
      "\t\t\t\"category3\":\"학습교구\",\n",
      "\t\t\t\"category4\":\"기타교구\"\n",
      "\t\t},\n",
      "\t\t{\n",
      "\t\t\t\"title\":\"한빛미디어 <b>파이썬<\\/b>으로 웹 크롤러 만들기 (개정판)\",\n",
      "\t\t\t\"link\":\"https:\\/\\/search.shopping.naver.com\\/gate.nhn?id=41112105302\",\n",
      "\t\t\t\"image\":\"https:\\/\\/shopping-phinf.pstatic.net\\/main_4111210\\/41112105302.jpg\",\n",
      "\t\t\t\"lprice\":\"22500\",\n",
      "\t\t\t\"hprice\":\"\",\n",
      "\t\t\t\"mallName\":\"G마켓\",\n",
      "\t\t\t\"productId\":\"41112105302\",\n",
      "\t\t\t\"productType\":\"2\",\n",
      "\t\t\t\"brand\":\"\",\n",
      "\t\t\t\"maker\":\"한빛미디어\",\n",
      "\t\t\t\"category1\":\"출산\\/육아\",\n",
      "\t\t\t\"category2\":\"교구\",\n",
      "\t\t\t\"category3\":\"학습교구\",\n",
      "\t\t\t\"category4\":\"기타교구\"\n",
      "\t\t},\n",
      "\t\t{\n",
      "\t\t\t\"title\":\"점프 투 <b>파이썬<\\/b> (전면 개정판) 책\",\n",
      "\t\t\t\"link\":\"https:\\/\\/search.shopping.naver.com\\/gate.nhn?id=40230844404\",\n",
      "\t\t\t\"image\":\"https:\\/\\/shopping-phinf.pstatic.net\\/main_4023084\\/40230844404.jpg\",\n",
      "\t\t\t\"lprice\":\"24800\",\n",
      "\t\t\t\"hprice\":\"\",\n",
      "\t\t\t\"mallName\":\"인터파크쇼핑\",\n",
      "\t\t\t\"productId\":\"40230844404\",\n",
      "\t\t\t\"productType\":\"2\",\n",
      "\t\t\t\"brand\":\"\",\n",
      "\t\t\t\"maker\":\"\",\n",
      "\t\t\t\"category1\":\"출산\\/육아\",\n",
      "\t\t\t\"category2\":\"교구\",\n",
      "\t\t\t\"category3\":\"학습교구\",\n",
      "\t\t\t\"category4\":\"기타교구\"\n",
      "\t\t},\n",
      "\t\t{\n",
      "\t\t\t\"title\":\"한빛미디어 <b>파이썬<\\/b> 웹 프로그래밍 : 기초편\",\n",
      "\t\t\t\"link\":\"https:\\/\\/search.shopping.naver.com\\/gate.nhn?id=36242102021\",\n",
      "\t\t\t\"image\":\"https:\\/\\/shopping-phinf.pstatic.net\\/main_3624210\\/36242102021.jpg\",\n",
      "\t\t\t\"lprice\":\"23400\",\n",
      "\t\t\t\"hprice\":\"\",\n",
      "\t\t\t\"mallName\":\"G마켓\",\n",
      "\t\t\t\"productId\":\"36242102021\",\n",
      "\t\t\t\"productType\":\"2\",\n",
      "\t\t\t\"brand\":\"\",\n",
      "\t\t\t\"maker\":\"한빛미디어\",\n",
      "\t\t\t\"category1\":\"출산\\/육아\",\n",
      "\t\t\t\"category2\":\"교구\",\n",
      "\t\t\t\"category3\":\"학습교구\",\n",
      "\t\t\t\"category4\":\"기타교구\"\n",
      "\t\t},\n",
      "\t\t{\n",
      "\t\t\t\"title\":\"[길벗]모두의 인공지능 with <b>파이썬<\\/b>[1017217151]\",\n",
      "\t\t\t\"link\":\"https:\\/\\/search.shopping.naver.com\\/gate.nhn?id=34119321766\",\n",
      "\t\t\t\"image\":\"https:\\/\\/shopping-phinf.pstatic.net\\/main_3411932\\/34119321766.jpg\",\n",
      "\t\t\t\"lprice\":\"19010\",\n",
      "\t\t\t\"hprice\":\"\",\n",
      "\t\t\t\"mallName\":\"위메프\",\n",
      "\t\t\t\"productId\":\"34119321766\",\n",
      "\t\t\t\"productType\":\"2\",\n",
      "\t\t\t\"brand\":\"\",\n",
      "\t\t\t\"maker\":\"\",\n",
      "\t\t\t\"category1\":\"출산\\/육아\",\n",
      "\t\t\t\"category2\":\"교구\",\n",
      "\t\t\t\"category3\":\"학습교구\",\n",
      "\t\t\t\"category4\":\"기타교구\"\n",
      "\t\t}\n",
      "\t]\n",
      "}\n"
     ]
    }
   ],
   "source": [
    "# 네이버 검색 API 예제 - 쇼핑 검색\n",
    "import os\n",
    "import sys\n",
    "import urllib.request\n",
    "\n",
    "client_id = \"uWjPiTXpyicaLlVms_G7\"\n",
    "client_secret = \"k2AWhzVDiL\"\n",
    "\n",
    "encText = urllib.parse.quote(\"파이썬\")\n",
    "url = \"https://openapi.naver.com/v1/search/shop?query=\" + encText # JSON 결과\n",
    "# url = \"https://openapi.naver.com/v1/search/blog.xml?query=\" + encText # XML 결과\n",
    "request = urllib.request.Request(url)\n",
    "request.add_header(\"X-Naver-Client-Id\",client_id)\n",
    "request.add_header(\"X-Naver-Client-Secret\",client_secret)\n",
    "response = urllib.request.urlopen(request)\n",
    "rescode = response.getcode()\n",
    "if(rescode==200):\n",
    "    response_body = response.read()\n",
    "    print(response_body.decode('utf-8'))\n",
    "else:\n",
    "    print(\"Error Code:\" + rescode)\n"
   ]
  },
  {
   "cell_type": "markdown",
   "metadata": {},
   "source": [
    "## 검색 : 백과사전(encyc)"
   ]
  },
  {
   "cell_type": "code",
   "execution_count": 19,
   "metadata": {},
   "outputs": [
    {
     "name": "stdout",
     "output_type": "stream",
     "text": [
      "{\n",
      "\t\"lastBuildDate\":\"Sat, 15 Jul 2023 21:47:56 +0900\",\n",
      "\t\"total\":42,\n",
      "\t\"start\":1,\n",
      "\t\"display\":10,\n",
      "\t\"items\":[\n",
      "\t\t{\n",
      "\t\t\t\"title\":\"<b>파이썬<\\/b>\",\n",
      "\t\t\t\"link\":\"https:\\/\\/terms.naver.com\\/entry.naver?docId=3580815&cid=59088&categoryId=59096\",\n",
      "\t\t\t\"description\":\"‘<b>파이썬<\\/b>’이다. 간결한 문법으로 입문자가 이해하기 쉽고, 다양한 분야에 활용할 수 있기 때문이다. 이 외에도 <b>파이썬<\\/b>은 머신러닝, 그래픽, 웹 개발 등 여러 업계에서 선호하는 언어로 꾸준히... \",\n",
      "\t\t\t\"thumbnail\":\"http:\\/\\/openapi-dbscthumb.phinf.naver.net\\/4749_000_1\\/20170118193349632_0CHSSS5Y6.png\\/01_16.png?type=m160_160\"\n",
      "\t\t},\n",
      "\t\t{\n",
      "\t\t\t\"title\":\"<b>파이썬<\\/b>\",\n",
      "\t\t\t\"link\":\"https:\\/\\/terms.naver.com\\/entry.naver?docId=3607513&cid=58598&categoryId=59316\",\n",
      "\t\t\t\"description\":\" 컴퓨터 언어의 일종으로 간결하고 생산성 높은 프로그래밍 언어.  <b>파이썬<\\/b>(python)은 프로그램을 설계하는 프로그래밍 언어 중 하나입니다. 컴퓨터는 0과 1을(이진수) 인식하여 작동하기 때문에 과거에는... \",\n",
      "\t\t\t\"thumbnail\":\"http:\\/\\/openapi-dbscthumb.phinf.naver.net\\/4751_000_3\\/20170710213206672_OPHLG2VOW.jpg\\/992_170575_10034.jpg?type=m160_160\"\n",
      "\t\t},\n",
      "\t\t{\n",
      "\t\t\t\"title\":\"<b>파이썬<\\/b>\",\n",
      "\t\t\t\"link\":\"https:\\/\\/terms.naver.com\\/entry.naver?docId=3533295&cid=40942&categoryId=32838\",\n",
      "\t\t\t\"description\":\" 오픈소스 고급 프로그래밍 언어 중 하나이다.  C언어를 기반으로 한 오픈소스 고급 프로그래밍 언어로, 1991년 귀도 반 로섬(Guido van Rossum)에 의해 설계 및 개발되었다. <b>파이썬<\\/b>이라는 이름은 <b>파이썬<\\/b>을... \",\n",
      "\t\t\t\"thumbnail\":\"\"\n",
      "\t\t},\n",
      "\t\t{\n",
      "\t\t\t\"title\":\"장고\",\n",
      "\t\t\t\"link\":\"https:\\/\\/terms.naver.com\\/entry.naver?docId=4367087&cid=59088&categoryId=59096\",\n",
      "\t\t\t\"description\":\" 장고는 <b>파이썬<\\/b> 기반 웹 애플리케이션 프레임워크다. 좀 더 쉽게 웹 개발을 할 수 있게 돕는 오픈소스 기술이다. 장고는 개발 과정을 단축시켜주고, 다양한 추가 기능을 포함하고 있으며 보안성이... \",\n",
      "\t\t\t\"thumbnail\":\"https:\\/\\/dthumb-phinf.pstatic.net\\/?src=%22https%3A%2F%2Fpost-phinf.pstatic.net%2FMjAxNzEyMTVfMTM1%2FMDAxNTEzMzI3NDI4MjIz.nZhrYOO1nwD5YToYQRQoI8UH4MdHD8_SOjO2Uu_A45Ug.Is-NiXSP4wOgQDVNW_8j6QrMId6m1vlOohGSK1pEHa0g.JPEG%2FIjqeSPB8TSqGe9ibG3dK_hGmkobI.jpg%3Ftype%3Dm4500_4500_fst%22&type=w540#540x405#c405\"\n",
      "\t\t},\n",
      "\t\t{\n",
      "\t\t\t\"title\":\"루비 (프로그래밍 언어)\",\n",
      "\t\t\t\"link\":\"https:\\/\\/terms.naver.com\\/entry.naver?docId=3581025&cid=59088&categoryId=59096\",\n",
      "\t\t\t\"description\":\"C언어는 미국, 자바(Java)는 캐나다, <b>파이썬<\\/b>(Python)은 네덜란드, 스칼라(Scala)는 스위스에서 나오는 식이다. 이러한 환경에서 주류 언어이자 주목받은 새로운 언어 중 아시아 지역에서 탄생한 유일한 언어가... \",\n",
      "\t\t\t\"thumbnail\":\"http:\\/\\/openapi-dbscthumb.phinf.naver.net\\/4749_000_10\\/20170404204312715_1X732KEQK.png\\/1_40.png?type=m160_160\"\n",
      "\t\t},\n",
      "\t\t{\n",
      "\t\t\t\"title\":\"오토GPT\",\n",
      "\t\t\t\"link\":\"https:\\/\\/terms.naver.com\\/entry.naver?docId=6690638&cid=43667&categoryId=43667\",\n",
      "\t\t\t\"description\":\" 사용자가 목표를 설정하면 인공지능(AI)이 자동으로 인터넷을 검색하고 방법을 탐색해 결과물을 내놓는 생성형 AI로, AI 스타트업 시그니피컨트 그래피타스가 2023년 3월 30일 개발자 코드... \",\n",
      "\t\t\t\"thumbnail\":\"\"\n",
      "\t\t},\n",
      "\t\t{\n",
      "\t\t\t\"title\":\"Gensim\",\n",
      "\t\t\t\"link\":\"https:\\/\\/terms.naver.com\\/entry.naver?docId=6653626&cid=69974&categoryId=69974\",\n",
      "\t\t\t\"description\":\"Gensim은 <b>파이썬<\\/b>과 NumPy(숫자의 연산을 행렬 등의 형태로 쉽게 처리할 수 있게 하는 <b>파이썬<\\/b> 라이브러리)를 지원하기만 하면 어떤 운영체제와도 호환된다. 무엇보다도 데이터 스트리밍을... \",\n",
      "\t\t\t\"thumbnail\":\"\"\n",
      "\t\t},\n",
      "\t\t{\n",
      "\t\t\t\"title\":\"Perplexity\",\n",
      "\t\t\t\"link\":\"https:\\/\\/terms.naver.com\\/entry.naver?docId=6653705&cid=69974&categoryId=69974\",\n",
      "\t\t\t\"description\":\"언어 모델링 과정이나 음성 인식에서 엔트로피를 계산할 때에는 0에 가까운 작은 확률값이 나오는 경우가 많은데, <b>파이썬<\\/b>에서는 이러한 값을 0으로 근사시키는 underflow가 발생한다는 문제가... \",\n",
      "\t\t\t\"thumbnail\":\"https:\\/\\/dthumb-phinf.pstatic.net\\/?src=%22https%3A%2F%2Fpost-phinf.pstatic.net%2FMjAyMjA4MjhfNDgg%2FMDAxNjYxNjkyMTczMjI3.2IEVYNlzKicXI-yYu3-JtNBl7gRGusb-i2UPfFozT_8g.uIhO9ts858Cr4VooW7qsTgRI9wtLI2mrwFpcIPxBIM8g.GIF%2FIo8p_EY-DJjgmP-xdX2ktfuv61XY.jpg%3Ftype%3Dm4500_4500_fst%22&type=w540#540x120\"\n",
      "\t\t},\n",
      "\t\t{\n",
      "\t\t\t\"title\":\"조프\",\n",
      "\t\t\t\"link\":\"https:\\/\\/terms.naver.com\\/entry.naver?docId=3436079&cid=42346&categoryId=42346\",\n",
      "\t\t\t\"description\":\"<b>파이썬<\\/b>(Python) 프로그래밍 언어로 작성된 웹 애플리케이션 서버 구현 관련 기술. 객체 기술 기능, 폴더ㆍ파일ㆍ이미지용 프레임워크, 객체 데이터베이스, 웹 페이지 생성 템플릿, 구조화 질의 언어(SQL) 방법... \",\n",
      "\t\t\t\"thumbnail\":\"\"\n",
      "\t\t},\n",
      "\t\t{\n",
      "\t\t\t\"title\":\"행동 프로그래밍\",\n",
      "\t\t\t\"link\":\"https:\\/\\/terms.naver.com\\/entry.naver?docId=5762303&cid=42107&categoryId=42107\",\n",
      "\t\t\t\"description\":\"다양한 컴퓨터 언어(<b>파이썬<\\/b>, C++, 자바 등)를 이용해 로봇에 명령을 전달하는 작업. ROS(로봇오퍼레이팅시스템)가 대표적이다. 오픈소스 라이선스인 ROS는 복잡하고 강렬한 로봇 동작을 단순화하는 ‘도구... \",\n",
      "\t\t\t\"thumbnail\":\"\"\n",
      "\t\t}\n",
      "\t]\n",
      "}\n"
     ]
    }
   ],
   "source": [
    "# 네이버 검색 API 예제 - 백과사전 검색\n",
    "import os\n",
    "import sys\n",
    "import urllib.request\n",
    "\n",
    "client_id = \"uWjPiTXpyicaLlVms_G7\"\n",
    "client_secret = \"k2AWhzVDiL\"\n",
    "\n",
    "encText = urllib.parse.quote(\"파이썬\")\n",
    "url = \"https://openapi.naver.com/v1/search/encyc?query=\" + encText # JSON 결과\n",
    "# url = \"https://openapi.naver.com/v1/search/blog.xml?query=\" + encText # XML 결과\n",
    "request = urllib.request.Request(url)\n",
    "request.add_header(\"X-Naver-Client-Id\",client_id)\n",
    "request.add_header(\"X-Naver-Client-Secret\",client_secret)\n",
    "response = urllib.request.urlopen(request)\n",
    "rescode = response.getcode()\n",
    "if(rescode==200):\n",
    "    response_body = response.read()\n",
    "    print(response_body.decode('utf-8'))\n",
    "else:\n",
    "    print(\"Error Code:\" + rescode)\n"
   ]
  },
  {
   "cell_type": "markdown",
   "metadata": {},
   "source": [
    "## 3. 상품 검색\n",
    "- \"몰스킨\""
   ]
  },
  {
   "cell_type": "code",
   "execution_count": 20,
   "metadata": {},
   "outputs": [
    {
     "name": "stdout",
     "output_type": "stream",
     "text": [
      "{\n",
      "\t\"lastBuildDate\":\"Sat, 15 Jul 2023 21:49:04 +0900\",\n",
      "\t\"total\":27176,\n",
      "\t\"start\":1,\n",
      "\t\"display\":10,\n",
      "\t\"items\":[\n",
      "\t\t{\n",
      "\t\t\t\"title\":\"<b>몰스킨<\\/b> 2024 위클리 18개월 다이어리 하드커버 상품선택\",\n",
      "\t\t\t\"link\":\"https:\\/\\/search.shopping.naver.com\\/gate.nhn?id=39992373021\",\n",
      "\t\t\t\"image\":\"https:\\/\\/shopping-phinf.pstatic.net\\/main_3999237\\/39992373021.20230513055543.jpg\",\n",
      "\t\t\t\"lprice\":\"33070\",\n",
      "\t\t\t\"hprice\":\"\",\n",
      "\t\t\t\"mallName\":\"네이버\",\n",
      "\t\t\t\"productId\":\"39992373021\",\n",
      "\t\t\t\"productType\":\"1\",\n",
      "\t\t\t\"brand\":\"몰스킨\",\n",
      "\t\t\t\"maker\":\"몰스킨\",\n",
      "\t\t\t\"category1\":\"생활\\/건강\",\n",
      "\t\t\t\"category2\":\"문구\\/사무용품\",\n",
      "\t\t\t\"category3\":\"다이어리\\/플래너\",\n",
      "\t\t\t\"category4\":\"다이어리\"\n",
      "\t\t},\n",
      "\t\t{\n",
      "\t\t\t\"title\":\"<b>몰스킨<\\/b> 클래식노트 플레인 소프트커버 포켓 Pocket\",\n",
      "\t\t\t\"link\":\"https:\\/\\/search.shopping.naver.com\\/gate.nhn?id=30656121375\",\n",
      "\t\t\t\"image\":\"https:\\/\\/shopping-phinf.pstatic.net\\/main_3065612\\/30656121375.20220124025746.jpg\",\n",
      "\t\t\t\"lprice\":\"21840\",\n",
      "\t\t\t\"hprice\":\"\",\n",
      "\t\t\t\"mallName\":\"네이버\",\n",
      "\t\t\t\"productId\":\"30656121375\",\n",
      "\t\t\t\"productType\":\"1\",\n",
      "\t\t\t\"brand\":\"몰스킨\",\n",
      "\t\t\t\"maker\":\"\",\n",
      "\t\t\t\"category1\":\"생활\\/건강\",\n",
      "\t\t\t\"category2\":\"문구\\/사무용품\",\n",
      "\t\t\t\"category3\":\"노트\\/수첩\",\n",
      "\t\t\t\"category4\":\"노트\"\n",
      "\t\t},\n",
      "\t\t{\n",
      "\t\t\t\"title\":\"<b>몰스킨<\\/b> 클래식노트 룰드 하이드레인저블루 소프트커버 포켓 Pocket\",\n",
      "\t\t\t\"link\":\"https:\\/\\/search.shopping.naver.com\\/gate.nhn?id=38102873867\",\n",
      "\t\t\t\"image\":\"https:\\/\\/shopping-phinf.pstatic.net\\/main_3810287\\/38102873867.20230219215959.jpg\",\n",
      "\t\t\t\"lprice\":\"18200\",\n",
      "\t\t\t\"hprice\":\"\",\n",
      "\t\t\t\"mallName\":\"네이버\",\n",
      "\t\t\t\"productId\":\"38102873867\",\n",
      "\t\t\t\"productType\":\"1\",\n",
      "\t\t\t\"brand\":\"\",\n",
      "\t\t\t\"maker\":\"\",\n",
      "\t\t\t\"category1\":\"생활\\/건강\",\n",
      "\t\t\t\"category2\":\"문구\\/사무용품\",\n",
      "\t\t\t\"category3\":\"다이어리\\/플래너\",\n",
      "\t\t\t\"category4\":\"다이어리\"\n",
      "\t\t},\n",
      "\t\t{\n",
      "\t\t\t\"title\":\"<b>몰스킨<\\/b> 2024 위클리 가로형 18개월 다이어리 하드커버\",\n",
      "\t\t\t\"link\":\"https:\\/\\/search.shopping.naver.com\\/gate.nhn?id=40100046083\",\n",
      "\t\t\t\"image\":\"https:\\/\\/shopping-phinf.pstatic.net\\/main_4010004\\/40100046083.20230526044002.jpg\",\n",
      "\t\t\t\"lprice\":\"30260\",\n",
      "\t\t\t\"hprice\":\"\",\n",
      "\t\t\t\"mallName\":\"네이버\",\n",
      "\t\t\t\"productId\":\"40100046083\",\n",
      "\t\t\t\"productType\":\"1\",\n",
      "\t\t\t\"brand\":\"몰스킨\",\n",
      "\t\t\t\"maker\":\"몰스킨\",\n",
      "\t\t\t\"category1\":\"생활\\/건강\",\n",
      "\t\t\t\"category2\":\"문구\\/사무용품\",\n",
      "\t\t\t\"category3\":\"다이어리\\/플래너\",\n",
      "\t\t\t\"category4\":\"다이어리\"\n",
      "\t\t},\n",
      "\t\t{\n",
      "\t\t\t\"title\":\"[<b>몰스킨<\\/b>] 2023-24년 18개월 다이어리(데일리, 위클리)\",\n",
      "\t\t\t\"link\":\"https:\\/\\/search.shopping.naver.com\\/gate.nhn?id=39859450686\",\n",
      "\t\t\t\"image\":\"https:\\/\\/shopping-phinf.pstatic.net\\/main_3985945\\/39859450686.jpg\",\n",
      "\t\t\t\"lprice\":\"35000\",\n",
      "\t\t\t\"hprice\":\"\",\n",
      "\t\t\t\"mallName\":\"몰스킨공식온라인스토어\",\n",
      "\t\t\t\"productId\":\"39859450686\",\n",
      "\t\t\t\"productType\":\"2\",\n",
      "\t\t\t\"brand\":\"몰스킨\",\n",
      "\t\t\t\"maker\":\"\",\n",
      "\t\t\t\"category1\":\"생활\\/건강\",\n",
      "\t\t\t\"category2\":\"문구\\/사무용품\",\n",
      "\t\t\t\"category3\":\"다이어리\\/플래너\",\n",
      "\t\t\t\"category4\":\"다이어리\"\n",
      "\t\t},\n",
      "\t\t{\n",
      "\t\t\t\"title\":\"시리즈 역시즌 50 series <b>몰스킨<\\/b> 집업 아우터 셔츠 SASFW22821KHL\",\n",
      "\t\t\t\"link\":\"https:\\/\\/search.shopping.naver.com\\/gate.nhn?id=40277938372\",\n",
      "\t\t\t\"image\":\"https:\\/\\/shopping-phinf.pstatic.net\\/main_4027793\\/40277938372.20230531092727.jpg\",\n",
      "\t\t\t\"lprice\":\"110270\",\n",
      "\t\t\t\"hprice\":\"\",\n",
      "\t\t\t\"mallName\":\"네이버\",\n",
      "\t\t\t\"productId\":\"40277938372\",\n",
      "\t\t\t\"productType\":\"1\",\n",
      "\t\t\t\"brand\":\"시리즈\",\n",
      "\t\t\t\"maker\":\"\",\n",
      "\t\t\t\"category1\":\"패션의류\",\n",
      "\t\t\t\"category2\":\"남성의류\",\n",
      "\t\t\t\"category3\":\"셔츠\\/남방\",\n",
      "\t\t\t\"category4\":\"\"\n",
      "\t\t},\n",
      "\t\t{\n",
      "\t\t\t\"title\":\"<b>몰스킨<\\/b> 노트 하드커버 가죽 포켓 P 블랙 격자\",\n",
      "\t\t\t\"link\":\"https:\\/\\/search.shopping.naver.com\\/gate.nhn?id=82526953942\",\n",
      "\t\t\t\"image\":\"https:\\/\\/shopping-phinf.pstatic.net\\/main_8252695\\/82526953942.9.jpg\",\n",
      "\t\t\t\"lprice\":\"28800\",\n",
      "\t\t\t\"hprice\":\"\",\n",
      "\t\t\t\"mallName\":\"베스트펜\",\n",
      "\t\t\t\"productId\":\"82526953942\",\n",
      "\t\t\t\"productType\":\"2\",\n",
      "\t\t\t\"brand\":\"몰스킨\",\n",
      "\t\t\t\"maker\":\"\",\n",
      "\t\t\t\"category1\":\"생활\\/건강\",\n",
      "\t\t\t\"category2\":\"문구\\/사무용품\",\n",
      "\t\t\t\"category3\":\"노트\\/수첩\",\n",
      "\t\t\t\"category4\":\"노트\"\n",
      "\t\t},\n",
      "\t\t{\n",
      "\t\t\t\"title\":\"2023년 <b>몰스킨<\\/b> 하드커버 다이어리(데일리, 위클리, 한정판)\",\n",
      "\t\t\t\"link\":\"https:\\/\\/search.shopping.naver.com\\/gate.nhn?id=84904377827\",\n",
      "\t\t\t\"image\":\"https:\\/\\/shopping-phinf.pstatic.net\\/main_8490437\\/84904377827.1.jpg\",\n",
      "\t\t\t\"lprice\":\"30000\",\n",
      "\t\t\t\"hprice\":\"\",\n",
      "\t\t\t\"mallName\":\"안네프랑크\",\n",
      "\t\t\t\"productId\":\"84904377827\",\n",
      "\t\t\t\"productType\":\"2\",\n",
      "\t\t\t\"brand\":\"몰스킨\",\n",
      "\t\t\t\"maker\":\"몰스킨\",\n",
      "\t\t\t\"category1\":\"생활\\/건강\",\n",
      "\t\t\t\"category2\":\"문구\\/사무용품\",\n",
      "\t\t\t\"category3\":\"다이어리\\/플래너\",\n",
      "\t\t\t\"category4\":\"다이어리\"\n",
      "\t\t},\n",
      "\t\t{\n",
      "\t\t\t\"title\":\"<b>몰스킨<\\/b> <b>몰스킨<\\/b> 클래식노트 플레인 소프트 P\",\n",
      "\t\t\t\"link\":\"https:\\/\\/search.shopping.naver.com\\/gate.nhn?id=32915714145\",\n",
      "\t\t\t\"image\":\"https:\\/\\/shopping-phinf.pstatic.net\\/main_3291571\\/32915714145.20220613120349.jpg\",\n",
      "\t\t\t\"lprice\":\"27050\",\n",
      "\t\t\t\"hprice\":\"\",\n",
      "\t\t\t\"mallName\":\"네이버\",\n",
      "\t\t\t\"productId\":\"32915714145\",\n",
      "\t\t\t\"productType\":\"1\",\n",
      "\t\t\t\"brand\":\"몰스킨\",\n",
      "\t\t\t\"maker\":\"몰스킨\",\n",
      "\t\t\t\"category1\":\"생활\\/건강\",\n",
      "\t\t\t\"category2\":\"문구\\/사무용품\",\n",
      "\t\t\t\"category3\":\"노트\\/수첩\",\n",
      "\t\t\t\"category4\":\"노트\"\n",
      "\t\t},\n",
      "\t\t{\n",
      "\t\t\t\"title\":\"<b>몰스킨<\\/b> 2023년 데일리 플래너 12M 포켓 하드 커버 3 5 x 5 5\",\n",
      "\t\t\t\"link\":\"https:\\/\\/search.shopping.naver.com\\/gate.nhn?id=36557437115\",\n",
      "\t\t\t\"image\":\"https:\\/\\/shopping-phinf.pstatic.net\\/main_3655743\\/36557437115.20221216090445.jpg\",\n",
      "\t\t\t\"lprice\":\"35890\",\n",
      "\t\t\t\"hprice\":\"\",\n",
      "\t\t\t\"mallName\":\"네이버\",\n",
      "\t\t\t\"productId\":\"36557437115\",\n",
      "\t\t\t\"productType\":\"1\",\n",
      "\t\t\t\"brand\":\"몰스킨\",\n",
      "\t\t\t\"maker\":\"몰스킨\",\n",
      "\t\t\t\"category1\":\"생활\\/건강\",\n",
      "\t\t\t\"category2\":\"문구\\/사무용품\",\n",
      "\t\t\t\"category3\":\"다이어리\\/플래너\",\n",
      "\t\t\t\"category4\":\"다이어리\"\n",
      "\t\t}\n",
      "\t]\n",
      "}\n"
     ]
    }
   ],
   "source": [
    "# 네이버 검색 API 예제 - 쇼핑 검색\n",
    "import os\n",
    "import sys\n",
    "import urllib.request\n",
    "\n",
    "client_id = \"uWjPiTXpyicaLlVms_G7\"\n",
    "client_secret = \"k2AWhzVDiL\"\n",
    "\n",
    "encText = urllib.parse.quote(\"몰스킨\")\n",
    "url = \"https://openapi.naver.com/v1/search/shop?query=\" + encText # JSON 결과\n",
    "# url = \"https://openapi.naver.com/v1/search/blog.xml?query=\" + encText # XML 결과\n",
    "request = urllib.request.Request(url)\n",
    "request.add_header(\"X-Naver-Client-Id\",client_id)\n",
    "request.add_header(\"X-Naver-Client-Secret\",client_secret)\n",
    "response = urllib.request.urlopen(request)\n",
    "rescode = response.getcode()\n",
    "if(rescode==200):\n",
    "    response_body = response.read()\n",
    "    print(response_body.decode('utf-8'))\n",
    "else:\n",
    "    print(\"Error Code:\" + rescode)\n"
   ]
  },
  {
   "cell_type": "markdown",
   "metadata": {},
   "source": [
    "## (1) gen_search_url()"
   ]
  },
  {
   "cell_type": "markdown",
   "metadata": {},
   "source": [
    "```\n",
    "encText = urllib.parse.quote(\"몰스킨\")\n",
    "url = \"https://openapi.naver.com/v1/search/shop?query=\" + encText # JSON 결과\n",
    "```"
   ]
  },
  {
   "cell_type": "code",
   "execution_count": 43,
   "metadata": {},
   "outputs": [],
   "source": [
    "def gen_search_url(api_node, search_text, start_num, disp_num):\n",
    "    base = \"https://openapi.naver.com/v1/search\"\n",
    "    node = \"/\" + api_node + \".json\"\n",
    "    param_query = \"?query=\" + urllib.parse.quote(search_text)\n",
    "    param_start = \"&start=\" + str(start_num)\n",
    "    param_disp = \"&display=\" + str(disp_num)\n",
    "\n",
    "    return base + node + param_query + param_start + param_disp\n"
   ]
  },
  {
   "cell_type": "code",
   "execution_count": 44,
   "metadata": {},
   "outputs": [
    {
     "data": {
      "text/plain": [
       "'https://openapi.naver.com/v1/search/shop.json?query=TEST&start=10&display=3'"
      ]
     },
     "execution_count": 44,
     "metadata": {},
     "output_type": "execute_result"
    }
   ],
   "source": [
    "gen_search_url(\"shop\", \"TEST\", 10, 3)"
   ]
  },
  {
   "cell_type": "markdown",
   "metadata": {},
   "source": [
    "# (2) get_result_onpage()"
   ]
  },
  {
   "cell_type": "code",
   "execution_count": 45,
   "metadata": {},
   "outputs": [],
   "source": [
    "import json\n",
    "import datetime\n",
    "\n",
    "def get_result_onpage(url):\n",
    "    request = urllib.request.Request(url)\n",
    "    request.add_header(\"X-Naver-Client-Id\",client_id)\n",
    "    request.add_header(\"X-Naver-Client-Secret\",client_secret)\n",
    "    response = urllib.request.urlopen(request)\n",
    "    print('[%s] Url Request Success' % datetime.datetime.now())\n",
    "    return json.loads(response.read().decode('utf-8'))"
   ]
  },
  {
   "cell_type": "code",
   "execution_count": 46,
   "metadata": {},
   "outputs": [
    {
     "data": {
      "text/plain": [
       "datetime.datetime(2023, 7, 15, 22, 5, 4, 483249)"
      ]
     },
     "execution_count": 46,
     "metadata": {},
     "output_type": "execute_result"
    }
   ],
   "source": [
    "datetime.datetime.now()"
   ]
  },
  {
   "cell_type": "code",
   "execution_count": 47,
   "metadata": {},
   "outputs": [
    {
     "name": "stdout",
     "output_type": "stream",
     "text": [
      "[2023-07-15 22:05:05.058518] Url Request Success\n"
     ]
    }
   ],
   "source": [
    "url = gen_search_url('shop', '몰스킨', 1, 5)\n",
    "one_result = get_result_onpage(url)"
   ]
  },
  {
   "cell_type": "code",
   "execution_count": 48,
   "metadata": {},
   "outputs": [
    {
     "data": {
      "text/plain": [
       "{'lastBuildDate': 'Sat, 15 Jul 2023 22:05:05 +0900',\n",
       " 'total': 27176,\n",
       " 'start': 1,\n",
       " 'display': 5,\n",
       " 'items': [{'title': '<b>몰스킨</b> 2024 위클리 18개월 다이어리 하드커버 상품선택',\n",
       "   'link': 'https://search.shopping.naver.com/gate.nhn?id=39992373021',\n",
       "   'image': 'https://shopping-phinf.pstatic.net/main_3999237/39992373021.20230513055543.jpg',\n",
       "   'lprice': '33070',\n",
       "   'hprice': '',\n",
       "   'mallName': '네이버',\n",
       "   'productId': '39992373021',\n",
       "   'productType': '1',\n",
       "   'brand': '몰스킨',\n",
       "   'maker': '몰스킨',\n",
       "   'category1': '생활/건강',\n",
       "   'category2': '문구/사무용품',\n",
       "   'category3': '다이어리/플래너',\n",
       "   'category4': '다이어리'},\n",
       "  {'title': '<b>몰스킨</b> 클래식노트 플레인 소프트커버 포켓 Pocket',\n",
       "   'link': 'https://search.shopping.naver.com/gate.nhn?id=30656121375',\n",
       "   'image': 'https://shopping-phinf.pstatic.net/main_3065612/30656121375.20220124025746.jpg',\n",
       "   'lprice': '21840',\n",
       "   'hprice': '',\n",
       "   'mallName': '네이버',\n",
       "   'productId': '30656121375',\n",
       "   'productType': '1',\n",
       "   'brand': '몰스킨',\n",
       "   'maker': '',\n",
       "   'category1': '생활/건강',\n",
       "   'category2': '문구/사무용품',\n",
       "   'category3': '노트/수첩',\n",
       "   'category4': '노트'},\n",
       "  {'title': '<b>몰스킨</b> 클래식노트 룰드 하이드레인저블루 소프트커버 포켓 Pocket',\n",
       "   'link': 'https://search.shopping.naver.com/gate.nhn?id=38102873867',\n",
       "   'image': 'https://shopping-phinf.pstatic.net/main_3810287/38102873867.20230219215959.jpg',\n",
       "   'lprice': '18200',\n",
       "   'hprice': '',\n",
       "   'mallName': '네이버',\n",
       "   'productId': '38102873867',\n",
       "   'productType': '1',\n",
       "   'brand': '',\n",
       "   'maker': '',\n",
       "   'category1': '생활/건강',\n",
       "   'category2': '문구/사무용품',\n",
       "   'category3': '다이어리/플래너',\n",
       "   'category4': '다이어리'},\n",
       "  {'title': '<b>몰스킨</b> 2024 위클리 가로형 18개월 다이어리 하드커버',\n",
       "   'link': 'https://search.shopping.naver.com/gate.nhn?id=40100046083',\n",
       "   'image': 'https://shopping-phinf.pstatic.net/main_4010004/40100046083.20230526044002.jpg',\n",
       "   'lprice': '30260',\n",
       "   'hprice': '',\n",
       "   'mallName': '네이버',\n",
       "   'productId': '40100046083',\n",
       "   'productType': '1',\n",
       "   'brand': '몰스킨',\n",
       "   'maker': '몰스킨',\n",
       "   'category1': '생활/건강',\n",
       "   'category2': '문구/사무용품',\n",
       "   'category3': '다이어리/플래너',\n",
       "   'category4': '다이어리'},\n",
       "  {'title': '[<b>몰스킨</b>] 2023-24년 18개월 다이어리(데일리, 위클리)',\n",
       "   'link': 'https://search.shopping.naver.com/gate.nhn?id=39859450686',\n",
       "   'image': 'https://shopping-phinf.pstatic.net/main_3985945/39859450686.jpg',\n",
       "   'lprice': '35000',\n",
       "   'hprice': '',\n",
       "   'mallName': '몰스킨공식온라인스토어',\n",
       "   'productId': '39859450686',\n",
       "   'productType': '2',\n",
       "   'brand': '몰스킨',\n",
       "   'maker': '',\n",
       "   'category1': '생활/건강',\n",
       "   'category2': '문구/사무용품',\n",
       "   'category3': '다이어리/플래너',\n",
       "   'category4': '다이어리'}]}"
      ]
     },
     "execution_count": 48,
     "metadata": {},
     "output_type": "execute_result"
    }
   ],
   "source": [
    "one_result "
   ]
  },
  {
   "cell_type": "code",
   "execution_count": 49,
   "metadata": {},
   "outputs": [
    {
     "data": {
      "text/plain": [
       "'<b>몰스킨</b> 2024 위클리 18개월 다이어리 하드커버 상품선택'"
      ]
     },
     "execution_count": 49,
     "metadata": {},
     "output_type": "execute_result"
    }
   ],
   "source": [
    "one_result[\"items\"][0][\"title\"]"
   ]
  },
  {
   "cell_type": "code",
   "execution_count": 50,
   "metadata": {},
   "outputs": [
    {
     "data": {
      "text/plain": [
       "'https://search.shopping.naver.com/gate.nhn?id=39992373021'"
      ]
     },
     "execution_count": 50,
     "metadata": {},
     "output_type": "execute_result"
    }
   ],
   "source": [
    "one_result[\"items\"][0][\"link\"]"
   ]
  },
  {
   "cell_type": "code",
   "execution_count": 51,
   "metadata": {},
   "outputs": [
    {
     "data": {
      "text/plain": [
       "'33070'"
      ]
     },
     "execution_count": 51,
     "metadata": {},
     "output_type": "execute_result"
    }
   ],
   "source": [
    "one_result[\"items\"][0][\"lprice\"]"
   ]
  },
  {
   "cell_type": "code",
   "execution_count": 52,
   "metadata": {},
   "outputs": [
    {
     "data": {
      "text/plain": [
       "'네이버'"
      ]
     },
     "execution_count": 52,
     "metadata": {},
     "output_type": "execute_result"
    }
   ],
   "source": [
    "one_result[\"items\"][0][\"mallName\"]"
   ]
  },
  {
   "cell_type": "markdown",
   "metadata": {},
   "source": [
    "## (3) get_fields()"
   ]
  },
  {
   "cell_type": "code",
   "execution_count": 57,
   "metadata": {},
   "outputs": [
    {
     "data": {
      "text/plain": [
       "{'title': '<b>몰스킨</b> 2024 위클리 18개월 다이어리 하드커버 상품선택',\n",
       " 'link': 'https://search.shopping.naver.com/gate.nhn?id=39992373021',\n",
       " 'image': 'https://shopping-phinf.pstatic.net/main_3999237/39992373021.20230513055543.jpg',\n",
       " 'lprice': '33070',\n",
       " 'hprice': '',\n",
       " 'mallName': '네이버',\n",
       " 'productId': '39992373021',\n",
       " 'productType': '1',\n",
       " 'brand': '몰스킨',\n",
       " 'maker': '몰스킨',\n",
       " 'category1': '생활/건강',\n",
       " 'category2': '문구/사무용품',\n",
       " 'category3': '다이어리/플래너',\n",
       " 'category4': '다이어리'}"
      ]
     },
     "execution_count": 57,
     "metadata": {},
     "output_type": "execute_result"
    }
   ],
   "source": [
    "one_result['items'][0]"
   ]
  },
  {
   "cell_type": "code",
   "execution_count": 59,
   "metadata": {},
   "outputs": [],
   "source": [
    "import pandas as pd\n",
    "\n",
    "def get_field(json_data):\n",
    "    title = [each['title'] for each in json_data['items']]\n",
    "    link = [each['link'] for each in json_data['items']]\n",
    "    lprice = [each['lprice'] for each in json_data['items']]\n",
    "    mall_name = [each['mallName'] for each in json_data['items']]\n",
    "    \n",
    "    result_pd = pd.DataFrame({\n",
    "        \"title\" : title,\n",
    "        \"link\" : link,\n",
    "        \"lprice\" : lprice,\n",
    "        \"mall\" : mall_name,\n",
    "    }, columns=['title', 'lprice', 'link', 'mall'])\n",
    "    return result_pd"
   ]
  },
  {
   "cell_type": "code",
   "execution_count": 60,
   "metadata": {},
   "outputs": [
    {
     "data": {
      "text/html": [
       "<div>\n",
       "<style scoped>\n",
       "    .dataframe tbody tr th:only-of-type {\n",
       "        vertical-align: middle;\n",
       "    }\n",
       "\n",
       "    .dataframe tbody tr th {\n",
       "        vertical-align: top;\n",
       "    }\n",
       "\n",
       "    .dataframe thead th {\n",
       "        text-align: right;\n",
       "    }\n",
       "</style>\n",
       "<table border=\"1\" class=\"dataframe\">\n",
       "  <thead>\n",
       "    <tr style=\"text-align: right;\">\n",
       "      <th></th>\n",
       "      <th>title</th>\n",
       "      <th>lprice</th>\n",
       "      <th>link</th>\n",
       "      <th>mall</th>\n",
       "    </tr>\n",
       "  </thead>\n",
       "  <tbody>\n",
       "    <tr>\n",
       "      <th>0</th>\n",
       "      <td>&lt;b&gt;몰스킨&lt;/b&gt; 2024 위클리 18개월 다이어리 하드커버 상품선택</td>\n",
       "      <td>33070</td>\n",
       "      <td>https://search.shopping.naver.com/gate.nhn?id=...</td>\n",
       "      <td>네이버</td>\n",
       "    </tr>\n",
       "    <tr>\n",
       "      <th>1</th>\n",
       "      <td>&lt;b&gt;몰스킨&lt;/b&gt; 클래식노트 플레인 소프트커버 포켓 Pocket</td>\n",
       "      <td>21840</td>\n",
       "      <td>https://search.shopping.naver.com/gate.nhn?id=...</td>\n",
       "      <td>네이버</td>\n",
       "    </tr>\n",
       "    <tr>\n",
       "      <th>2</th>\n",
       "      <td>&lt;b&gt;몰스킨&lt;/b&gt; 클래식노트 룰드 하이드레인저블루 소프트커버 포켓 Pocket</td>\n",
       "      <td>18200</td>\n",
       "      <td>https://search.shopping.naver.com/gate.nhn?id=...</td>\n",
       "      <td>네이버</td>\n",
       "    </tr>\n",
       "    <tr>\n",
       "      <th>3</th>\n",
       "      <td>&lt;b&gt;몰스킨&lt;/b&gt; 2024 위클리 가로형 18개월 다이어리 하드커버</td>\n",
       "      <td>30260</td>\n",
       "      <td>https://search.shopping.naver.com/gate.nhn?id=...</td>\n",
       "      <td>네이버</td>\n",
       "    </tr>\n",
       "    <tr>\n",
       "      <th>4</th>\n",
       "      <td>[&lt;b&gt;몰스킨&lt;/b&gt;] 2023-24년 18개월 다이어리(데일리, 위클리)</td>\n",
       "      <td>35000</td>\n",
       "      <td>https://search.shopping.naver.com/gate.nhn?id=...</td>\n",
       "      <td>몰스킨공식온라인스토어</td>\n",
       "    </tr>\n",
       "  </tbody>\n",
       "</table>\n",
       "</div>"
      ],
      "text/plain": [
       "                                          title lprice  \\\n",
       "0       <b>몰스킨</b> 2024 위클리 18개월 다이어리 하드커버 상품선택  33070   \n",
       "1          <b>몰스킨</b> 클래식노트 플레인 소프트커버 포켓 Pocket  21840   \n",
       "2  <b>몰스킨</b> 클래식노트 룰드 하이드레인저블루 소프트커버 포켓 Pocket  18200   \n",
       "3        <b>몰스킨</b> 2024 위클리 가로형 18개월 다이어리 하드커버  30260   \n",
       "4     [<b>몰스킨</b>] 2023-24년 18개월 다이어리(데일리, 위클리)  35000   \n",
       "\n",
       "                                                link         mall  \n",
       "0  https://search.shopping.naver.com/gate.nhn?id=...          네이버  \n",
       "1  https://search.shopping.naver.com/gate.nhn?id=...          네이버  \n",
       "2  https://search.shopping.naver.com/gate.nhn?id=...          네이버  \n",
       "3  https://search.shopping.naver.com/gate.nhn?id=...          네이버  \n",
       "4  https://search.shopping.naver.com/gate.nhn?id=...  몰스킨공식온라인스토어  "
      ]
     },
     "execution_count": 60,
     "metadata": {},
     "output_type": "execute_result"
    }
   ],
   "source": [
    "get_field(one_result)"
   ]
  },
  {
   "cell_type": "markdown",
   "metadata": {},
   "source": [
    "## (4) delete_tag()"
   ]
  },
  {
   "cell_type": "code",
   "execution_count": 62,
   "metadata": {},
   "outputs": [],
   "source": [
    "def delete_tag(input_str):\n",
    "    input_str = input_str.replace('<b>', '')\n",
    "    input_str = input_str.replace('</b>', '')\n",
    "    return input_str"
   ]
  },
  {
   "cell_type": "code",
   "execution_count": 63,
   "metadata": {},
   "outputs": [],
   "source": [
    "import pandas as pd\n",
    "\n",
    "def get_field(json_data):\n",
    "    title = [delete_tag(each['title']) for each in json_data['items']]\n",
    "    link = [each['link'] for each in json_data['items']]\n",
    "    lprice = [each['lprice'] for each in json_data['items']]\n",
    "    mall_name = [each['mallName'] for each in json_data['items']]\n",
    "    \n",
    "    result_pd = pd.DataFrame({\n",
    "        \"title\" : title,\n",
    "        \"link\" : link,\n",
    "        \"lprice\" : lprice,\n",
    "        \"mall\" : mall_name,\n",
    "    }, columns=['title', 'lprice', 'link', 'mall'])\n",
    "    return result_pd"
   ]
  },
  {
   "cell_type": "code",
   "execution_count": 65,
   "metadata": {},
   "outputs": [
    {
     "data": {
      "text/html": [
       "<div>\n",
       "<style scoped>\n",
       "    .dataframe tbody tr th:only-of-type {\n",
       "        vertical-align: middle;\n",
       "    }\n",
       "\n",
       "    .dataframe tbody tr th {\n",
       "        vertical-align: top;\n",
       "    }\n",
       "\n",
       "    .dataframe thead th {\n",
       "        text-align: right;\n",
       "    }\n",
       "</style>\n",
       "<table border=\"1\" class=\"dataframe\">\n",
       "  <thead>\n",
       "    <tr style=\"text-align: right;\">\n",
       "      <th></th>\n",
       "      <th>title</th>\n",
       "      <th>lprice</th>\n",
       "      <th>link</th>\n",
       "      <th>mall</th>\n",
       "    </tr>\n",
       "  </thead>\n",
       "  <tbody>\n",
       "    <tr>\n",
       "      <th>0</th>\n",
       "      <td>몰스킨 2024 위클리 18개월 다이어리 하드커버 상품선택</td>\n",
       "      <td>33070</td>\n",
       "      <td>https://search.shopping.naver.com/gate.nhn?id=...</td>\n",
       "      <td>네이버</td>\n",
       "    </tr>\n",
       "    <tr>\n",
       "      <th>1</th>\n",
       "      <td>몰스킨 클래식노트 플레인 소프트커버 포켓 Pocket</td>\n",
       "      <td>21840</td>\n",
       "      <td>https://search.shopping.naver.com/gate.nhn?id=...</td>\n",
       "      <td>네이버</td>\n",
       "    </tr>\n",
       "    <tr>\n",
       "      <th>2</th>\n",
       "      <td>몰스킨 클래식노트 룰드 하이드레인저블루 소프트커버 포켓 Pocket</td>\n",
       "      <td>18200</td>\n",
       "      <td>https://search.shopping.naver.com/gate.nhn?id=...</td>\n",
       "      <td>네이버</td>\n",
       "    </tr>\n",
       "    <tr>\n",
       "      <th>3</th>\n",
       "      <td>몰스킨 2024 위클리 가로형 18개월 다이어리 하드커버</td>\n",
       "      <td>30260</td>\n",
       "      <td>https://search.shopping.naver.com/gate.nhn?id=...</td>\n",
       "      <td>네이버</td>\n",
       "    </tr>\n",
       "    <tr>\n",
       "      <th>4</th>\n",
       "      <td>[몰스킨] 2023-24년 18개월 다이어리(데일리, 위클리)</td>\n",
       "      <td>35000</td>\n",
       "      <td>https://search.shopping.naver.com/gate.nhn?id=...</td>\n",
       "      <td>몰스킨공식온라인스토어</td>\n",
       "    </tr>\n",
       "  </tbody>\n",
       "</table>\n",
       "</div>"
      ],
      "text/plain": [
       "                                   title lprice  \\\n",
       "0       몰스킨 2024 위클리 18개월 다이어리 하드커버 상품선택  33070   \n",
       "1          몰스킨 클래식노트 플레인 소프트커버 포켓 Pocket  21840   \n",
       "2  몰스킨 클래식노트 룰드 하이드레인저블루 소프트커버 포켓 Pocket  18200   \n",
       "3        몰스킨 2024 위클리 가로형 18개월 다이어리 하드커버  30260   \n",
       "4     [몰스킨] 2023-24년 18개월 다이어리(데일리, 위클리)  35000   \n",
       "\n",
       "                                                link         mall  \n",
       "0  https://search.shopping.naver.com/gate.nhn?id=...          네이버  \n",
       "1  https://search.shopping.naver.com/gate.nhn?id=...          네이버  \n",
       "2  https://search.shopping.naver.com/gate.nhn?id=...          네이버  \n",
       "3  https://search.shopping.naver.com/gate.nhn?id=...          네이버  \n",
       "4  https://search.shopping.naver.com/gate.nhn?id=...  몰스킨공식온라인스토어  "
      ]
     },
     "execution_count": 65,
     "metadata": {},
     "output_type": "execute_result"
    }
   ],
   "source": [
    "get_field(one_result)"
   ]
  },
  {
   "cell_type": "code",
   "execution_count": 66,
   "metadata": {},
   "outputs": [
    {
     "name": "stdout",
     "output_type": "stream",
     "text": [
      "[2023-07-15 22:11:50.308546] Url Request Success\n"
     ]
    }
   ],
   "source": [
    "url = gen_search_url('shop', '몰스킨', 1, 5)\n",
    "json_result = get_result_onpage(url)\n",
    "pd_result = get_field(json_result)"
   ]
  },
  {
   "cell_type": "code",
   "execution_count": 67,
   "metadata": {},
   "outputs": [
    {
     "data": {
      "text/html": [
       "<div>\n",
       "<style scoped>\n",
       "    .dataframe tbody tr th:only-of-type {\n",
       "        vertical-align: middle;\n",
       "    }\n",
       "\n",
       "    .dataframe tbody tr th {\n",
       "        vertical-align: top;\n",
       "    }\n",
       "\n",
       "    .dataframe thead th {\n",
       "        text-align: right;\n",
       "    }\n",
       "</style>\n",
       "<table border=\"1\" class=\"dataframe\">\n",
       "  <thead>\n",
       "    <tr style=\"text-align: right;\">\n",
       "      <th></th>\n",
       "      <th>title</th>\n",
       "      <th>lprice</th>\n",
       "      <th>link</th>\n",
       "      <th>mall</th>\n",
       "    </tr>\n",
       "  </thead>\n",
       "  <tbody>\n",
       "    <tr>\n",
       "      <th>0</th>\n",
       "      <td>몰스킨 2024 위클리 18개월 다이어리 하드커버 상품선택</td>\n",
       "      <td>33070</td>\n",
       "      <td>https://search.shopping.naver.com/gate.nhn?id=...</td>\n",
       "      <td>네이버</td>\n",
       "    </tr>\n",
       "    <tr>\n",
       "      <th>1</th>\n",
       "      <td>몰스킨 클래식노트 플레인 소프트커버 포켓 Pocket</td>\n",
       "      <td>21840</td>\n",
       "      <td>https://search.shopping.naver.com/gate.nhn?id=...</td>\n",
       "      <td>네이버</td>\n",
       "    </tr>\n",
       "    <tr>\n",
       "      <th>2</th>\n",
       "      <td>몰스킨 클래식노트 룰드 하이드레인저블루 소프트커버 포켓 Pocket</td>\n",
       "      <td>18200</td>\n",
       "      <td>https://search.shopping.naver.com/gate.nhn?id=...</td>\n",
       "      <td>네이버</td>\n",
       "    </tr>\n",
       "    <tr>\n",
       "      <th>3</th>\n",
       "      <td>몰스킨 2024 위클리 가로형 18개월 다이어리 하드커버</td>\n",
       "      <td>30260</td>\n",
       "      <td>https://search.shopping.naver.com/gate.nhn?id=...</td>\n",
       "      <td>네이버</td>\n",
       "    </tr>\n",
       "    <tr>\n",
       "      <th>4</th>\n",
       "      <td>[몰스킨] 2023-24년 18개월 다이어리(데일리, 위클리)</td>\n",
       "      <td>35000</td>\n",
       "      <td>https://search.shopping.naver.com/gate.nhn?id=...</td>\n",
       "      <td>몰스킨공식온라인스토어</td>\n",
       "    </tr>\n",
       "  </tbody>\n",
       "</table>\n",
       "</div>"
      ],
      "text/plain": [
       "                                   title lprice  \\\n",
       "0       몰스킨 2024 위클리 18개월 다이어리 하드커버 상품선택  33070   \n",
       "1          몰스킨 클래식노트 플레인 소프트커버 포켓 Pocket  21840   \n",
       "2  몰스킨 클래식노트 룰드 하이드레인저블루 소프트커버 포켓 Pocket  18200   \n",
       "3        몰스킨 2024 위클리 가로형 18개월 다이어리 하드커버  30260   \n",
       "4     [몰스킨] 2023-24년 18개월 다이어리(데일리, 위클리)  35000   \n",
       "\n",
       "                                                link         mall  \n",
       "0  https://search.shopping.naver.com/gate.nhn?id=...          네이버  \n",
       "1  https://search.shopping.naver.com/gate.nhn?id=...          네이버  \n",
       "2  https://search.shopping.naver.com/gate.nhn?id=...          네이버  \n",
       "3  https://search.shopping.naver.com/gate.nhn?id=...          네이버  \n",
       "4  https://search.shopping.naver.com/gate.nhn?id=...  몰스킨공식온라인스토어  "
      ]
     },
     "execution_count": 67,
     "metadata": {},
     "output_type": "execute_result"
    }
   ],
   "source": [
    "pd_result"
   ]
  },
  {
   "cell_type": "markdown",
   "metadata": {},
   "source": [
    "## (5) actMain()"
   ]
  },
  {
   "cell_type": "code",
   "execution_count": 68,
   "metadata": {},
   "outputs": [
    {
     "name": "stdout",
     "output_type": "stream",
     "text": [
      "1\n",
      "101\n",
      "201\n",
      "301\n",
      "401\n",
      "501\n",
      "601\n",
      "701\n",
      "801\n",
      "901\n"
     ]
    }
   ],
   "source": [
    "for n in range(1, 1000, 100):\n",
    "    print(n)"
   ]
  },
  {
   "cell_type": "code",
   "execution_count": 73,
   "metadata": {},
   "outputs": [
    {
     "name": "stdout",
     "output_type": "stream",
     "text": [
      "[2023-07-15 22:13:52.964983] Url Request Success\n",
      "[2023-07-15 22:13:53.210653] Url Request Success\n",
      "[2023-07-15 22:13:53.469514] Url Request Success\n",
      "[2023-07-15 22:13:53.739113] Url Request Success\n",
      "[2023-07-15 22:13:54.013120] Url Request Success\n",
      "[2023-07-15 22:13:54.272284] Url Request Success\n",
      "[2023-07-15 22:13:54.583705] Url Request Success\n",
      "[2023-07-15 22:13:54.861126] Url Request Success\n",
      "[2023-07-15 22:13:55.142409] Url Request Success\n",
      "[2023-07-15 22:13:55.571408] Url Request Success\n"
     ]
    }
   ],
   "source": [
    "result_mol = []\n",
    "\n",
    "for n in range(1, 1000, 100):\n",
    "    url = gen_search_url('shop', '몰스킨', n, 100)\n",
    "    json_result = get_result_onpage(url)\n",
    "    pd_result = get_field(json_result)\n",
    "\n",
    "    result_mol.append(pd_result)\n",
    "\n",
    "result_mol = pd.concat(result_mol)"
   ]
  },
  {
   "cell_type": "code",
   "execution_count": 74,
   "metadata": {},
   "outputs": [
    {
     "name": "stdout",
     "output_type": "stream",
     "text": [
      "<class 'pandas.core.frame.DataFrame'>\n",
      "Int64Index: 1000 entries, 0 to 99\n",
      "Data columns (total 4 columns):\n",
      " #   Column  Non-Null Count  Dtype \n",
      "---  ------  --------------  ----- \n",
      " 0   title   1000 non-null   object\n",
      " 1   lprice  1000 non-null   object\n",
      " 2   link    1000 non-null   object\n",
      " 3   mall    1000 non-null   object\n",
      "dtypes: object(4)\n",
      "memory usage: 39.1+ KB\n"
     ]
    }
   ],
   "source": [
    "result_mol.info()"
   ]
  },
  {
   "cell_type": "code",
   "execution_count": 77,
   "metadata": {},
   "outputs": [
    {
     "name": "stdout",
     "output_type": "stream",
     "text": [
      "<class 'pandas.core.frame.DataFrame'>\n",
      "RangeIndex: 1000 entries, 0 to 999\n",
      "Data columns (total 4 columns):\n",
      " #   Column  Non-Null Count  Dtype \n",
      "---  ------  --------------  ----- \n",
      " 0   title   1000 non-null   object\n",
      " 1   lprice  1000 non-null   object\n",
      " 2   link    1000 non-null   object\n",
      " 3   mall    1000 non-null   object\n",
      "dtypes: object(4)\n",
      "memory usage: 31.4+ KB\n"
     ]
    }
   ],
   "source": [
    "result_mol.reset_index(drop=True, inplace=True)\n",
    "result_mol.info()"
   ]
  },
  {
   "cell_type": "code",
   "execution_count": 78,
   "metadata": {},
   "outputs": [
    {
     "data": {
      "text/html": [
       "<div>\n",
       "<style scoped>\n",
       "    .dataframe tbody tr th:only-of-type {\n",
       "        vertical-align: middle;\n",
       "    }\n",
       "\n",
       "    .dataframe tbody tr th {\n",
       "        vertical-align: top;\n",
       "    }\n",
       "\n",
       "    .dataframe thead th {\n",
       "        text-align: right;\n",
       "    }\n",
       "</style>\n",
       "<table border=\"1\" class=\"dataframe\">\n",
       "  <thead>\n",
       "    <tr style=\"text-align: right;\">\n",
       "      <th></th>\n",
       "      <th>title</th>\n",
       "      <th>lprice</th>\n",
       "      <th>link</th>\n",
       "      <th>mall</th>\n",
       "    </tr>\n",
       "  </thead>\n",
       "  <tbody>\n",
       "    <tr>\n",
       "      <th>0</th>\n",
       "      <td>몰스킨 2024 위클리 18개월 다이어리 하드커버 상품선택</td>\n",
       "      <td>33070</td>\n",
       "      <td>https://search.shopping.naver.com/gate.nhn?id=...</td>\n",
       "      <td>네이버</td>\n",
       "    </tr>\n",
       "    <tr>\n",
       "      <th>1</th>\n",
       "      <td>몰스킨 클래식노트 플레인 소프트커버 포켓 Pocket</td>\n",
       "      <td>21840</td>\n",
       "      <td>https://search.shopping.naver.com/gate.nhn?id=...</td>\n",
       "      <td>네이버</td>\n",
       "    </tr>\n",
       "    <tr>\n",
       "      <th>2</th>\n",
       "      <td>몰스킨 클래식노트 룰드 하이드레인저블루 소프트커버 포켓 Pocket</td>\n",
       "      <td>18200</td>\n",
       "      <td>https://search.shopping.naver.com/gate.nhn?id=...</td>\n",
       "      <td>네이버</td>\n",
       "    </tr>\n",
       "    <tr>\n",
       "      <th>3</th>\n",
       "      <td>몰스킨 2024 위클리 가로형 18개월 다이어리 하드커버</td>\n",
       "      <td>30260</td>\n",
       "      <td>https://search.shopping.naver.com/gate.nhn?id=...</td>\n",
       "      <td>네이버</td>\n",
       "    </tr>\n",
       "    <tr>\n",
       "      <th>4</th>\n",
       "      <td>[몰스킨] 2023-24년 18개월 다이어리(데일리, 위클리)</td>\n",
       "      <td>35000</td>\n",
       "      <td>https://search.shopping.naver.com/gate.nhn?id=...</td>\n",
       "      <td>몰스킨공식온라인스토어</td>\n",
       "    </tr>\n",
       "  </tbody>\n",
       "</table>\n",
       "</div>"
      ],
      "text/plain": [
       "                                   title lprice  \\\n",
       "0       몰스킨 2024 위클리 18개월 다이어리 하드커버 상품선택  33070   \n",
       "1          몰스킨 클래식노트 플레인 소프트커버 포켓 Pocket  21840   \n",
       "2  몰스킨 클래식노트 룰드 하이드레인저블루 소프트커버 포켓 Pocket  18200   \n",
       "3        몰스킨 2024 위클리 가로형 18개월 다이어리 하드커버  30260   \n",
       "4     [몰스킨] 2023-24년 18개월 다이어리(데일리, 위클리)  35000   \n",
       "\n",
       "                                                link         mall  \n",
       "0  https://search.shopping.naver.com/gate.nhn?id=...          네이버  \n",
       "1  https://search.shopping.naver.com/gate.nhn?id=...          네이버  \n",
       "2  https://search.shopping.naver.com/gate.nhn?id=...          네이버  \n",
       "3  https://search.shopping.naver.com/gate.nhn?id=...          네이버  \n",
       "4  https://search.shopping.naver.com/gate.nhn?id=...  몰스킨공식온라인스토어  "
      ]
     },
     "execution_count": 78,
     "metadata": {},
     "output_type": "execute_result"
    }
   ],
   "source": [
    "result_mol.head()"
   ]
  },
  {
   "cell_type": "code",
   "execution_count": 79,
   "metadata": {},
   "outputs": [
    {
     "data": {
      "text/html": [
       "<div>\n",
       "<style scoped>\n",
       "    .dataframe tbody tr th:only-of-type {\n",
       "        vertical-align: middle;\n",
       "    }\n",
       "\n",
       "    .dataframe tbody tr th {\n",
       "        vertical-align: top;\n",
       "    }\n",
       "\n",
       "    .dataframe thead th {\n",
       "        text-align: right;\n",
       "    }\n",
       "</style>\n",
       "<table border=\"1\" class=\"dataframe\">\n",
       "  <thead>\n",
       "    <tr style=\"text-align: right;\">\n",
       "      <th></th>\n",
       "      <th>title</th>\n",
       "      <th>lprice</th>\n",
       "      <th>link</th>\n",
       "      <th>mall</th>\n",
       "    </tr>\n",
       "  </thead>\n",
       "  <tbody>\n",
       "    <tr>\n",
       "      <th>995</th>\n",
       "      <td>몰스킨 PRO 12 월간 2023 위클리 Vertical 플래너 Hard 커버 A4...</td>\n",
       "      <td>73920</td>\n",
       "      <td>https://search.shopping.naver.com/gate.nhn?id=...</td>\n",
       "      <td>네이버</td>\n",
       "    </tr>\n",
       "    <tr>\n",
       "      <th>996</th>\n",
       "      <td>슈프림 몰스킨 워크 자켓 Supreme Moleskin Work Jacket FW22</td>\n",
       "      <td>307000</td>\n",
       "      <td>https://search.shopping.naver.com/gate.nhn?id=...</td>\n",
       "      <td>네이버</td>\n",
       "    </tr>\n",
       "    <tr>\n",
       "      <th>997</th>\n",
       "      <td>슈프림 몰스킨 워크 자켓 Supreme Moleskin Work Jacket FW22</td>\n",
       "      <td>392000</td>\n",
       "      <td>https://search.shopping.naver.com/gate.nhn?id=...</td>\n",
       "      <td>네이버</td>\n",
       "    </tr>\n",
       "    <tr>\n",
       "      <th>998</th>\n",
       "      <td>트레몰로 세정트레몰로 그레이쉬 몰스킨 바지 DLXF853154</td>\n",
       "      <td>66590</td>\n",
       "      <td>https://search.shopping.naver.com/gate.nhn?id=...</td>\n",
       "      <td>네이버</td>\n",
       "    </tr>\n",
       "    <tr>\n",
       "      <th>999</th>\n",
       "      <td>COS 코스 스트레이트 레그 코튼 몰스킨 팬츠 바지</td>\n",
       "      <td>139100</td>\n",
       "      <td>https://search.shopping.naver.com/gate.nhn?id=...</td>\n",
       "      <td>네이버</td>\n",
       "    </tr>\n",
       "  </tbody>\n",
       "</table>\n",
       "</div>"
      ],
      "text/plain": [
       "                                                 title  lprice  \\\n",
       "995  몰스킨 PRO 12 월간 2023 위클리 Vertical 플래너 Hard 커버 A4...   73920   \n",
       "996    슈프림 몰스킨 워크 자켓 Supreme Moleskin Work Jacket FW22  307000   \n",
       "997    슈프림 몰스킨 워크 자켓 Supreme Moleskin Work Jacket FW22  392000   \n",
       "998                 트레몰로 세정트레몰로 그레이쉬 몰스킨 바지 DLXF853154   66590   \n",
       "999                       COS 코스 스트레이트 레그 코튼 몰스킨 팬츠 바지  139100   \n",
       "\n",
       "                                                  link mall  \n",
       "995  https://search.shopping.naver.com/gate.nhn?id=...  네이버  \n",
       "996  https://search.shopping.naver.com/gate.nhn?id=...  네이버  \n",
       "997  https://search.shopping.naver.com/gate.nhn?id=...  네이버  \n",
       "998  https://search.shopping.naver.com/gate.nhn?id=...  네이버  \n",
       "999  https://search.shopping.naver.com/gate.nhn?id=...  네이버  "
      ]
     },
     "execution_count": 79,
     "metadata": {},
     "output_type": "execute_result"
    }
   ],
   "source": [
    "result_mol.tail()"
   ]
  },
  {
   "cell_type": "code",
   "execution_count": 80,
   "metadata": {},
   "outputs": [
    {
     "name": "stdout",
     "output_type": "stream",
     "text": [
      "<class 'pandas.core.frame.DataFrame'>\n",
      "RangeIndex: 1000 entries, 0 to 999\n",
      "Data columns (total 4 columns):\n",
      " #   Column  Non-Null Count  Dtype  \n",
      "---  ------  --------------  -----  \n",
      " 0   title   1000 non-null   object \n",
      " 1   lprice  1000 non-null   float64\n",
      " 2   link    1000 non-null   object \n",
      " 3   mall    1000 non-null   object \n",
      "dtypes: float64(1), object(3)\n",
      "memory usage: 31.4+ KB\n"
     ]
    }
   ],
   "source": [
    "result_mol[\"lprice\"] = result_mol[\"lprice\"].astype(\"float\")\n",
    "result_mol.info()"
   ]
  },
  {
   "cell_type": "markdown",
   "metadata": {},
   "source": [
    "## (6) to_excel() "
   ]
  },
  {
   "cell_type": "code",
   "execution_count": 82,
   "metadata": {},
   "outputs": [
    {
     "name": "stdout",
     "output_type": "stream",
     "text": [
      "Collecting xlsxwriter\n",
      "  Downloading XlsxWriter-3.1.2-py3-none-any.whl (153 kB)\n",
      "\u001b[2K     \u001b[90m━━━━━━━━━━━━━━━━━━━━━━━━━━━━━━━━━━━━━━━\u001b[0m \u001b[32m153.0/153.0 kB\u001b[0m \u001b[31m6.9 MB/s\u001b[0m eta \u001b[36m0:00:00\u001b[0m\n",
      "\u001b[?25hInstalling collected packages: xlsxwriter\n",
      "Successfully installed xlsxwriter-3.1.2\n",
      "\n",
      "\u001b[1m[\u001b[0m\u001b[34;49mnotice\u001b[0m\u001b[1;39;49m]\u001b[0m\u001b[39;49m A new release of pip is available: \u001b[0m\u001b[31;49m23.1.2\u001b[0m\u001b[39;49m -> \u001b[0m\u001b[32;49m23.2\u001b[0m\n",
      "\u001b[1m[\u001b[0m\u001b[34;49mnotice\u001b[0m\u001b[1;39;49m]\u001b[0m\u001b[39;49m To update, run: \u001b[0m\u001b[32;49mpip install --upgrade pip\u001b[0m\n"
     ]
    }
   ],
   "source": [
    "!pip install xlsxwriter"
   ]
  },
  {
   "cell_type": "code",
   "execution_count": 85,
   "metadata": {},
   "outputs": [
    {
     "name": "stderr",
     "output_type": "stream",
     "text": [
      "/var/folders/93/7k3h7y912r908nn6zty4dmrr0000gn/T/ipykernel_6594/1963247151.py:14: FutureWarning: save is not part of the public API, usage can give unexpected results and will be removed in a future version\n",
      "  writer.save()\n"
     ]
    }
   ],
   "source": [
    "writer = pd.ExcelWriter(\"../data/06_molskin_diary_in_naver_shop.xlsx\", engine=\"xlsxwriter\")\n",
    "result_mol.to_excel(writer, sheet_name=\"Sheet1\")\n",
    "\n",
    "workbook = writer.book \n",
    "worksheet = writer.sheets[\"Sheet1\"]\n",
    "worksheet.set_column(\"A:A\", 4)\n",
    "worksheet.set_column(\"B:B\", 60)\n",
    "worksheet.set_column(\"C:C\", 10)\n",
    "worksheet.set_column(\"D:D\", 10)\n",
    "worksheet.set_column(\"E:E\", 50)\n",
    "worksheet.set_column(\"F:F\", 10)\n",
    "\n",
    "worksheet.conditional_format(\"C2:C1001\", {\"type\": \"3_color_scale\"})\n",
    "writer.save()"
   ]
  },
  {
   "cell_type": "markdown",
   "metadata": {},
   "source": [
    "## (7) 시각화"
   ]
  },
  {
   "cell_type": "code",
   "execution_count": 96,
   "metadata": {},
   "outputs": [],
   "source": [
    "import matplotlib.pyplot as plt\n",
    "import seaborn as sns \n",
    "import platform\n",
    "from matplotlib import font_manager, rc\n",
    "\n",
    "get_ipython().run_line_magic(\"matplotlib\", \"inline\")\n",
    "\n",
    "path = \"C://Windows/Fonts/malgun.ttf\"\n",
    "\n",
    "if platform.system() == \"Darwin\":\n",
    "    rc('font', family=\"Arial Unicode MS\")\n",
    "elif platform.sys() == \"Windows\":\n",
    "    font_name = font_manager.Fontproperties(fname = path). get_name()\n",
    "    rc(\"font\", family, font_name)\n",
    "else:\n",
    "    print(\"Unknown system. Sorry\")"
   ]
  },
  {
   "cell_type": "code",
   "execution_count": 99,
   "metadata": {},
   "outputs": [
    {
     "data": {
      "image/png": "[encoded data removed]",
      "text/plain": [
       "<Figure size 1500x600 with 1 Axes>"
      ]
     },
     "metadata": {},
     "output_type": "display_data"
    }
   ],
   "source": [
    "plt.figure(figsize=(15, 6))\n",
    "sns.countplot(\n",
    "    x = result_mol[\"mall\"], \n",
    "    data=result_mol, \n",
    "    palette=\"RdYlGn\",\n",
    "    order=result_mol[\"mall\"].value_counts().index\n",
    ")\n",
    "plt.xticks(rotation=45)\n",
    "plt.show()"
   ]
  },
  {
   "cell_type": "code",
   "execution_count": null,
   "metadata": {},
   "outputs": [],
   "source": []
  },
  {
   "cell_type": "code",
   "execution_count": null,
   "metadata": {},
   "outputs": [],
   "source": []
  },
  {
   "cell_type": "code",
   "execution_count": null,
   "metadata": {},
   "outputs": [],
   "source": []
  },
  {
   "cell_type": "code",
   "execution_count": null,
   "metadata": {},
   "outputs": [],
   "source": []
  },
  {
   "cell_type": "code",
   "execution_count": null,
   "metadata": {},
   "outputs": [],
   "source": []
  },
  {
   "cell_type": "code",
   "execution_count": null,
   "metadata": {},
   "outputs": [],
   "source": []
  },
  {
   "cell_type": "code",
   "execution_count": null,
   "metadata": {},
   "outputs": [],
   "source": []
  },
  {
   "cell_type": "code",
   "execution_count": null,
   "metadata": {},
   "outputs": [],
   "source": []
  },
  {
   "cell_type": "code",
   "execution_count": null,
   "metadata": {},
   "outputs": [],
   "source": []
  },
  {
   "cell_type": "code",
   "execution_count": null,
   "metadata": {},
   "outputs": [],
   "source": []
  },
  {
   "cell_type": "code",
   "execution_count": null,
   "metadata": {},
   "outputs": [],
   "source": []
  },
  {
   "cell_type": "code",
   "execution_count": null,
   "metadata": {},
   "outputs": [],
   "source": []
  },
  {
   "cell_type": "code",
   "execution_count": null,
   "metadata": {},
   "outputs": [],
   "source": []
  },
  {
   "cell_type": "code",
   "execution_count": null,
   "metadata": {},
   "outputs": [],
   "source": []
  },
  {
   "cell_type": "code",
   "execution_count": null,
   "metadata": {},
   "outputs": [],
   "source": []
  },
  {
   "cell_type": "code",
   "execution_count": null,
   "metadata": {},
   "outputs": [],
   "source": []
  }
 ],
 "metadata": {
  "kernelspec": {
   "display_name": "ds_study",
   "language": "python",
   "name": "python3"
  },
  "language_info": {
   "codemirror_mode": {
    "name": "ipython",
    "version": 3
   },
   "file_extension": ".py",
   "mimetype": "text/x-python",
   "name": "python",
   "nbconvert_exporter": "python",
   "pygments_lexer": "ipython3",
   "version": "3.11.2"
  },
  "orig_nbformat": 4
 },
 "nbformat": 4,
 "nbformat_minor": 2
}
